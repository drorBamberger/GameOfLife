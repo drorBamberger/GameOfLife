{
 "cells": [
  {
   "cell_type": "markdown",
   "metadata": {},
   "source": [
    "# Conway's Reverse Game of Life 2020"
   ]
  },
  {
   "cell_type": "markdown",
   "metadata": {},
   "source": [
    "![Game of Life](https://i.ytimg.com/vi/4nCTgnbz2fM/maxresdefault.jpg)"
   ]
  },
  {
   "cell_type": "markdown",
   "metadata": {},
   "source": [
    "The Game of Life is, briefly, a two-dimensional cellular automata universe governed by a simple set of birth, death and survival rules. It was invented in 1970 by the Cambridge mathematician John Conway and popularized by a series of articles in \"Scientific American\" by Martin Gardner. Each of the cells in the 2d universe can be in one of two states: alive or dead. Beginning with any given initial pattern of live cells, one can employ Conway's rules in order to determine the behavior of the universe over any number of generations or time steps. Whether a cell survives, dies or comes into being is determined by the number of live neighbors the cell has. Each cell has eight possible neighbors (four on its sides, four on its corners)."
   ]
  },
  {
   "cell_type": "markdown",
   "metadata": {},
   "source": [
    "![life](https://www.researchgate.net/profile/Yan_Liu40/publication/274743186/figure/fig3/AS:667642776006657@1536189850143/Element-of-cellular-automata-CA-top-with-Conways-game-of-life-as-illustration.png)"
   ]
  },
  {
   "cell_type": "markdown",
   "metadata": {},
   "source": [
    "# Rules of the game"
   ]
  },
  {
   "cell_type": "markdown",
   "metadata": {},
   "source": [
    "1. Survival: if a live cell has two or three live neighbors, it survives.\n",
    "2. Death: if a live cell has less than two or more than three live neighbors, it dies.\n",
    "3. birth: if a dead cell has exactly three live neighbors, it is born.\n",
    "\n",
    "> When one employs these rules to any given initial pattern of live cells, the results can be startling. Complex behavior consisting of various Life forms, composed of several or more living cells, often occurs.\n",
    "\n",
    "> This is my first competition. If you find this notebook helpful, please upvote. Thank You."
   ]
  },
  {
   "cell_type": "markdown",
   "metadata": {},
   "source": [
    "# Importing necessary Libraries"
   ]
  },
  {
   "cell_type": "code",
   "execution_count": 1,
   "metadata": {
    "_cell_guid": "b1076dfc-b9ad-4769-8c92-a6c4dae69d19",
    "_uuid": "8f2839f25d086af736a60e9eeb907d3b93b6e0e5",
    "trusted": true
   },
   "outputs": [],
   "source": [
    "# This Python 3 environment comes with many helpful analytics libraries installed\n",
    "# It is defined by the kaggle/python Docker image: https://github.com/kaggle/docker-python\n",
    "# For example, here's several helpful packages to load\n",
    "from functions import *\n",
    "import numpy as np # linear algebra\n",
    "import pandas as pd # data processing, CSV file I/O (e.g. pd.read_csv)\n",
    "import keras as ks\n",
    "from keras.models import Sequential\n",
    "from keras.layers import Dense, Dropout, Conv2D, MaxPool2D, Conv2DTranspose, BatchNormalization\n",
    "from keras.callbacks import EarlyStopping, ModelCheckpoint\n",
    "from tqdm import tqdm\n",
    "import matplotlib.pyplot as plt\n",
    "%matplotlib inline\n",
    "# Input data files are available in the read-only \"../input/\" directory\n",
    "# For example, running this (by clicking run or pressing Shift+Enter) will list all files under the input directory\n",
    "%load_ext Cython\n",
    "import os\n",
    "for dirname, _, filenames in os.walk('/kaggle/input'):\n",
    "    for filename in filenames:\n",
    "        print(os.path.join(dirname, filename))\n",
    "\n",
    "# You can write up to 5GB to the current directory (/kaggle/working/) that gets preserved as output when you create a version using \"Save & Run All\" \n",
    "# You can also write temporary files to /kaggle/temp/, but they won't be saved outside of the current session"
   ]
  },
  {
   "cell_type": "code",
   "execution_count": 2,
   "metadata": {
    "_cell_guid": "79c7e3d0-c299-4dcb-8224-4455121ee9b0",
    "_uuid": "d629ff2d2480ee46fbb7e2d37f6b5fab8052498a",
    "trusted": true
   },
   "outputs": [],
   "source": [
    "sample = pd.read_csv(f'{PATH_DF}/conways-reverse-game-of-life-2020/sample_submission.csv')\n",
    "test = pd.read_csv(f'{PATH_DF}/conways-reverse-game-of-life-2020/test.csv')\n",
    "train = pd.read_csv(f'{PATH_DF}/conways-reverse-game-of-life-2020/train.csv')\n"
   ]
  },
  {
   "cell_type": "markdown",
   "metadata": {},
   "source": [
    "# Exploring Data"
   ]
  },
  {
   "cell_type": "code",
   "execution_count": 3,
   "metadata": {
    "trusted": true
   },
   "outputs": [
    {
     "data": {
      "text/plain": [
       "(50000, 1252)"
      ]
     },
     "execution_count": 3,
     "metadata": {},
     "output_type": "execute_result"
    }
   ],
   "source": [
    "train.shape"
   ]
  },
  {
   "cell_type": "code",
   "execution_count": 4,
   "metadata": {
    "trusted": true
   },
   "outputs": [
    {
     "data": {
      "text/html": [
       "<div>\n",
       "<style scoped>\n",
       "    .dataframe tbody tr th:only-of-type {\n",
       "        vertical-align: middle;\n",
       "    }\n",
       "\n",
       "    .dataframe tbody tr th {\n",
       "        vertical-align: top;\n",
       "    }\n",
       "\n",
       "    .dataframe thead th {\n",
       "        text-align: right;\n",
       "    }\n",
       "</style>\n",
       "<table border=\"1\" class=\"dataframe\">\n",
       "  <thead>\n",
       "    <tr style=\"text-align: right;\">\n",
       "      <th></th>\n",
       "      <th>id</th>\n",
       "      <th>delta</th>\n",
       "      <th>start_0</th>\n",
       "      <th>start_1</th>\n",
       "      <th>start_2</th>\n",
       "      <th>start_3</th>\n",
       "      <th>start_4</th>\n",
       "      <th>start_5</th>\n",
       "      <th>start_6</th>\n",
       "      <th>start_7</th>\n",
       "      <th>...</th>\n",
       "      <th>stop_615</th>\n",
       "      <th>stop_616</th>\n",
       "      <th>stop_617</th>\n",
       "      <th>stop_618</th>\n",
       "      <th>stop_619</th>\n",
       "      <th>stop_620</th>\n",
       "      <th>stop_621</th>\n",
       "      <th>stop_622</th>\n",
       "      <th>stop_623</th>\n",
       "      <th>stop_624</th>\n",
       "    </tr>\n",
       "  </thead>\n",
       "  <tbody>\n",
       "    <tr>\n",
       "      <th>0</th>\n",
       "      <td>0</td>\n",
       "      <td>3</td>\n",
       "      <td>0</td>\n",
       "      <td>0</td>\n",
       "      <td>0</td>\n",
       "      <td>0</td>\n",
       "      <td>1</td>\n",
       "      <td>0</td>\n",
       "      <td>0</td>\n",
       "      <td>0</td>\n",
       "      <td>...</td>\n",
       "      <td>0</td>\n",
       "      <td>0</td>\n",
       "      <td>0</td>\n",
       "      <td>0</td>\n",
       "      <td>0</td>\n",
       "      <td>0</td>\n",
       "      <td>0</td>\n",
       "      <td>0</td>\n",
       "      <td>0</td>\n",
       "      <td>0</td>\n",
       "    </tr>\n",
       "    <tr>\n",
       "      <th>1</th>\n",
       "      <td>1</td>\n",
       "      <td>4</td>\n",
       "      <td>0</td>\n",
       "      <td>0</td>\n",
       "      <td>0</td>\n",
       "      <td>0</td>\n",
       "      <td>1</td>\n",
       "      <td>0</td>\n",
       "      <td>0</td>\n",
       "      <td>0</td>\n",
       "      <td>...</td>\n",
       "      <td>0</td>\n",
       "      <td>0</td>\n",
       "      <td>0</td>\n",
       "      <td>1</td>\n",
       "      <td>0</td>\n",
       "      <td>0</td>\n",
       "      <td>0</td>\n",
       "      <td>0</td>\n",
       "      <td>0</td>\n",
       "      <td>0</td>\n",
       "    </tr>\n",
       "    <tr>\n",
       "      <th>2</th>\n",
       "      <td>2</td>\n",
       "      <td>3</td>\n",
       "      <td>0</td>\n",
       "      <td>1</td>\n",
       "      <td>0</td>\n",
       "      <td>0</td>\n",
       "      <td>0</td>\n",
       "      <td>0</td>\n",
       "      <td>0</td>\n",
       "      <td>1</td>\n",
       "      <td>...</td>\n",
       "      <td>0</td>\n",
       "      <td>0</td>\n",
       "      <td>0</td>\n",
       "      <td>1</td>\n",
       "      <td>0</td>\n",
       "      <td>0</td>\n",
       "      <td>0</td>\n",
       "      <td>0</td>\n",
       "      <td>0</td>\n",
       "      <td>0</td>\n",
       "    </tr>\n",
       "    <tr>\n",
       "      <th>3</th>\n",
       "      <td>3</td>\n",
       "      <td>5</td>\n",
       "      <td>0</td>\n",
       "      <td>1</td>\n",
       "      <td>1</td>\n",
       "      <td>0</td>\n",
       "      <td>0</td>\n",
       "      <td>0</td>\n",
       "      <td>0</td>\n",
       "      <td>0</td>\n",
       "      <td>...</td>\n",
       "      <td>0</td>\n",
       "      <td>0</td>\n",
       "      <td>0</td>\n",
       "      <td>0</td>\n",
       "      <td>0</td>\n",
       "      <td>0</td>\n",
       "      <td>0</td>\n",
       "      <td>0</td>\n",
       "      <td>1</td>\n",
       "      <td>0</td>\n",
       "    </tr>\n",
       "    <tr>\n",
       "      <th>4</th>\n",
       "      <td>4</td>\n",
       "      <td>1</td>\n",
       "      <td>0</td>\n",
       "      <td>0</td>\n",
       "      <td>0</td>\n",
       "      <td>1</td>\n",
       "      <td>1</td>\n",
       "      <td>0</td>\n",
       "      <td>0</td>\n",
       "      <td>0</td>\n",
       "      <td>...</td>\n",
       "      <td>0</td>\n",
       "      <td>0</td>\n",
       "      <td>0</td>\n",
       "      <td>0</td>\n",
       "      <td>1</td>\n",
       "      <td>0</td>\n",
       "      <td>0</td>\n",
       "      <td>0</td>\n",
       "      <td>0</td>\n",
       "      <td>0</td>\n",
       "    </tr>\n",
       "  </tbody>\n",
       "</table>\n",
       "<p>5 rows × 1252 columns</p>\n",
       "</div>"
      ],
      "text/plain": [
       "   id  delta  start_0  start_1  start_2  start_3  start_4  start_5  start_6  \\\n",
       "0   0      3        0        0        0        0        1        0        0   \n",
       "1   1      4        0        0        0        0        1        0        0   \n",
       "2   2      3        0        1        0        0        0        0        0   \n",
       "3   3      5        0        1        1        0        0        0        0   \n",
       "4   4      1        0        0        0        1        1        0        0   \n",
       "\n",
       "   start_7  ...  stop_615  stop_616  stop_617  stop_618  stop_619  stop_620  \\\n",
       "0        0  ...         0         0         0         0         0         0   \n",
       "1        0  ...         0         0         0         1         0         0   \n",
       "2        1  ...         0         0         0         1         0         0   \n",
       "3        0  ...         0         0         0         0         0         0   \n",
       "4        0  ...         0         0         0         0         1         0   \n",
       "\n",
       "   stop_621  stop_622  stop_623  stop_624  \n",
       "0         0         0         0         0  \n",
       "1         0         0         0         0  \n",
       "2         0         0         0         0  \n",
       "3         0         0         1         0  \n",
       "4         0         0         0         0  \n",
       "\n",
       "[5 rows x 1252 columns]"
      ]
     },
     "execution_count": 4,
     "metadata": {},
     "output_type": "execute_result"
    }
   ],
   "source": [
    "train.head()"
   ]
  },
  {
   "cell_type": "code",
   "execution_count": 5,
   "metadata": {
    "trusted": true
   },
   "outputs": [
    {
     "data": {
      "text/plain": [
       "50000"
      ]
     },
     "execution_count": 5,
     "metadata": {},
     "output_type": "execute_result"
    }
   ],
   "source": [
    "train.id.nunique()"
   ]
  },
  {
   "cell_type": "code",
   "execution_count": 6,
   "metadata": {
    "trusted": true
   },
   "outputs": [
    {
     "data": {
      "text/plain": [
       "delta\n",
       "1    10113\n",
       "2    10015\n",
       "4     9968\n",
       "3     9954\n",
       "5     9950\n",
       "Name: count, dtype: int64"
      ]
     },
     "execution_count": 6,
     "metadata": {},
     "output_type": "execute_result"
    }
   ],
   "source": [
    "train.delta.value_counts()"
   ]
  },
  {
   "cell_type": "code",
   "execution_count": 7,
   "metadata": {
    "trusted": true
   },
   "outputs": [
    {
     "data": {
      "text/plain": [
       "start_0\n",
       "0    42081\n",
       "1     7919\n",
       "Name: count, dtype: int64"
      ]
     },
     "execution_count": 7,
     "metadata": {},
     "output_type": "execute_result"
    }
   ],
   "source": [
    "train.start_0.value_counts()"
   ]
  },
  {
   "cell_type": "code",
   "execution_count": 8,
   "metadata": {
    "trusted": true
   },
   "outputs": [
    {
     "data": {
      "text/plain": [
       "stop_0\n",
       "0    42542\n",
       "1     7458\n",
       "Name: count, dtype: int64"
      ]
     },
     "execution_count": 8,
     "metadata": {},
     "output_type": "execute_result"
    }
   ],
   "source": [
    "train.stop_0.value_counts()"
   ]
  },
  {
   "cell_type": "code",
   "execution_count": 9,
   "metadata": {
    "trusted": true
   },
   "outputs": [
    {
     "data": {
      "text/html": [
       "<div>\n",
       "<style scoped>\n",
       "    .dataframe tbody tr th:only-of-type {\n",
       "        vertical-align: middle;\n",
       "    }\n",
       "\n",
       "    .dataframe tbody tr th {\n",
       "        vertical-align: top;\n",
       "    }\n",
       "\n",
       "    .dataframe thead th {\n",
       "        text-align: right;\n",
       "    }\n",
       "</style>\n",
       "<table border=\"1\" class=\"dataframe\">\n",
       "  <thead>\n",
       "    <tr style=\"text-align: right;\">\n",
       "      <th></th>\n",
       "      <th>id</th>\n",
       "      <th>start_0</th>\n",
       "      <th>start_1</th>\n",
       "      <th>start_2</th>\n",
       "      <th>start_3</th>\n",
       "      <th>start_4</th>\n",
       "      <th>start_5</th>\n",
       "      <th>start_6</th>\n",
       "      <th>start_7</th>\n",
       "      <th>start_8</th>\n",
       "      <th>...</th>\n",
       "      <th>start_615</th>\n",
       "      <th>start_616</th>\n",
       "      <th>start_617</th>\n",
       "      <th>start_618</th>\n",
       "      <th>start_619</th>\n",
       "      <th>start_620</th>\n",
       "      <th>start_621</th>\n",
       "      <th>start_622</th>\n",
       "      <th>start_623</th>\n",
       "      <th>start_624</th>\n",
       "    </tr>\n",
       "  </thead>\n",
       "  <tbody>\n",
       "    <tr>\n",
       "      <th>0</th>\n",
       "      <td>50000</td>\n",
       "      <td>0</td>\n",
       "      <td>0</td>\n",
       "      <td>0</td>\n",
       "      <td>0</td>\n",
       "      <td>0</td>\n",
       "      <td>0</td>\n",
       "      <td>0</td>\n",
       "      <td>0</td>\n",
       "      <td>0</td>\n",
       "      <td>...</td>\n",
       "      <td>0</td>\n",
       "      <td>0</td>\n",
       "      <td>0</td>\n",
       "      <td>0</td>\n",
       "      <td>0</td>\n",
       "      <td>0</td>\n",
       "      <td>0</td>\n",
       "      <td>0</td>\n",
       "      <td>0</td>\n",
       "      <td>0</td>\n",
       "    </tr>\n",
       "    <tr>\n",
       "      <th>1</th>\n",
       "      <td>50001</td>\n",
       "      <td>0</td>\n",
       "      <td>0</td>\n",
       "      <td>0</td>\n",
       "      <td>0</td>\n",
       "      <td>0</td>\n",
       "      <td>0</td>\n",
       "      <td>0</td>\n",
       "      <td>0</td>\n",
       "      <td>0</td>\n",
       "      <td>...</td>\n",
       "      <td>0</td>\n",
       "      <td>0</td>\n",
       "      <td>0</td>\n",
       "      <td>0</td>\n",
       "      <td>0</td>\n",
       "      <td>0</td>\n",
       "      <td>0</td>\n",
       "      <td>0</td>\n",
       "      <td>0</td>\n",
       "      <td>0</td>\n",
       "    </tr>\n",
       "    <tr>\n",
       "      <th>2</th>\n",
       "      <td>50002</td>\n",
       "      <td>0</td>\n",
       "      <td>0</td>\n",
       "      <td>0</td>\n",
       "      <td>0</td>\n",
       "      <td>0</td>\n",
       "      <td>0</td>\n",
       "      <td>0</td>\n",
       "      <td>0</td>\n",
       "      <td>0</td>\n",
       "      <td>...</td>\n",
       "      <td>0</td>\n",
       "      <td>0</td>\n",
       "      <td>0</td>\n",
       "      <td>0</td>\n",
       "      <td>0</td>\n",
       "      <td>0</td>\n",
       "      <td>0</td>\n",
       "      <td>0</td>\n",
       "      <td>0</td>\n",
       "      <td>0</td>\n",
       "    </tr>\n",
       "    <tr>\n",
       "      <th>3</th>\n",
       "      <td>50003</td>\n",
       "      <td>0</td>\n",
       "      <td>0</td>\n",
       "      <td>0</td>\n",
       "      <td>0</td>\n",
       "      <td>0</td>\n",
       "      <td>0</td>\n",
       "      <td>0</td>\n",
       "      <td>0</td>\n",
       "      <td>0</td>\n",
       "      <td>...</td>\n",
       "      <td>0</td>\n",
       "      <td>0</td>\n",
       "      <td>0</td>\n",
       "      <td>0</td>\n",
       "      <td>0</td>\n",
       "      <td>0</td>\n",
       "      <td>0</td>\n",
       "      <td>0</td>\n",
       "      <td>0</td>\n",
       "      <td>0</td>\n",
       "    </tr>\n",
       "    <tr>\n",
       "      <th>4</th>\n",
       "      <td>50004</td>\n",
       "      <td>0</td>\n",
       "      <td>0</td>\n",
       "      <td>0</td>\n",
       "      <td>0</td>\n",
       "      <td>0</td>\n",
       "      <td>0</td>\n",
       "      <td>0</td>\n",
       "      <td>0</td>\n",
       "      <td>0</td>\n",
       "      <td>...</td>\n",
       "      <td>0</td>\n",
       "      <td>0</td>\n",
       "      <td>0</td>\n",
       "      <td>0</td>\n",
       "      <td>0</td>\n",
       "      <td>0</td>\n",
       "      <td>0</td>\n",
       "      <td>0</td>\n",
       "      <td>0</td>\n",
       "      <td>0</td>\n",
       "    </tr>\n",
       "  </tbody>\n",
       "</table>\n",
       "<p>5 rows × 626 columns</p>\n",
       "</div>"
      ],
      "text/plain": [
       "      id  start_0  start_1  start_2  start_3  start_4  start_5  start_6  \\\n",
       "0  50000        0        0        0        0        0        0        0   \n",
       "1  50001        0        0        0        0        0        0        0   \n",
       "2  50002        0        0        0        0        0        0        0   \n",
       "3  50003        0        0        0        0        0        0        0   \n",
       "4  50004        0        0        0        0        0        0        0   \n",
       "\n",
       "   start_7  start_8  ...  start_615  start_616  start_617  start_618  \\\n",
       "0        0        0  ...          0          0          0          0   \n",
       "1        0        0  ...          0          0          0          0   \n",
       "2        0        0  ...          0          0          0          0   \n",
       "3        0        0  ...          0          0          0          0   \n",
       "4        0        0  ...          0          0          0          0   \n",
       "\n",
       "   start_619  start_620  start_621  start_622  start_623  start_624  \n",
       "0          0          0          0          0          0          0  \n",
       "1          0          0          0          0          0          0  \n",
       "2          0          0          0          0          0          0  \n",
       "3          0          0          0          0          0          0  \n",
       "4          0          0          0          0          0          0  \n",
       "\n",
       "[5 rows x 626 columns]"
      ]
     },
     "execution_count": 9,
     "metadata": {},
     "output_type": "execute_result"
    }
   ],
   "source": [
    "sample.head()"
   ]
  },
  {
   "cell_type": "code",
   "execution_count": 10,
   "metadata": {
    "trusted": true
   },
   "outputs": [
    {
     "data": {
      "text/html": [
       "<div>\n",
       "<style scoped>\n",
       "    .dataframe tbody tr th:only-of-type {\n",
       "        vertical-align: middle;\n",
       "    }\n",
       "\n",
       "    .dataframe tbody tr th {\n",
       "        vertical-align: top;\n",
       "    }\n",
       "\n",
       "    .dataframe thead th {\n",
       "        text-align: right;\n",
       "    }\n",
       "</style>\n",
       "<table border=\"1\" class=\"dataframe\">\n",
       "  <thead>\n",
       "    <tr style=\"text-align: right;\">\n",
       "      <th></th>\n",
       "      <th>id</th>\n",
       "      <th>start_0</th>\n",
       "      <th>start_1</th>\n",
       "      <th>start_2</th>\n",
       "      <th>start_3</th>\n",
       "      <th>start_4</th>\n",
       "      <th>start_5</th>\n",
       "      <th>start_6</th>\n",
       "      <th>start_7</th>\n",
       "      <th>start_8</th>\n",
       "      <th>...</th>\n",
       "      <th>start_615</th>\n",
       "      <th>start_616</th>\n",
       "      <th>start_617</th>\n",
       "      <th>start_618</th>\n",
       "      <th>start_619</th>\n",
       "      <th>start_620</th>\n",
       "      <th>start_621</th>\n",
       "      <th>start_622</th>\n",
       "      <th>start_623</th>\n",
       "      <th>start_624</th>\n",
       "    </tr>\n",
       "  </thead>\n",
       "  <tbody>\n",
       "    <tr>\n",
       "      <th>count</th>\n",
       "      <td>50000.000000</td>\n",
       "      <td>50000.0</td>\n",
       "      <td>50000.0</td>\n",
       "      <td>50000.0</td>\n",
       "      <td>50000.0</td>\n",
       "      <td>50000.0</td>\n",
       "      <td>50000.0</td>\n",
       "      <td>50000.0</td>\n",
       "      <td>50000.0</td>\n",
       "      <td>50000.0</td>\n",
       "      <td>...</td>\n",
       "      <td>50000.0</td>\n",
       "      <td>50000.0</td>\n",
       "      <td>50000.0</td>\n",
       "      <td>50000.0</td>\n",
       "      <td>50000.0</td>\n",
       "      <td>50000.0</td>\n",
       "      <td>50000.0</td>\n",
       "      <td>50000.0</td>\n",
       "      <td>50000.0</td>\n",
       "      <td>50000.0</td>\n",
       "    </tr>\n",
       "    <tr>\n",
       "      <th>mean</th>\n",
       "      <td>74999.500000</td>\n",
       "      <td>0.0</td>\n",
       "      <td>0.0</td>\n",
       "      <td>0.0</td>\n",
       "      <td>0.0</td>\n",
       "      <td>0.0</td>\n",
       "      <td>0.0</td>\n",
       "      <td>0.0</td>\n",
       "      <td>0.0</td>\n",
       "      <td>0.0</td>\n",
       "      <td>...</td>\n",
       "      <td>0.0</td>\n",
       "      <td>0.0</td>\n",
       "      <td>0.0</td>\n",
       "      <td>0.0</td>\n",
       "      <td>0.0</td>\n",
       "      <td>0.0</td>\n",
       "      <td>0.0</td>\n",
       "      <td>0.0</td>\n",
       "      <td>0.0</td>\n",
       "      <td>0.0</td>\n",
       "    </tr>\n",
       "    <tr>\n",
       "      <th>std</th>\n",
       "      <td>14433.901067</td>\n",
       "      <td>0.0</td>\n",
       "      <td>0.0</td>\n",
       "      <td>0.0</td>\n",
       "      <td>0.0</td>\n",
       "      <td>0.0</td>\n",
       "      <td>0.0</td>\n",
       "      <td>0.0</td>\n",
       "      <td>0.0</td>\n",
       "      <td>0.0</td>\n",
       "      <td>...</td>\n",
       "      <td>0.0</td>\n",
       "      <td>0.0</td>\n",
       "      <td>0.0</td>\n",
       "      <td>0.0</td>\n",
       "      <td>0.0</td>\n",
       "      <td>0.0</td>\n",
       "      <td>0.0</td>\n",
       "      <td>0.0</td>\n",
       "      <td>0.0</td>\n",
       "      <td>0.0</td>\n",
       "    </tr>\n",
       "    <tr>\n",
       "      <th>min</th>\n",
       "      <td>50000.000000</td>\n",
       "      <td>0.0</td>\n",
       "      <td>0.0</td>\n",
       "      <td>0.0</td>\n",
       "      <td>0.0</td>\n",
       "      <td>0.0</td>\n",
       "      <td>0.0</td>\n",
       "      <td>0.0</td>\n",
       "      <td>0.0</td>\n",
       "      <td>0.0</td>\n",
       "      <td>...</td>\n",
       "      <td>0.0</td>\n",
       "      <td>0.0</td>\n",
       "      <td>0.0</td>\n",
       "      <td>0.0</td>\n",
       "      <td>0.0</td>\n",
       "      <td>0.0</td>\n",
       "      <td>0.0</td>\n",
       "      <td>0.0</td>\n",
       "      <td>0.0</td>\n",
       "      <td>0.0</td>\n",
       "    </tr>\n",
       "    <tr>\n",
       "      <th>25%</th>\n",
       "      <td>62499.750000</td>\n",
       "      <td>0.0</td>\n",
       "      <td>0.0</td>\n",
       "      <td>0.0</td>\n",
       "      <td>0.0</td>\n",
       "      <td>0.0</td>\n",
       "      <td>0.0</td>\n",
       "      <td>0.0</td>\n",
       "      <td>0.0</td>\n",
       "      <td>0.0</td>\n",
       "      <td>...</td>\n",
       "      <td>0.0</td>\n",
       "      <td>0.0</td>\n",
       "      <td>0.0</td>\n",
       "      <td>0.0</td>\n",
       "      <td>0.0</td>\n",
       "      <td>0.0</td>\n",
       "      <td>0.0</td>\n",
       "      <td>0.0</td>\n",
       "      <td>0.0</td>\n",
       "      <td>0.0</td>\n",
       "    </tr>\n",
       "    <tr>\n",
       "      <th>50%</th>\n",
       "      <td>74999.500000</td>\n",
       "      <td>0.0</td>\n",
       "      <td>0.0</td>\n",
       "      <td>0.0</td>\n",
       "      <td>0.0</td>\n",
       "      <td>0.0</td>\n",
       "      <td>0.0</td>\n",
       "      <td>0.0</td>\n",
       "      <td>0.0</td>\n",
       "      <td>0.0</td>\n",
       "      <td>...</td>\n",
       "      <td>0.0</td>\n",
       "      <td>0.0</td>\n",
       "      <td>0.0</td>\n",
       "      <td>0.0</td>\n",
       "      <td>0.0</td>\n",
       "      <td>0.0</td>\n",
       "      <td>0.0</td>\n",
       "      <td>0.0</td>\n",
       "      <td>0.0</td>\n",
       "      <td>0.0</td>\n",
       "    </tr>\n",
       "    <tr>\n",
       "      <th>75%</th>\n",
       "      <td>87499.250000</td>\n",
       "      <td>0.0</td>\n",
       "      <td>0.0</td>\n",
       "      <td>0.0</td>\n",
       "      <td>0.0</td>\n",
       "      <td>0.0</td>\n",
       "      <td>0.0</td>\n",
       "      <td>0.0</td>\n",
       "      <td>0.0</td>\n",
       "      <td>0.0</td>\n",
       "      <td>...</td>\n",
       "      <td>0.0</td>\n",
       "      <td>0.0</td>\n",
       "      <td>0.0</td>\n",
       "      <td>0.0</td>\n",
       "      <td>0.0</td>\n",
       "      <td>0.0</td>\n",
       "      <td>0.0</td>\n",
       "      <td>0.0</td>\n",
       "      <td>0.0</td>\n",
       "      <td>0.0</td>\n",
       "    </tr>\n",
       "    <tr>\n",
       "      <th>max</th>\n",
       "      <td>99999.000000</td>\n",
       "      <td>0.0</td>\n",
       "      <td>0.0</td>\n",
       "      <td>0.0</td>\n",
       "      <td>0.0</td>\n",
       "      <td>0.0</td>\n",
       "      <td>0.0</td>\n",
       "      <td>0.0</td>\n",
       "      <td>0.0</td>\n",
       "      <td>0.0</td>\n",
       "      <td>...</td>\n",
       "      <td>0.0</td>\n",
       "      <td>0.0</td>\n",
       "      <td>0.0</td>\n",
       "      <td>0.0</td>\n",
       "      <td>0.0</td>\n",
       "      <td>0.0</td>\n",
       "      <td>0.0</td>\n",
       "      <td>0.0</td>\n",
       "      <td>0.0</td>\n",
       "      <td>0.0</td>\n",
       "    </tr>\n",
       "  </tbody>\n",
       "</table>\n",
       "<p>8 rows × 626 columns</p>\n",
       "</div>"
      ],
      "text/plain": [
       "                 id  start_0  start_1  start_2  start_3  start_4  start_5  \\\n",
       "count  50000.000000  50000.0  50000.0  50000.0  50000.0  50000.0  50000.0   \n",
       "mean   74999.500000      0.0      0.0      0.0      0.0      0.0      0.0   \n",
       "std    14433.901067      0.0      0.0      0.0      0.0      0.0      0.0   \n",
       "min    50000.000000      0.0      0.0      0.0      0.0      0.0      0.0   \n",
       "25%    62499.750000      0.0      0.0      0.0      0.0      0.0      0.0   \n",
       "50%    74999.500000      0.0      0.0      0.0      0.0      0.0      0.0   \n",
       "75%    87499.250000      0.0      0.0      0.0      0.0      0.0      0.0   \n",
       "max    99999.000000      0.0      0.0      0.0      0.0      0.0      0.0   \n",
       "\n",
       "       start_6  start_7  start_8  ...  start_615  start_616  start_617  \\\n",
       "count  50000.0  50000.0  50000.0  ...    50000.0    50000.0    50000.0   \n",
       "mean       0.0      0.0      0.0  ...        0.0        0.0        0.0   \n",
       "std        0.0      0.0      0.0  ...        0.0        0.0        0.0   \n",
       "min        0.0      0.0      0.0  ...        0.0        0.0        0.0   \n",
       "25%        0.0      0.0      0.0  ...        0.0        0.0        0.0   \n",
       "50%        0.0      0.0      0.0  ...        0.0        0.0        0.0   \n",
       "75%        0.0      0.0      0.0  ...        0.0        0.0        0.0   \n",
       "max        0.0      0.0      0.0  ...        0.0        0.0        0.0   \n",
       "\n",
       "       start_618  start_619  start_620  start_621  start_622  start_623  \\\n",
       "count    50000.0    50000.0    50000.0    50000.0    50000.0    50000.0   \n",
       "mean         0.0        0.0        0.0        0.0        0.0        0.0   \n",
       "std          0.0        0.0        0.0        0.0        0.0        0.0   \n",
       "min          0.0        0.0        0.0        0.0        0.0        0.0   \n",
       "25%          0.0        0.0        0.0        0.0        0.0        0.0   \n",
       "50%          0.0        0.0        0.0        0.0        0.0        0.0   \n",
       "75%          0.0        0.0        0.0        0.0        0.0        0.0   \n",
       "max          0.0        0.0        0.0        0.0        0.0        0.0   \n",
       "\n",
       "       start_624  \n",
       "count    50000.0  \n",
       "mean         0.0  \n",
       "std          0.0  \n",
       "min          0.0  \n",
       "25%          0.0  \n",
       "50%          0.0  \n",
       "75%          0.0  \n",
       "max          0.0  \n",
       "\n",
       "[8 rows x 626 columns]"
      ]
     },
     "execution_count": 10,
     "metadata": {},
     "output_type": "execute_result"
    }
   ],
   "source": [
    "sample.describe()"
   ]
  },
  {
   "cell_type": "code",
   "execution_count": 11,
   "metadata": {
    "trusted": true
   },
   "outputs": [
    {
     "data": {
      "text/html": [
       "<div>\n",
       "<style scoped>\n",
       "    .dataframe tbody tr th:only-of-type {\n",
       "        vertical-align: middle;\n",
       "    }\n",
       "\n",
       "    .dataframe tbody tr th {\n",
       "        vertical-align: top;\n",
       "    }\n",
       "\n",
       "    .dataframe thead th {\n",
       "        text-align: right;\n",
       "    }\n",
       "</style>\n",
       "<table border=\"1\" class=\"dataframe\">\n",
       "  <thead>\n",
       "    <tr style=\"text-align: right;\">\n",
       "      <th></th>\n",
       "      <th>id</th>\n",
       "      <th>delta</th>\n",
       "      <th>start_0</th>\n",
       "      <th>start_1</th>\n",
       "      <th>start_2</th>\n",
       "      <th>start_3</th>\n",
       "      <th>start_4</th>\n",
       "      <th>start_5</th>\n",
       "      <th>start_6</th>\n",
       "      <th>start_7</th>\n",
       "      <th>...</th>\n",
       "      <th>stop_615</th>\n",
       "      <th>stop_616</th>\n",
       "      <th>stop_617</th>\n",
       "      <th>stop_618</th>\n",
       "      <th>stop_619</th>\n",
       "      <th>stop_620</th>\n",
       "      <th>stop_621</th>\n",
       "      <th>stop_622</th>\n",
       "      <th>stop_623</th>\n",
       "      <th>stop_624</th>\n",
       "    </tr>\n",
       "  </thead>\n",
       "  <tbody>\n",
       "    <tr>\n",
       "      <th>count</th>\n",
       "      <td>50000.000000</td>\n",
       "      <td>50000.000000</td>\n",
       "      <td>50000.000000</td>\n",
       "      <td>50000.000000</td>\n",
       "      <td>50000.000000</td>\n",
       "      <td>50000.000000</td>\n",
       "      <td>50000.000000</td>\n",
       "      <td>50000.000000</td>\n",
       "      <td>50000.000000</td>\n",
       "      <td>50000.000000</td>\n",
       "      <td>...</td>\n",
       "      <td>50000.000000</td>\n",
       "      <td>50000.00000</td>\n",
       "      <td>50000.00000</td>\n",
       "      <td>50000.00000</td>\n",
       "      <td>50000.00000</td>\n",
       "      <td>50000.000000</td>\n",
       "      <td>50000.000000</td>\n",
       "      <td>50000.00000</td>\n",
       "      <td>50000.000000</td>\n",
       "      <td>50000.000000</td>\n",
       "    </tr>\n",
       "    <tr>\n",
       "      <th>mean</th>\n",
       "      <td>24999.500000</td>\n",
       "      <td>2.992540</td>\n",
       "      <td>0.158380</td>\n",
       "      <td>0.157860</td>\n",
       "      <td>0.157680</td>\n",
       "      <td>0.157760</td>\n",
       "      <td>0.157820</td>\n",
       "      <td>0.157940</td>\n",
       "      <td>0.160320</td>\n",
       "      <td>0.159320</td>\n",
       "      <td>...</td>\n",
       "      <td>0.147180</td>\n",
       "      <td>0.14598</td>\n",
       "      <td>0.14624</td>\n",
       "      <td>0.14668</td>\n",
       "      <td>0.14838</td>\n",
       "      <td>0.148860</td>\n",
       "      <td>0.145860</td>\n",
       "      <td>0.14620</td>\n",
       "      <td>0.149340</td>\n",
       "      <td>0.148040</td>\n",
       "    </tr>\n",
       "    <tr>\n",
       "      <th>std</th>\n",
       "      <td>14433.901067</td>\n",
       "      <td>1.415869</td>\n",
       "      <td>0.365101</td>\n",
       "      <td>0.364613</td>\n",
       "      <td>0.364444</td>\n",
       "      <td>0.364519</td>\n",
       "      <td>0.364576</td>\n",
       "      <td>0.364688</td>\n",
       "      <td>0.366906</td>\n",
       "      <td>0.365978</td>\n",
       "      <td>...</td>\n",
       "      <td>0.354289</td>\n",
       "      <td>0.35309</td>\n",
       "      <td>0.35335</td>\n",
       "      <td>0.35379</td>\n",
       "      <td>0.35548</td>\n",
       "      <td>0.355954</td>\n",
       "      <td>0.352969</td>\n",
       "      <td>0.35331</td>\n",
       "      <td>0.356427</td>\n",
       "      <td>0.355143</td>\n",
       "    </tr>\n",
       "    <tr>\n",
       "      <th>min</th>\n",
       "      <td>0.000000</td>\n",
       "      <td>1.000000</td>\n",
       "      <td>0.000000</td>\n",
       "      <td>0.000000</td>\n",
       "      <td>0.000000</td>\n",
       "      <td>0.000000</td>\n",
       "      <td>0.000000</td>\n",
       "      <td>0.000000</td>\n",
       "      <td>0.000000</td>\n",
       "      <td>0.000000</td>\n",
       "      <td>...</td>\n",
       "      <td>0.000000</td>\n",
       "      <td>0.00000</td>\n",
       "      <td>0.00000</td>\n",
       "      <td>0.00000</td>\n",
       "      <td>0.00000</td>\n",
       "      <td>0.000000</td>\n",
       "      <td>0.000000</td>\n",
       "      <td>0.00000</td>\n",
       "      <td>0.000000</td>\n",
       "      <td>0.000000</td>\n",
       "    </tr>\n",
       "    <tr>\n",
       "      <th>25%</th>\n",
       "      <td>12499.750000</td>\n",
       "      <td>2.000000</td>\n",
       "      <td>0.000000</td>\n",
       "      <td>0.000000</td>\n",
       "      <td>0.000000</td>\n",
       "      <td>0.000000</td>\n",
       "      <td>0.000000</td>\n",
       "      <td>0.000000</td>\n",
       "      <td>0.000000</td>\n",
       "      <td>0.000000</td>\n",
       "      <td>...</td>\n",
       "      <td>0.000000</td>\n",
       "      <td>0.00000</td>\n",
       "      <td>0.00000</td>\n",
       "      <td>0.00000</td>\n",
       "      <td>0.00000</td>\n",
       "      <td>0.000000</td>\n",
       "      <td>0.000000</td>\n",
       "      <td>0.00000</td>\n",
       "      <td>0.000000</td>\n",
       "      <td>0.000000</td>\n",
       "    </tr>\n",
       "    <tr>\n",
       "      <th>50%</th>\n",
       "      <td>24999.500000</td>\n",
       "      <td>3.000000</td>\n",
       "      <td>0.000000</td>\n",
       "      <td>0.000000</td>\n",
       "      <td>0.000000</td>\n",
       "      <td>0.000000</td>\n",
       "      <td>0.000000</td>\n",
       "      <td>0.000000</td>\n",
       "      <td>0.000000</td>\n",
       "      <td>0.000000</td>\n",
       "      <td>...</td>\n",
       "      <td>0.000000</td>\n",
       "      <td>0.00000</td>\n",
       "      <td>0.00000</td>\n",
       "      <td>0.00000</td>\n",
       "      <td>0.00000</td>\n",
       "      <td>0.000000</td>\n",
       "      <td>0.000000</td>\n",
       "      <td>0.00000</td>\n",
       "      <td>0.000000</td>\n",
       "      <td>0.000000</td>\n",
       "    </tr>\n",
       "    <tr>\n",
       "      <th>75%</th>\n",
       "      <td>37499.250000</td>\n",
       "      <td>4.000000</td>\n",
       "      <td>0.000000</td>\n",
       "      <td>0.000000</td>\n",
       "      <td>0.000000</td>\n",
       "      <td>0.000000</td>\n",
       "      <td>0.000000</td>\n",
       "      <td>0.000000</td>\n",
       "      <td>0.000000</td>\n",
       "      <td>0.000000</td>\n",
       "      <td>...</td>\n",
       "      <td>0.000000</td>\n",
       "      <td>0.00000</td>\n",
       "      <td>0.00000</td>\n",
       "      <td>0.00000</td>\n",
       "      <td>0.00000</td>\n",
       "      <td>0.000000</td>\n",
       "      <td>0.000000</td>\n",
       "      <td>0.00000</td>\n",
       "      <td>0.000000</td>\n",
       "      <td>0.000000</td>\n",
       "    </tr>\n",
       "    <tr>\n",
       "      <th>max</th>\n",
       "      <td>49999.000000</td>\n",
       "      <td>5.000000</td>\n",
       "      <td>1.000000</td>\n",
       "      <td>1.000000</td>\n",
       "      <td>1.000000</td>\n",
       "      <td>1.000000</td>\n",
       "      <td>1.000000</td>\n",
       "      <td>1.000000</td>\n",
       "      <td>1.000000</td>\n",
       "      <td>1.000000</td>\n",
       "      <td>...</td>\n",
       "      <td>1.000000</td>\n",
       "      <td>1.00000</td>\n",
       "      <td>1.00000</td>\n",
       "      <td>1.00000</td>\n",
       "      <td>1.00000</td>\n",
       "      <td>1.000000</td>\n",
       "      <td>1.000000</td>\n",
       "      <td>1.00000</td>\n",
       "      <td>1.000000</td>\n",
       "      <td>1.000000</td>\n",
       "    </tr>\n",
       "  </tbody>\n",
       "</table>\n",
       "<p>8 rows × 1252 columns</p>\n",
       "</div>"
      ],
      "text/plain": [
       "                 id         delta       start_0       start_1       start_2  \\\n",
       "count  50000.000000  50000.000000  50000.000000  50000.000000  50000.000000   \n",
       "mean   24999.500000      2.992540      0.158380      0.157860      0.157680   \n",
       "std    14433.901067      1.415869      0.365101      0.364613      0.364444   \n",
       "min        0.000000      1.000000      0.000000      0.000000      0.000000   \n",
       "25%    12499.750000      2.000000      0.000000      0.000000      0.000000   \n",
       "50%    24999.500000      3.000000      0.000000      0.000000      0.000000   \n",
       "75%    37499.250000      4.000000      0.000000      0.000000      0.000000   \n",
       "max    49999.000000      5.000000      1.000000      1.000000      1.000000   \n",
       "\n",
       "            start_3       start_4       start_5       start_6       start_7  \\\n",
       "count  50000.000000  50000.000000  50000.000000  50000.000000  50000.000000   \n",
       "mean       0.157760      0.157820      0.157940      0.160320      0.159320   \n",
       "std        0.364519      0.364576      0.364688      0.366906      0.365978   \n",
       "min        0.000000      0.000000      0.000000      0.000000      0.000000   \n",
       "25%        0.000000      0.000000      0.000000      0.000000      0.000000   \n",
       "50%        0.000000      0.000000      0.000000      0.000000      0.000000   \n",
       "75%        0.000000      0.000000      0.000000      0.000000      0.000000   \n",
       "max        1.000000      1.000000      1.000000      1.000000      1.000000   \n",
       "\n",
       "       ...      stop_615     stop_616     stop_617     stop_618     stop_619  \\\n",
       "count  ...  50000.000000  50000.00000  50000.00000  50000.00000  50000.00000   \n",
       "mean   ...      0.147180      0.14598      0.14624      0.14668      0.14838   \n",
       "std    ...      0.354289      0.35309      0.35335      0.35379      0.35548   \n",
       "min    ...      0.000000      0.00000      0.00000      0.00000      0.00000   \n",
       "25%    ...      0.000000      0.00000      0.00000      0.00000      0.00000   \n",
       "50%    ...      0.000000      0.00000      0.00000      0.00000      0.00000   \n",
       "75%    ...      0.000000      0.00000      0.00000      0.00000      0.00000   \n",
       "max    ...      1.000000      1.00000      1.00000      1.00000      1.00000   \n",
       "\n",
       "           stop_620      stop_621     stop_622      stop_623      stop_624  \n",
       "count  50000.000000  50000.000000  50000.00000  50000.000000  50000.000000  \n",
       "mean       0.148860      0.145860      0.14620      0.149340      0.148040  \n",
       "std        0.355954      0.352969      0.35331      0.356427      0.355143  \n",
       "min        0.000000      0.000000      0.00000      0.000000      0.000000  \n",
       "25%        0.000000      0.000000      0.00000      0.000000      0.000000  \n",
       "50%        0.000000      0.000000      0.00000      0.000000      0.000000  \n",
       "75%        0.000000      0.000000      0.00000      0.000000      0.000000  \n",
       "max        1.000000      1.000000      1.00000      1.000000      1.000000  \n",
       "\n",
       "[8 rows x 1252 columns]"
      ]
     },
     "execution_count": 11,
     "metadata": {},
     "output_type": "execute_result"
    }
   ],
   "source": [
    "train.describe()"
   ]
  },
  {
   "cell_type": "code",
   "execution_count": 12,
   "metadata": {
    "trusted": true
   },
   "outputs": [],
   "source": [
    "sample_start_1 = train.loc[1, train.columns.str.startswith('start')]\n",
    "sample_stop_1 = train.loc[1, train.columns.str.startswith('stop')]"
   ]
  },
  {
   "cell_type": "code",
   "execution_count": 13,
   "metadata": {
    "trusted": true
   },
   "outputs": [],
   "source": [
    "sample_start_1 = np.asarray(sample_start_1).reshape(25, 25)\n",
    "sample_stop_1 = np.asarray(sample_stop_1).reshape(25, 25)"
   ]
  },
  {
   "cell_type": "code",
   "execution_count": 14,
   "metadata": {
    "trusted": true
   },
   "outputs": [
    {
     "data": {
      "image/png": "[encoded data removed]",
      "text/plain": [
       "<Figure size 5400x2100 with 4 Axes>"
      ]
     },
     "metadata": {},
     "output_type": "display_data"
    }
   ],
   "source": [
    "fig, ax = plt.subplots(1, 2, figsize=(18, 7), dpi=300)\n",
    "ax[0] = plt.subplot2grid((1,2), (0,0), colspan=1)\n",
    "ax[1] = plt.subplot2grid((1,2), (0,1), colspan=1)\n",
    "ax[0].imshow(sample_start_1)\n",
    "ax[0].set_title('Start Board 1')\n",
    "ax[1].imshow(sample_stop_1)\n",
    "ax[1].set_title(f'Board after 1 time step')\n",
    "plt.show()"
   ]
  },
  {
   "cell_type": "markdown",
   "metadata": {},
   "source": [
    "# Check for imbalance in data"
   ]
  },
  {
   "cell_type": "code",
   "execution_count": 15,
   "metadata": {
    "trusted": true
   },
   "outputs": [
    {
     "data": {
      "text/plain": [
       "stop_538       7093\n",
       "stop_325       7109\n",
       "stop_530       7109\n",
       "stop_209       7116\n",
       "stop_247       7118\n",
       "              ...  \n",
       "start_619      8125\n",
       "start_360      8129\n",
       "start_218      8162\n",
       "start_377      8182\n",
       "delta        149627\n",
       "Length: 1251, dtype: int64"
      ]
     },
     "execution_count": 15,
     "metadata": {},
     "output_type": "execute_result"
    }
   ],
   "source": [
    "train.sum()[1:].sort_values()"
   ]
  },
  {
   "cell_type": "markdown",
   "metadata": {},
   "source": [
    "There is no such imbalance visible in the dataset. Imbalance could have caused some shake-up in the end."
   ]
  },
  {
   "cell_type": "code",
   "execution_count": 16,
   "metadata": {
    "trusted": true
   },
   "outputs": [
    {
     "data": {
      "text/html": [
       "<div>\n",
       "<style scoped>\n",
       "    .dataframe tbody tr th:only-of-type {\n",
       "        vertical-align: middle;\n",
       "    }\n",
       "\n",
       "    .dataframe tbody tr th {\n",
       "        vertical-align: top;\n",
       "    }\n",
       "\n",
       "    .dataframe thead th {\n",
       "        text-align: right;\n",
       "    }\n",
       "</style>\n",
       "<table border=\"1\" class=\"dataframe\">\n",
       "  <thead>\n",
       "    <tr style=\"text-align: right;\">\n",
       "      <th></th>\n",
       "      <th>id</th>\n",
       "      <th>delta</th>\n",
       "      <th>start_0</th>\n",
       "      <th>start_1</th>\n",
       "      <th>start_2</th>\n",
       "      <th>start_3</th>\n",
       "      <th>start_4</th>\n",
       "      <th>start_5</th>\n",
       "      <th>start_6</th>\n",
       "      <th>start_7</th>\n",
       "      <th>...</th>\n",
       "      <th>stop_615</th>\n",
       "      <th>stop_616</th>\n",
       "      <th>stop_617</th>\n",
       "      <th>stop_618</th>\n",
       "      <th>stop_619</th>\n",
       "      <th>stop_620</th>\n",
       "      <th>stop_621</th>\n",
       "      <th>stop_622</th>\n",
       "      <th>stop_623</th>\n",
       "      <th>stop_624</th>\n",
       "    </tr>\n",
       "  </thead>\n",
       "  <tbody>\n",
       "    <tr>\n",
       "      <th>0</th>\n",
       "      <td>0</td>\n",
       "      <td>3</td>\n",
       "      <td>0</td>\n",
       "      <td>0</td>\n",
       "      <td>0</td>\n",
       "      <td>0</td>\n",
       "      <td>1</td>\n",
       "      <td>0</td>\n",
       "      <td>0</td>\n",
       "      <td>0</td>\n",
       "      <td>...</td>\n",
       "      <td>0</td>\n",
       "      <td>0</td>\n",
       "      <td>0</td>\n",
       "      <td>0</td>\n",
       "      <td>0</td>\n",
       "      <td>0</td>\n",
       "      <td>0</td>\n",
       "      <td>0</td>\n",
       "      <td>0</td>\n",
       "      <td>0</td>\n",
       "    </tr>\n",
       "  </tbody>\n",
       "</table>\n",
       "<p>1 rows × 1252 columns</p>\n",
       "</div>"
      ],
      "text/plain": [
       "   id  delta  start_0  start_1  start_2  start_3  start_4  start_5  start_6  \\\n",
       "0   0      3        0        0        0        0        1        0        0   \n",
       "\n",
       "   start_7  ...  stop_615  stop_616  stop_617  stop_618  stop_619  stop_620  \\\n",
       "0        0  ...         0         0         0         0         0         0   \n",
       "\n",
       "   stop_621  stop_622  stop_623  stop_624  \n",
       "0         0         0         0         0  \n",
       "\n",
       "[1 rows x 1252 columns]"
      ]
     },
     "execution_count": 16,
     "metadata": {},
     "output_type": "execute_result"
    }
   ],
   "source": [
    "train[:1]"
   ]
  },
  {
   "cell_type": "code",
   "execution_count": 17,
   "metadata": {
    "trusted": true
   },
   "outputs": [],
   "source": [
    "gs=train[:1][[col for col in train.columns if 'start' in col]].values.reshape(-1,1)"
   ]
  },
  {
   "cell_type": "code",
   "execution_count": 18,
   "metadata": {
    "trusted": true
   },
   "outputs": [
    {
     "data": {
      "text/plain": [
       "[<matplotlib.lines.Line2D at 0x1f0e7ad49d0>]"
      ]
     },
     "execution_count": 18,
     "metadata": {},
     "output_type": "execute_result"
    },
    {
     "data": {
      "image/png": "[encoded data removed]",
      "text/plain": [
       "<Figure size 640x480 with 1 Axes>"
      ]
     },
     "metadata": {},
     "output_type": "display_data"
    }
   ],
   "source": [
    "plt.plot(gs)"
   ]
  },
  {
   "cell_type": "code",
   "execution_count": 19,
   "metadata": {
    "trusted": true
   },
   "outputs": [
    {
     "data": {
      "text/plain": [
       "<Axes: ylabel='Frequency'>"
      ]
     },
     "execution_count": 19,
     "metadata": {},
     "output_type": "execute_result"
    },
    {
     "data": {
      "image/png": "[encoded data removed]",
      "text/plain": [
       "<Figure size 640x480 with 1 Axes>"
      ]
     },
     "metadata": {},
     "output_type": "display_data"
    }
   ],
   "source": [
    "train['start_0'].plot(kind='hist')"
   ]
  },
  {
   "cell_type": "code",
   "execution_count": 20,
   "metadata": {
    "trusted": true
   },
   "outputs": [
    {
     "data": {
      "text/plain": [
       "<Axes: ylabel='Frequency'>"
      ]
     },
     "execution_count": 20,
     "metadata": {},
     "output_type": "execute_result"
    },
    {
     "data": {
      "image/png": "[encoded data removed]",
      "text/plain": [
       "<Figure size 640x480 with 1 Axes>"
      ]
     },
     "metadata": {},
     "output_type": "display_data"
    }
   ],
   "source": [
    "train['stop_0'].plot(kind='hist')"
   ]
  },
  {
   "cell_type": "code",
   "execution_count": 21,
   "metadata": {
    "trusted": true
   },
   "outputs": [
    {
     "data": {
      "image/png": "[encoded data removed]",
      "text/plain": [
       "<Figure size 640x480 with 1 Axes>"
      ]
     },
     "metadata": {},
     "output_type": "display_data"
    }
   ],
   "source": [
    "train.delta.value_counts().plot(kind='bar')\n",
    "plt.title('Delta Distribution')\n",
    "plt.grid()\n",
    "plt.show()"
   ]
  },
  {
   "cell_type": "code",
   "execution_count": 22,
   "metadata": {
    "trusted": true
   },
   "outputs": [
    {
     "data": {
      "text/plain": [
       "(50000, 627)"
      ]
     },
     "execution_count": 22,
     "metadata": {},
     "output_type": "execute_result"
    }
   ],
   "source": [
    "test.shape"
   ]
  },
  {
   "cell_type": "code",
   "execution_count": 23,
   "metadata": {
    "trusted": true
   },
   "outputs": [
    {
     "data": {
      "image/png": "[encoded data removed]",
      "text/plain": [
       "<Figure size 640x480 with 1 Axes>"
      ]
     },
     "metadata": {},
     "output_type": "display_data"
    }
   ],
   "source": [
    "test_sum = test.copy()\n",
    "test_sum = test_sum.drop(['id','delta'], axis=1)\n",
    "active_count = test_sum.sum(axis=1)\n",
    "active_count\n",
    "plt.hist(active_count.values,50)\n",
    "plt.grid()\n",
    "plt.title('Number of active cells')\n",
    "plt.show()"
   ]
  },
  {
   "cell_type": "markdown",
   "metadata": {},
   "source": [
    "# CNN using Cython and Conv2D  [Reference](https://github.com/ptyshevs)"
   ]
  },
  {
   "cell_type": "code",
   "execution_count": 24,
   "metadata": {
    "trusted": true
   },
   "outputs": [],
   "source": [
    "%%cython\n",
    "cimport cython\n",
    "import numpy as np\n",
    "\n",
    "@cython.cdivision(True)\n",
    "@cython.boundscheck(False)\n",
    "@cython.nonecheck(False)\n",
    "@cython.wraparound(False)\n",
    "cdef int calc_neighs(unsigned char[:, :] field, int i, int j, int n, int k):\n",
    "    cdef:\n",
    "        int neighs = 0;\n",
    "        int i_min = i - 1;\n",
    "        int i_pl = i + 1;\n",
    "        int j_min = j - 1;\n",
    "        int j_pl = j + 1;\n",
    "    neighs = 0\n",
    "    if i_min >= 0:\n",
    "        if j_min >= 0:\n",
    "            neighs += field[i_min, j_min]\n",
    "        neighs += field[i_min, j]\n",
    "        if j_pl < k:\n",
    "            neighs += field[i_min, j_pl]\n",
    "    if j_min >= 0:\n",
    "        neighs += field[i, j_min]\n",
    "    if j_pl < k:\n",
    "        neighs += field[i, j_pl]\n",
    "    if i_pl < n:\n",
    "        if j_min >= 0:\n",
    "            neighs += field[i_pl, j_min]\n",
    "        neighs += field[i_pl, j]\n",
    "        if j_pl < k:\n",
    "            neighs += field[i_pl, j_pl]\n",
    "    return neighs\n",
    "\n",
    "@cython.cdivision(True)\n",
    "@cython.boundscheck(False)\n",
    "@cython.nonecheck(False)\n",
    "@cython.wraparound(False)\n",
    "cpdef make_move(unsigned char[:, :] field, int moves):\n",
    "    cdef:\n",
    "        int _, i, j, neighs;\n",
    "        int n, k;\n",
    "        int switch = 0;\n",
    "        unsigned char[:, :] cur_field;\n",
    "        unsigned char[:, :] next_field;\n",
    "    cur_field = np.copy(field)\n",
    "    next_field = np.zeros_like(field, 'uint8')\n",
    "    n = field.shape[0]\n",
    "    k = field.shape[1]\n",
    "    for _ in range(moves):\n",
    "        if switch == 0:\n",
    "            for i in range(n):\n",
    "                for j in range(k):\n",
    "                    neighs = calc_neighs(cur_field, i, j, n, k)\n",
    "                    if cur_field[i, j] and neighs == 2:\n",
    "                        next_field[i, j] = 1\n",
    "                    elif neighs == 3:\n",
    "                        next_field[i, j] = 1\n",
    "                    else:\n",
    "                        next_field[i, j] = 0\n",
    "        else:\n",
    "            for i in range(n):\n",
    "                for j in range(k):\n",
    "                    neighs = calc_neighs(next_field, i, j, n, k)\n",
    "                    if next_field[i, j] and neighs == 2:\n",
    "                        cur_field[i, j] = 1\n",
    "                    elif neighs == 3:\n",
    "                        cur_field[i, j] = 1\n",
    "                    else:\n",
    "                        cur_field[i, j] = 0\n",
    "        switch = (switch + 1) % 2\n",
    "    return np.array(next_field if switch else cur_field)"
   ]
  },
  {
   "cell_type": "code",
   "execution_count": 25,
   "metadata": {
    "trusted": true
   },
   "outputs": [],
   "source": [
    "NROW, NCOL = 25, 25\n",
    "\n",
    "def generate_samples(delta=1, n=32):\n",
    "    batch = np.split(np.random.binomial(1, 0.5, (NROW * n, NCOL)).astype('uint8'), n)\n",
    "    Yy = [life.make_move(state, 5) for state in batch]\n",
    "    Xx = [life.make_move(state, 1) for state in Yy]\n",
    "    Y = np.array([y.ravel() for y in Yy])\n",
    "    X = np.array([x.ravel() for x in Xx])\n",
    "    return X, Y\n",
    "    \n",
    "def data_generator(delta=1, batch_size=32, ravel=True):\n",
    "    while True:\n",
    "        batch = np.split(np.random.binomial(1, 0.5, (NROW * batch_size, NCOL)).astype('uint8'),\n",
    "                         batch_size)\n",
    "        Yy = [make_move(state, 5) for state in batch]\n",
    "        Xx = [make_move(state, delta) for state in Yy]\n",
    "\n",
    "        if ravel:\n",
    "            Y = np.array([y.ravel() for y in Yy])\n",
    "            X = np.array([x.ravel() for x in Xx])\n",
    "            yield X, Y\n",
    "        else:\n",
    "            yield np.array(Xx)[:,:, :, np.newaxis], np.array(Yy)[:, :, :, np.newaxis]"
   ]
  },
  {
   "cell_type": "code",
   "execution_count": 26,
   "metadata": {
    "trusted": true
   },
   "outputs": [],
   "source": [
    "def create_model(n_hidden_convs=2, n_hidden_filters=128, kernel_size=5):\n",
    "    nn = Sequential()\n",
    "    nn.add(Conv2D(n_hidden_filters, kernel_size, padding='same', activation='relu',\n",
    "                  input_shape=(25, 25, 1)))\n",
    "    nn.add(BatchNormalization())\n",
    "    for i in range(n_hidden_convs):\n",
    "        nn.add(Conv2D(n_hidden_filters, kernel_size, padding='same', activation='relu'))\n",
    "        nn.add(BatchNormalization())\n",
    "    nn.add(Conv2D(1, kernel_size, padding='same', activation='sigmoid'))\n",
    "    nn.compile(optimizer='adam', loss='binary_crossentropy', metrics=['accuracy'])\n",
    "    return nn"
   ]
  },
  {
   "cell_type": "code",
   "execution_count": 27,
   "metadata": {
    "trusted": true
   },
   "outputs": [
    {
     "name": "stderr",
     "output_type": "stream",
     "text": [
      "c:\\Users\\דרור\\AppData\\Local\\Programs\\Python\\Python310\\lib\\site-packages\\keras\\src\\layers\\convolutional\\base_conv.py:107: UserWarning: Do not pass an `input_shape`/`input_dim` argument to a layer. When using Sequential models, prefer using an `Input(shape)` object as the first layer in the model instead.\n",
      "  super().__init__(activity_regularizer=activity_regularizer, **kwargs)\n"
     ]
    },
    {
     "ename": "AttributeError",
     "evalue": "'Sequential' object has no attribute 'fit_generator'",
     "output_type": "error",
     "traceback": [
      "\u001b[1;31m---------------------------------------------------------------------------\u001b[0m",
      "\u001b[1;31mAttributeError\u001b[0m                            Traceback (most recent call last)",
      "Cell \u001b[1;32mIn[27], line 5\u001b[0m\n\u001b[0;32m      3\u001b[0m model \u001b[38;5;241m=\u001b[39m create_model(n_hidden_convs\u001b[38;5;241m=\u001b[39m\u001b[38;5;241m6\u001b[39m, n_hidden_filters\u001b[38;5;241m=\u001b[39m\u001b[38;5;241m256\u001b[39m)\n\u001b[0;32m      4\u001b[0m es \u001b[38;5;241m=\u001b[39m EarlyStopping(monitor\u001b[38;5;241m=\u001b[39m\u001b[38;5;124m'\u001b[39m\u001b[38;5;124mloss\u001b[39m\u001b[38;5;124m'\u001b[39m, patience\u001b[38;5;241m=\u001b[39m\u001b[38;5;241m9\u001b[39m, min_delta\u001b[38;5;241m=\u001b[39m\u001b[38;5;241m0.001\u001b[39m)\n\u001b[1;32m----> 5\u001b[0m \u001b[43mmodel\u001b[49m\u001b[38;5;241;43m.\u001b[39;49m\u001b[43mfit_generator\u001b[49m(data_generator(delta\u001b[38;5;241m=\u001b[39mdelta, ravel\u001b[38;5;241m=\u001b[39m\u001b[38;5;28;01mFalse\u001b[39;00m), \n\u001b[0;32m      6\u001b[0m                     steps_per_epoch\u001b[38;5;241m=\u001b[39m\u001b[38;5;241m500\u001b[39m, epochs\u001b[38;5;241m=\u001b[39m\u001b[38;5;241m50\u001b[39m, verbose\u001b[38;5;241m=\u001b[39m\u001b[38;5;241m1\u001b[39m, callbacks\u001b[38;5;241m=\u001b[39m[es])\n\u001b[0;32m      7\u001b[0m models\u001b[38;5;241m.\u001b[39mappend(model)\n",
      "\u001b[1;31mAttributeError\u001b[0m: 'Sequential' object has no attribute 'fit_generator'"
     ]
    }
   ],
   "source": [
    "models = []\n",
    "for delta in range(1, 6):\n",
    "    model = create_model(n_hidden_convs=6, n_hidden_filters=256)\n",
    "    es = EarlyStopping(monitor='loss', patience=9, min_delta=0.001)\n",
    "    model.fit_generator(data_generator(delta=delta, ravel=False), \n",
    "                        steps_per_epoch=500, epochs=50, verbose=1, callbacks=[es])\n",
    "    models.append(model)"
   ]
  },
  {
   "cell_type": "code",
   "execution_count": null,
   "metadata": {
    "trusted": true
   },
   "outputs": [],
   "source": [
    "test = pd.read_csv('../input/conways-reverse-game-of-life-2020/test.csv', index_col='id')"
   ]
  },
  {
   "cell_type": "code",
   "execution_count": null,
   "metadata": {
    "trusted": true
   },
   "outputs": [],
   "source": [
    "submit_df = pd.DataFrame(index=test.index, columns=['start_' + str(i) for i in range(625)])"
   ]
  },
  {
   "cell_type": "code",
   "execution_count": null,
   "metadata": {
    "trusted": true
   },
   "outputs": [],
   "source": [
    "for delta in range(1, 6):\n",
    "    mod = models[delta-1]\n",
    "    delta_df = test[test.delta == delta].iloc[:, 1:].values.reshape(-1, 25, 25, 1)\n",
    "    submit_df[test.delta == delta] = mod.predict(delta_df).reshape(-1, 625).round(0).astype('uint8')"
   ]
  },
  {
   "cell_type": "code",
   "execution_count": null,
   "metadata": {
    "trusted": true
   },
   "outputs": [],
   "source": [
    "submit_df.to_csv('submission.csv')"
   ]
  }
 ],
 "metadata": {
  "kernelspec": {
   "display_name": "Python 3",
   "language": "python",
   "name": "python3"
  },
  "language_info": {
   "codemirror_mode": {
    "name": "ipython",
    "version": 3
   },
   "file_extension": ".py",
   "mimetype": "text/x-python",
   "name": "python",
   "nbconvert_exporter": "python",
   "pygments_lexer": "ipython3",
   "version": "3.10.11"
  }
 },
 "nbformat": 4,
 "nbformat_minor": 4
}
