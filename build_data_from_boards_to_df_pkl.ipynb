{
 "cells": [
  {
   "cell_type": "code",
   "execution_count": 111,
   "metadata": {},
   "outputs": [],
   "source": [
    "import numpy as np\n",
    "import pandas as pd\n",
    "from functions import *\n",
    "from read_from_file_df import *\n",
    "from itertools import product"
   ]
  },
  {
   "cell_type": "code",
   "execution_count": 112,
   "metadata": {},
   "outputs": [],
   "source": [
    "def sort_df(length, df):\n",
    "    df = df.drop_duplicates().reset_index(drop=True)\n",
    "\n",
    "    new_columns = [f'Col_{i}' for i in range(1, length + 1)]\n",
    "    df_sort = df.sort_values(by = new_columns).reset_index(drop=True)\n",
    "    for i in df_sort.columns:\n",
    "        df_sort[i] = df_sort[i].astype(int)\n",
    "        \n",
    "    return df_sort"
   ]
  },
  {
   "cell_type": "code",
   "execution_count": 113,
   "metadata": {},
   "outputs": [],
   "source": [
    "\n",
    "def build_data_to_df(size,amount_boards,amount_moves,num_dict,ignore_range,path,gen,reverse):\n",
    "    os.makedirs(f'{path}\\\\{size}-{amount_boards}',exist_ok=True)\n",
    "    df2 = split_board_to_series_df(size,amount_boards,amount_moves,num_dict,gen,ignore_range,reverse)\n",
    "    df2_sort = sort_df(gen*size*size, df2)\n",
    "    if reverse==True:\n",
    "        name_df = f'{path}\\\\{size}-{amount_boards}\\\\{size}size_{amount_boards}boards_{gen}gen_reverse'\n",
    "    else:\n",
    "        name_df = f'{path}\\\\{size}-{amount_boards}\\\\{size}size_{amount_boards}boards_{gen}gen_non-reverse'\n",
    "    df2_sort.to_pickle(f'{name_df}.pkl')\n",
    "    print(\"\\nfinish build df \",gen, reverse)"
   ]
  },
  {
   "cell_type": "code",
   "execution_count": 114,
   "metadata": {},
   "outputs": [],
   "source": [
    "def split_board_to_series_df(size, amount_boards, amount_moves, num_dict, amount_board_in_series, ignore_range, reverse = False):\n",
    "    new_columns = [f'Col_{i}' for i in range(1, amount_board_in_series*size*size + 1)]\n",
    "    res_df = pd.DataFrame(columns=new_columns)\n",
    "\n",
    "    for i in range(amount_boards):\n",
    "        print_big_numbers(i)\n",
    "        # path to read\n",
    "        path_file = path(size, i, amount_moves, num_dict, amount_boards)\n",
    "        # read the file\n",
    "        df = read_file_to_df(path_file, size)\n",
    "        #after we delete the repeat boards, we split the board to series\n",
    "        if(len(df)>ignore_range):\n",
    "            df = df[ignore_range:].drop_duplicates().reset_index(drop=True)\n",
    "            new_row = df\n",
    "            for _ in range(amount_board_in_series-1):\n",
    "                new_col = df.iloc[1:].reset_index(drop=True)\n",
    "                df = df.iloc[1:].reset_index(drop=True)\n",
    "                if reverse==False:\n",
    "                    new_row = pd.concat([new_row.iloc[:-1],new_col],axis=1)\n",
    "                else:\n",
    "                    new_row = pd.concat([new_col,new_row.iloc[:-1]],axis=1)\n",
    "            new_row.columns = new_columns\n",
    "            res_df = pd.concat([res_df,new_row])\n",
    "    return res_df"
   ]
  },
  {
   "cell_type": "code",
   "execution_count": 115,
   "metadata": {},
   "outputs": [],
   "source": [
    "def path(size, number, amount_moves, num_dict, amount_boards):\n",
    "    return f\"boards_{size}_{amount_boards}_{amount_moves}_{num_dict}\\\\{str(number % num_dict)}\\\\{str(size)}-{str(number)}-{str(amount_moves)}boards.bnr\""
   ]
  },
  {
   "cell_type": "code",
   "execution_count": 116,
   "metadata": {},
   "outputs": [],
   "source": [
    "def read_file_to_df(pathFile, size):\n",
    "    # Define the file path\n",
    "    #path_file = 'C:\\\\GameOfLife\\\\boards\\\\' + path(SIZE, READ_FILE, AMOUNT_MOVES, NUM_DICT)\n",
    "    path_file = PATH_BOARDS + pathFile\n",
    "\n",
    "    # Read binary data into a numpy array of 8-bit integers\n",
    "    binary_data = np.fromfile(path_file, dtype=np.uint8)\n",
    "\n",
    "    # Convert each integer to its binary representation\n",
    "    binary_data_binary_repr = np.array([list(np.binary_repr(x, width=8)) for x in binary_data], dtype=np.uint8).flatten()\n",
    "\n",
    "    # Calculate the total number of elements in each game board\n",
    "    board_elements = size**2\n",
    "\n",
    "    # Calculate the number of boards in the file\n",
    "    num_boards = len(binary_data_binary_repr) // board_elements\n",
    "\n",
    "    # Reshape the binary data to create a 3D array with dimensions (num_boards, board_size[0], board_size[1])\n",
    "    boards_data = binary_data_binary_repr[:num_boards * board_elements].reshape((num_boards, size, size))\n",
    "\n",
    "    # Create a list of column names based on the board size\n",
    "    column_names = [f'({i},{j})' for i in range(size) for j in range(size)]\n",
    "\n",
    "    return pd.DataFrame(boards_data.reshape((num_boards, board_elements)), columns=column_names)"
   ]
  },
  {
   "cell_type": "code",
   "execution_count": 117,
   "metadata": {},
   "outputs": [
    {
     "name": "stdout",
     "output_type": "stream",
     "text": [
      "2 True\n",
      "0 \n",
      "50 100 150 200 250 300 350 400 450 500 550 600 650 700 750 800 850 900 950 \n",
      "finish build df  2 True\n",
      "2 False\n",
      "0 \n",
      "50 100 150 200 250 300 350 400 450 500 550 600 650 700 750 800 850 900 950 \n",
      "finish build df  2 False\n",
      "3 True\n",
      "0 \n",
      "50 100 150 200 250 300 350 400 450 500 550 600 650 700 750 800 850 900 950 \n",
      "finish build df  3 True\n",
      "3 False\n",
      "0 \n",
      "50 100 150 200 250 300 350 400 450 500 550 600 650 700 750 800 850 900 950 \n",
      "finish build df  3 False\n",
      "4 True\n",
      "0 \n",
      "50 100 150 200 250 300 350 400 450 500 550 600 650 700 750 800 850 900 950 \n",
      "finish build df  4 True\n",
      "4 False\n",
      "0 \n",
      "50 100 150 200 250 300 350 400 450 500 550 600 650 700 750 800 850 900 950 \n",
      "finish build df  4 False\n"
     ]
    }
   ],
   "source": [
    "SIZE = 4\n",
    "AMOUNT_BOARDS = 1000\n",
    "AMOUNT_MOVES = 100\n",
    "NUM_DICT = 1\n",
    "for gen,reverse in product(range(2,5),[True,False]):\n",
    "    print(gen,reverse)\n",
    "    build_data_to_df(SIZE, AMOUNT_BOARDS, AMOUNT_MOVES, NUM_DICT, IGNORE_RANGE, PATH_DF, gen, reverse)"
   ]
  }
 ],
 "metadata": {
  "kernelspec": {
   "display_name": "Python 3",
   "language": "python",
   "name": "python3"
  },
  "language_info": {
   "codemirror_mode": {
    "name": "ipython",
    "version": 3
   },
   "file_extension": ".py",
   "mimetype": "text/x-python",
   "name": "python",
   "nbconvert_exporter": "python",
   "pygments_lexer": "ipython3",
   "version": "3.10.11"
  }
 },
 "nbformat": 4,
 "nbformat_minor": 2
}
