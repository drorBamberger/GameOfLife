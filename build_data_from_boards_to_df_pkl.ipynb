{
 "cells": [
  {
   "cell_type": "code",
   "execution_count": 5,
   "metadata": {},
   "outputs": [],
   "source": [
    "import numpy as np\n",
    "import pandas as pd\n",
    "from functions import *\n",
    "from read_from_file_df import *\n",
    "from itertools import product"
   ]
  },
  {
   "cell_type": "code",
   "execution_count": 6,
   "metadata": {},
   "outputs": [],
   "source": [
    "def sort_df(length, df):\n",
    "    df = df.drop_duplicates().reset_index(drop=True)\n",
    "\n",
    "    new_columns = [f'Col_{i}' for i in range(1, length + 1)]\n",
    "    df_sort = df.sort_values(by = new_columns).reset_index(drop=True)\n",
    "    for i in df_sort.columns:\n",
    "        df_sort[i] = df_sort[i].astype(int)\n",
    "        \n",
    "    return df_sort"
   ]
  },
  {
   "cell_type": "code",
   "execution_count": 7,
   "metadata": {},
   "outputs": [],
   "source": [
    "def build_data_to_df(size,amount_boards,amount_moves,num_dict,ignore_range,path,gen,reverse):\n",
    "    os.makedirs(f'{path}\\\\{size}-{amount_boards}',exist_ok=True)\n",
    "    df2 = split_board_to_series_df(size,amount_boards,amount_moves,num_dict,gen,ignore_range,reverse)\n",
    "    df2_sort = sort_df(gen*size*size, df2)\n",
    "    if reverse==True:\n",
    "        name_df = f'{path}\\\\{size}-{amount_boards}\\\\{size}size_{amount_boards}boards_{gen}gen_reverse'\n",
    "    else:\n",
    "        name_df = f'{path}\\\\{size}-{amount_boards}\\\\{size}size_{amount_boards}boards_{gen}gen_non-reverse'\n",
    "    df2_sort.to_pickle(f'{name_df}.pkl')\n",
    "    print(\"\\nfinish build df \",gen, reverse)"
   ]
  },
  {
   "cell_type": "code",
   "execution_count": 8,
   "metadata": {},
   "outputs": [
    {
     "name": "stdout",
     "output_type": "stream",
     "text": [
      "2 True\n",
      "0 \n",
      "50 100 150 200 250 300 350 400 450 500 550 600 650 700 750 800 850 900 950 \n",
      "finish build df  2 True\n",
      "2 False\n",
      "0 \n",
      "50 100 150 200 250 300 350 400 450 500 550 600 650 700 750 800 850 900 950 \n",
      "finish build df  2 False\n",
      "3 True\n",
      "0 \n",
      "50 100 150 200 250 300 350 400 450 500 550 600 650 700 750 800 850 900 950 \n",
      "finish build df  3 True\n",
      "3 False\n",
      "0 \n",
      "50 100 150 200 250 300 350 400 450 500 550 600 650 700 750 800 850 900 950 \n",
      "finish build df  3 False\n",
      "4 True\n",
      "0 \n",
      "50 100 150 200 250 300 350 400 450 500 550 600 650 700 750 800 850 900 950 \n",
      "finish build df  4 True\n",
      "4 False\n",
      "0 \n",
      "50 100 150 200 250 300 350 400 450 500 550 600 650 700 750 800 850 900 950 \n",
      "finish build df  4 False\n"
     ]
    }
   ],
   "source": [
    "SIZE = 10\n",
    "AMOUNT_BOARDS = 1000\n",
    "AMOUNT_MOVES = 100\n",
    "NUM_DICT = 1\n",
    "for gen,reverse in product(range(2,5),[True,False]):\n",
    "    print(gen,reverse)\n",
    "    build_data_to_df(SIZE, AMOUNT_BOARDS, AMOUNT_MOVES, NUM_DICT, IGNORE_RANGE, PATH_DF, gen, reverse)"
   ]
  }
 ],
 "metadata": {
  "kernelspec": {
   "display_name": "Python 3",
   "language": "python",
   "name": "python3"
  },
  "language_info": {
   "codemirror_mode": {
    "name": "ipython",
    "version": 3
   },
   "file_extension": ".py",
   "mimetype": "text/x-python",
   "name": "python",
   "nbconvert_exporter": "python",
   "pygments_lexer": "ipython3",
   "version": "3.10.11"
  }
 },
 "nbformat": 4,
 "nbformat_minor": 2
}
