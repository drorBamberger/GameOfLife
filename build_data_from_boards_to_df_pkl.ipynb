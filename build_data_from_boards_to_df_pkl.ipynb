{
 "cells": [
  {
   "cell_type": "code",
   "execution_count": 1,
   "metadata": {},
   "outputs": [
    {
     "ename": "ModuleNotFoundError",
     "evalue": "No module named 'split_df_to_mini_boards'",
     "output_type": "error",
     "traceback": [
      "\u001b[1;31m---------------------------------------------------------------------------\u001b[0m",
      "\u001b[1;31mModuleNotFoundError\u001b[0m                       Traceback (most recent call last)",
      "Cell \u001b[1;32mIn[1], line 6\u001b[0m\n\u001b[0;32m      4\u001b[0m \u001b[38;5;28;01mfrom\u001b[39;00m \u001b[38;5;21;01mread_from_file_df\u001b[39;00m \u001b[38;5;28;01mimport\u001b[39;00m \u001b[38;5;241m*\u001b[39m\n\u001b[0;32m      5\u001b[0m \u001b[38;5;28;01mfrom\u001b[39;00m \u001b[38;5;21;01mitertools\u001b[39;00m \u001b[38;5;28;01mimport\u001b[39;00m product\n\u001b[1;32m----> 6\u001b[0m \u001b[38;5;28;01mfrom\u001b[39;00m \u001b[38;5;21;01msplit_df_to_mini_boards\u001b[39;00m \u001b[38;5;28;01mimport\u001b[39;00m \u001b[38;5;241m*\u001b[39m\n",
      "\u001b[1;31mModuleNotFoundError\u001b[0m: No module named 'split_df_to_mini_boards'"
     ]
    }
   ],
   "source": [
    "import numpy as np\n",
    "import pandas as pd\n",
    "from functions import *\n",
    "from read_from_file_df import *\n",
    "from itertools import product\n",
    "from split_df_to_mini_boards import *"
   ]
  },
  {
   "cell_type": "code",
   "execution_count": 6,
   "metadata": {},
   "outputs": [],
   "source": [
    "def sort_df(length, df):\n",
    "    df = df.drop_duplicates().reset_index(drop=True)\n",
    "\n",
    "    new_columns = [f'Col_{i}' for i in range(1, length + 1)]\n",
    "    df_sort = df.sort_values(by = new_columns).reset_index(drop=True)\n",
    "    for i in df_sort.columns:\n",
    "        df_sort[i] = df_sort[i].astype(int)\n",
    "        \n",
    "    return df_sort"
   ]
  },
  {
   "cell_type": "code",
   "execution_count": 7,
   "metadata": {},
   "outputs": [],
   "source": [
    "def build_data_to_df(size,amount_boards,amount_moves,num_dict,ignore_range,path,gen,reverse):\n",
    "    os.makedirs(f'{path}\\\\{size}-{amount_boards}',exist_ok=True)\n",
    "    df2 = split_board_to_series_df(size,amount_boards,amount_moves,num_dict,gen,ignore_range,reverse)\n",
    "    df2_sort = sort_df(gen*size*size, df2)\n",
    "    if reverse==True:\n",
    "        name_df = f'{path}\\\\{size}-{amount_boards}\\\\{size}size_{amount_boards}boards_{gen}gen_reverse'\n",
    "    else:\n",
    "        name_df = f'{path}\\\\{size}-{amount_boards}\\\\{size}size_{amount_boards}boards_{gen}gen_non-reverse'\n",
    "    df2_sort.to_pickle(f'{name_df}.pkl')\n",
    "    print(\"\\nfinish build df \",gen, reverse)"
   ]
  },
  {
   "cell_type": "code",
   "execution_count": null,
   "metadata": {},
   "outputs": [],
   "source": [
    "def build_mini_boards_from_data(size,amount_boards,amount_moves,num_dict,ignore_range,path,gen,reverse):\n",
    "    new_columns = [f'Col_{i}' for i in range(1, SPLIT_SIZE*SPLIT_SIZE*gen)]\n",
    "    dfs = []\n",
    "    for pixel in range(SIZE*SIZE):\n",
    "        res_df = pd.DataFrame(columns=new_columns)\n",
    "        for i, row in reverse_df.iterrows():\n",
    "            print_big_numbers(i)\n",
    "            selected_pixels = generate_split_indexes_numbers(SIZE,SPLIT_SIZE,pixel)\n",
    "            new_row = extract_selected_columns(SIZE, row, selected_pixels)\n",
    "            res_df = pd.concat([res_df,new_row])\n",
    "        dfs.append(res_df)"
   ]
  },
  {
   "cell_type": "code",
   "execution_count": 8,
   "metadata": {},
   "outputs": [
    {
     "name": "stdout",
     "output_type": "stream",
     "text": [
      "2 True\n",
      "0 \n",
      "50 100 150 200 250 300 350 400 450 500 550 600 650 700 750 800 850 900 950 \n",
      "finish build df  2 True\n",
      "2 False\n",
      "0 \n",
      "50 100 150 200 250 300 350 400 450 500 550 600 650 700 750 800 850 900 950 \n",
      "finish build df  2 False\n",
      "3 True\n",
      "0 \n",
      "50 100 150 200 250 300 350 400 450 500 550 600 650 700 750 800 850 900 950 \n",
      "finish build df  3 True\n",
      "3 False\n",
      "0 \n",
      "50 100 150 200 250 300 350 400 450 500 550 600 650 700 750 800 850 900 950 \n",
      "finish build df  3 False\n",
      "4 True\n",
      "0 \n",
      "50 100 150 200 250 300 350 400 450 500 550 600 650 700 750 800 850 900 950 \n",
      "finish build df  4 True\n",
      "4 False\n",
      "0 \n",
      "50 100 150 200 250 300 350 400 450 500 550 600 650 700 750 800 850 900 950 \n",
      "finish build df  4 False\n"
     ]
    }
   ],
   "source": [
    "SIZE = 10\n",
    "AMOUNT_BOARDS = 1000\n",
    "AMOUNT_MOVES = 100\n",
    "NUM_DICT = 1\n",
    "for gen,reverse in product(range(2,5),[True,False]):\n",
    "    print(gen,reverse)\n",
    "    build_data_to_df(SIZE, AMOUNT_BOARDS, AMOUNT_MOVES, NUM_DICT, IGNORE_RANGE, PATH_DF, gen, reverse)"
   ]
  }
 ],
 "metadata": {
  "kernelspec": {
   "display_name": "Python 3",
   "language": "python",
   "name": "python3"
  },
  "language_info": {
   "codemirror_mode": {
    "name": "ipython",
    "version": 3
   },
   "file_extension": ".py",
   "mimetype": "text/x-python",
   "name": "python",
   "nbconvert_exporter": "python",
   "pygments_lexer": "ipython3",
   "version": "3.10.11"
  }
 },
 "nbformat": 4,
 "nbformat_minor": 2
}
