{
 "cells": [
  {
   "cell_type": "markdown",
   "metadata": {},
   "source": [
    "# first attempt - simple reverse prediction"
   ]
  },
  {
   "cell_type": "code",
   "execution_count": 46,
   "metadata": {},
   "outputs": [],
   "source": [
    "import numpy as np\n",
    "import pandas as pd\n",
    "from functions import *\n",
    "from read_from_file_df import *\n",
    "import pickle\n",
    "from sklearn.model_selection import train_test_split\n",
    "from sklearn.tree import DecisionTreeClassifier\n",
    "from sklearn.metrics import accuracy_score"
   ]
  },
  {
   "cell_type": "code",
   "execution_count": 47,
   "metadata": {},
   "outputs": [],
   "source": [
    "SIZE = 4\n",
    "AMOUNT_BOARDS = 1000\n",
    "AMOUNT_MOVES = 100\n",
    "NUM_DICT = 1"
   ]
  },
  {
   "cell_type": "code",
   "execution_count": 48,
   "metadata": {},
   "outputs": [
    {
     "ename": "FileNotFoundError",
     "evalue": "[Errno 2] No such file or directory: 'C:\\\\GameOfLifeFiles\\\\df\\\\\\\\4-1000\\\\4size_1000boards_2gen_reverse.pkl'",
     "output_type": "error",
     "traceback": [
      "\u001b[1;31m---------------------------------------------------------------------------\u001b[0m",
      "\u001b[1;31mFileNotFoundError\u001b[0m                         Traceback (most recent call last)",
      "Cell \u001b[1;32mIn[48], line 3\u001b[0m\n\u001b[0;32m      1\u001b[0m gen \u001b[38;5;241m=\u001b[39m \u001b[38;5;241m2\u001b[39m\n\u001b[0;32m      2\u001b[0m name_df \u001b[38;5;241m=\u001b[39m \u001b[38;5;124mf\u001b[39m\u001b[38;5;124m'\u001b[39m\u001b[38;5;132;01m{\u001b[39;00mPATH_DF\u001b[38;5;132;01m}\u001b[39;00m\u001b[38;5;130;01m\\\\\u001b[39;00m\u001b[38;5;132;01m{\u001b[39;00mSIZE\u001b[38;5;132;01m}\u001b[39;00m\u001b[38;5;124m-\u001b[39m\u001b[38;5;132;01m{\u001b[39;00mAMOUNT_BOARDS\u001b[38;5;132;01m}\u001b[39;00m\u001b[38;5;130;01m\\\\\u001b[39;00m\u001b[38;5;132;01m{\u001b[39;00mSIZE\u001b[38;5;132;01m}\u001b[39;00m\u001b[38;5;124msize_\u001b[39m\u001b[38;5;132;01m{\u001b[39;00mAMOUNT_BOARDS\u001b[38;5;132;01m}\u001b[39;00m\u001b[38;5;124mboards_\u001b[39m\u001b[38;5;132;01m{\u001b[39;00mgen\u001b[38;5;132;01m}\u001b[39;00m\u001b[38;5;124mgen_reverse\u001b[39m\u001b[38;5;124m'\u001b[39m\n\u001b[1;32m----> 3\u001b[0m reverse_df \u001b[38;5;241m=\u001b[39m \u001b[43mpd\u001b[49m\u001b[38;5;241;43m.\u001b[39;49m\u001b[43mread_pickle\u001b[49m\u001b[43m(\u001b[49m\u001b[38;5;124;43mf\u001b[39;49m\u001b[38;5;124;43m'\u001b[39;49m\u001b[38;5;132;43;01m{\u001b[39;49;00m\u001b[43mname_df\u001b[49m\u001b[38;5;132;43;01m}\u001b[39;49;00m\u001b[38;5;124;43m.pkl\u001b[39;49m\u001b[38;5;124;43m'\u001b[39;49m\u001b[43m)\u001b[49m\n",
      "File \u001b[1;32mc:\\Users\\דרור\\AppData\\Local\\Programs\\Python\\Python310\\lib\\site-packages\\pandas\\io\\pickle.py:185\u001b[0m, in \u001b[0;36mread_pickle\u001b[1;34m(filepath_or_buffer, compression, storage_options)\u001b[0m\n\u001b[0;32m    123\u001b[0m \u001b[38;5;250m\u001b[39m\u001b[38;5;124;03m\"\"\"\u001b[39;00m\n\u001b[0;32m    124\u001b[0m \u001b[38;5;124;03mLoad pickled pandas object (or any object) from file.\u001b[39;00m\n\u001b[0;32m    125\u001b[0m \n\u001b[1;32m   (...)\u001b[0m\n\u001b[0;32m    182\u001b[0m \u001b[38;5;124;03m4    4    9\u001b[39;00m\n\u001b[0;32m    183\u001b[0m \u001b[38;5;124;03m\"\"\"\u001b[39;00m\n\u001b[0;32m    184\u001b[0m excs_to_catch \u001b[38;5;241m=\u001b[39m (\u001b[38;5;167;01mAttributeError\u001b[39;00m, \u001b[38;5;167;01mImportError\u001b[39;00m, \u001b[38;5;167;01mModuleNotFoundError\u001b[39;00m, \u001b[38;5;167;01mTypeError\u001b[39;00m)\n\u001b[1;32m--> 185\u001b[0m \u001b[38;5;28;01mwith\u001b[39;00m \u001b[43mget_handle\u001b[49m\u001b[43m(\u001b[49m\n\u001b[0;32m    186\u001b[0m \u001b[43m    \u001b[49m\u001b[43mfilepath_or_buffer\u001b[49m\u001b[43m,\u001b[49m\n\u001b[0;32m    187\u001b[0m \u001b[43m    \u001b[49m\u001b[38;5;124;43m\"\u001b[39;49m\u001b[38;5;124;43mrb\u001b[39;49m\u001b[38;5;124;43m\"\u001b[39;49m\u001b[43m,\u001b[49m\n\u001b[0;32m    188\u001b[0m \u001b[43m    \u001b[49m\u001b[43mcompression\u001b[49m\u001b[38;5;241;43m=\u001b[39;49m\u001b[43mcompression\u001b[49m\u001b[43m,\u001b[49m\n\u001b[0;32m    189\u001b[0m \u001b[43m    \u001b[49m\u001b[43mis_text\u001b[49m\u001b[38;5;241;43m=\u001b[39;49m\u001b[38;5;28;43;01mFalse\u001b[39;49;00m\u001b[43m,\u001b[49m\n\u001b[0;32m    190\u001b[0m \u001b[43m    \u001b[49m\u001b[43mstorage_options\u001b[49m\u001b[38;5;241;43m=\u001b[39;49m\u001b[43mstorage_options\u001b[49m\u001b[43m,\u001b[49m\n\u001b[0;32m    191\u001b[0m \u001b[43m\u001b[49m\u001b[43m)\u001b[49m \u001b[38;5;28;01mas\u001b[39;00m handles:\n\u001b[0;32m    192\u001b[0m     \u001b[38;5;66;03m# 1) try standard library Pickle\u001b[39;00m\n\u001b[0;32m    193\u001b[0m     \u001b[38;5;66;03m# 2) try pickle_compat (older pandas version) to handle subclass changes\u001b[39;00m\n\u001b[0;32m    194\u001b[0m     \u001b[38;5;66;03m# 3) try pickle_compat with latin-1 encoding upon a UnicodeDecodeError\u001b[39;00m\n\u001b[0;32m    196\u001b[0m     \u001b[38;5;28;01mtry\u001b[39;00m:\n\u001b[0;32m    197\u001b[0m         \u001b[38;5;66;03m# TypeError for Cython complaints about object.__new__ vs Tick.__new__\u001b[39;00m\n\u001b[0;32m    198\u001b[0m         \u001b[38;5;28;01mtry\u001b[39;00m:\n",
      "File \u001b[1;32mc:\\Users\\דרור\\AppData\\Local\\Programs\\Python\\Python310\\lib\\site-packages\\pandas\\io\\common.py:882\u001b[0m, in \u001b[0;36mget_handle\u001b[1;34m(path_or_buf, mode, encoding, compression, memory_map, is_text, errors, storage_options)\u001b[0m\n\u001b[0;32m    873\u001b[0m         handle \u001b[38;5;241m=\u001b[39m \u001b[38;5;28mopen\u001b[39m(\n\u001b[0;32m    874\u001b[0m             handle,\n\u001b[0;32m    875\u001b[0m             ioargs\u001b[38;5;241m.\u001b[39mmode,\n\u001b[1;32m   (...)\u001b[0m\n\u001b[0;32m    878\u001b[0m             newline\u001b[38;5;241m=\u001b[39m\u001b[38;5;124m\"\u001b[39m\u001b[38;5;124m\"\u001b[39m,\n\u001b[0;32m    879\u001b[0m         )\n\u001b[0;32m    880\u001b[0m     \u001b[38;5;28;01melse\u001b[39;00m:\n\u001b[0;32m    881\u001b[0m         \u001b[38;5;66;03m# Binary mode\u001b[39;00m\n\u001b[1;32m--> 882\u001b[0m         handle \u001b[38;5;241m=\u001b[39m \u001b[38;5;28;43mopen\u001b[39;49m\u001b[43m(\u001b[49m\u001b[43mhandle\u001b[49m\u001b[43m,\u001b[49m\u001b[43m \u001b[49m\u001b[43mioargs\u001b[49m\u001b[38;5;241;43m.\u001b[39;49m\u001b[43mmode\u001b[49m\u001b[43m)\u001b[49m\n\u001b[0;32m    883\u001b[0m     handles\u001b[38;5;241m.\u001b[39mappend(handle)\n\u001b[0;32m    885\u001b[0m \u001b[38;5;66;03m# Convert BytesIO or file objects passed with an encoding\u001b[39;00m\n",
      "\u001b[1;31mFileNotFoundError\u001b[0m: [Errno 2] No such file or directory: 'C:\\\\GameOfLifeFiles\\\\df\\\\\\\\4-1000\\\\4size_1000boards_2gen_reverse.pkl'"
     ]
    }
   ],
   "source": [
    "gen = 2\n",
    "name_df = f'{PATH_DF}\\\\{SIZE}-{AMOUNT_BOARDS}\\\\{SIZE}size_{AMOUNT_BOARDS}boards_{gen}gen_reverse'\n",
    "reverse_df = pd.read_pickle(f'{name_df}.pkl')"
   ]
  },
  {
   "cell_type": "code",
   "execution_count": null,
   "metadata": {},
   "outputs": [
    {
     "name": "stdout",
     "output_type": "stream",
     "text": [
      "C:\\GameOfLifeFiles\\df\\\\4-100\\\\4size_100boards_2gen_reverse\n"
     ]
    }
   ],
   "source": [
    "print(name_df)"
   ]
  },
  {
   "cell_type": "code",
   "execution_count": null,
   "metadata": {},
   "outputs": [],
   "source": [
    "new_columns = [f'Col_{i}' for i in range(1, gen*SIZE*SIZE + 1)]\n",
    "reverse_df_sort = reverse_df.sort_values(by = new_columns).reset_index(drop=True)\n",
    "for i in reverse_df_sort.columns:\n",
    "    reverse_df_sort[i] = reverse_df_sort[i].astype(int)"
   ]
  },
  {
   "cell_type": "code",
   "execution_count": null,
   "metadata": {},
   "outputs": [
    {
     "name": "stdout",
     "output_type": "stream",
     "text": [
      "reverse df: 68\n",
      "reverse df sort: 68\n"
     ]
    }
   ],
   "source": [
    "print(\"reverse df:\", len(reverse_df))\n",
    "print(\"reverse df sort:\",len(reverse_df_sort))"
   ]
  },
  {
   "cell_type": "code",
   "execution_count": null,
   "metadata": {},
   "outputs": [
    {
     "name": "stdout",
     "output_type": "stream",
     "text": [
      "len x train:  61\n",
      "len x test:  7\n",
      "len y train:  61\n",
      "len y test:  7\n",
      "43 8\n"
     ]
    },
    {
     "data": {
      "text/html": [
       "<div>\n",
       "<style scoped>\n",
       "    .dataframe tbody tr th:only-of-type {\n",
       "        vertical-align: middle;\n",
       "    }\n",
       "\n",
       "    .dataframe tbody tr th {\n",
       "        vertical-align: top;\n",
       "    }\n",
       "\n",
       "    .dataframe thead th {\n",
       "        text-align: right;\n",
       "    }\n",
       "</style>\n",
       "<table border=\"1\" class=\"dataframe\">\n",
       "  <thead>\n",
       "    <tr style=\"text-align: right;\">\n",
       "      <th></th>\n",
       "      <th>train</th>\n",
       "      <th>test</th>\n",
       "    </tr>\n",
       "  </thead>\n",
       "  <tbody>\n",
       "    <tr>\n",
       "      <th>accuracy</th>\n",
       "      <td>0.983607</td>\n",
       "      <td>0.714286</td>\n",
       "    </tr>\n",
       "    <tr>\n",
       "      <th>precision</th>\n",
       "      <td>1.000000</td>\n",
       "      <td>0.500000</td>\n",
       "    </tr>\n",
       "    <tr>\n",
       "      <th>recall</th>\n",
       "      <td>0.941176</td>\n",
       "      <td>0.500000</td>\n",
       "    </tr>\n",
       "    <tr>\n",
       "      <th>f1</th>\n",
       "      <td>0.969697</td>\n",
       "      <td>0.500000</td>\n",
       "    </tr>\n",
       "  </tbody>\n",
       "</table>\n",
       "</div>"
      ],
      "text/plain": [
       "              train      test\n",
       "accuracy   0.983607  0.714286\n",
       "precision  1.000000  0.500000\n",
       "recall     0.941176  0.500000\n",
       "f1         0.969697  0.500000"
      ]
     },
     "execution_count": 34,
     "metadata": {},
     "output_type": "execute_result"
    }
   ],
   "source": [
    "# Step 1: Prepare Data\n",
    "amount_features = len(reverse_df_sort.columns) - SIZE*SIZE #the previous boards\n",
    "features = reverse_df_sort.iloc[:, :amount_features]\n",
    "name_col = 'Col_' + str(amount_features + 1)  # Target: the first pixel in the board\n",
    "target = reverse_df_sort[name_col]\n",
    "\n",
    "# Step 2: Split Data\n",
    "X_train, X_test, y_train, y_test = train_test_split(features, target, test_size=0.1, random_state=365)\n",
    "\n",
    "print(\"len x train: \", len(X_train))\n",
    "print(\"len x test: \",len(X_test))\n",
    "print(\"len y train: \",len(y_train))\n",
    "print(\"len y test: \",len(y_test))\n",
    "\n",
    "dt = tree.DecisionTreeClassifier(random_state=42)\n",
    "dt = dt.fit(X_train, y_train)\n",
    "\n",
    "y_train_pred = dt.predict(X_train)\n",
    "y_test_pred = dt.predict(X_test)\n",
    "\n",
    "train_test_full_error = pd.concat([measure_error(y_train, y_train_pred, 'train'),\n",
    "                                measure_error(y_test, y_test_pred, 'test')],\n",
    "                                axis=1)\n",
    "\n",
    "print(dt.tree_.node_count, dt.tree_.max_depth)\n",
    "train_test_full_error"
   ]
  },
  {
   "cell_type": "code",
   "execution_count": null,
   "metadata": {},
   "outputs": [
    {
     "data": {
      "text/plain": [
       "array([0, 0, 0, 0, 1, 0, 1, 0, 0, 0, 0, 1, 1, 0, 1, 0, 0, 0, 0, 0, 0, 1,\n",
       "       0, 1, 0, 0, 0, 1, 0, 1, 0, 1])"
      ]
     },
     "execution_count": 35,
     "metadata": {},
     "output_type": "execute_result"
    }
   ],
   "source": [
    "reverse_df_sort.iloc[17].values"
   ]
  },
  {
   "cell_type": "code",
   "execution_count": null,
   "metadata": {},
   "outputs": [
    {
     "data": {
      "text/plain": [
       "array([0, 0, 0, 0, 1, 0, 1, 0, 0, 0, 0, 1, 1, 0, 1, 0])"
      ]
     },
     "execution_count": 36,
     "metadata": {},
     "output_type": "execute_result"
    }
   ],
   "source": [
    "features.iloc[17].values"
   ]
  },
  {
   "cell_type": "code",
   "execution_count": null,
   "metadata": {},
   "outputs": [
    {
     "data": {
      "text/plain": [
       "0"
      ]
     },
     "execution_count": 37,
     "metadata": {},
     "output_type": "execute_result"
    }
   ],
   "source": [
    "target.iloc[17]"
   ]
  },
  {
   "cell_type": "code",
   "execution_count": null,
   "metadata": {},
   "outputs": [
    {
     "name": "stdout",
     "output_type": "stream",
     "text": [
      "17 4\n",
      "              train      test\n",
      "accuracy   0.819672  0.714286\n",
      "precision  0.714286  0.500000\n",
      "recall     0.588235  0.500000\n",
      "f1         0.645161  0.500000\n"
     ]
    },
    {
     "name": "stdout",
     "output_type": "stream",
     "text": [
      "27 5\n",
      "              train      test\n",
      "accuracy   0.885246  0.714286\n",
      "precision  1.000000  0.500000\n",
      "recall     0.588235  0.500000\n",
      "f1         0.740741  0.500000\n",
      "35 6\n",
      "              train      test\n",
      "accuracy   0.950820  0.714286\n",
      "precision  1.000000  0.500000\n",
      "recall     0.823529  0.500000\n",
      "f1         0.903226  0.500000\n",
      "41 7\n",
      "              train      test\n",
      "accuracy   0.967213  0.714286\n",
      "precision  1.000000  0.500000\n",
      "recall     0.882353  0.500000\n",
      "f1         0.937500  0.500000\n",
      "43 8\n",
      "              train      test\n",
      "accuracy   0.983607  0.714286\n",
      "precision  1.000000  0.500000\n",
      "recall     0.941176  0.500000\n",
      "f1         0.969697  0.500000\n",
      "43 8\n",
      "              train      test\n",
      "accuracy   0.983607  0.714286\n",
      "precision  1.000000  0.500000\n",
      "recall     0.941176  0.500000\n",
      "f1         0.969697  0.500000\n",
      "43 8\n",
      "              train      test\n",
      "accuracy   0.983607  0.714286\n",
      "precision  1.000000  0.500000\n",
      "recall     0.941176  0.500000\n",
      "f1         0.969697  0.500000\n",
      "43 8\n",
      "              train      test\n",
      "accuracy   0.983607  0.714286\n",
      "precision  1.000000  0.500000\n",
      "recall     0.941176  0.500000\n",
      "f1         0.969697  0.500000\n",
      "43 8\n",
      "              train      test\n",
      "accuracy   0.983607  0.714286\n",
      "precision  1.000000  0.500000\n",
      "recall     0.941176  0.500000\n",
      "f1         0.969697  0.500000\n",
      "43 8\n",
      "              train      test\n",
      "accuracy   0.983607  0.714286\n",
      "precision  1.000000  0.500000\n",
      "recall     0.941176  0.500000\n",
      "f1         0.969697  0.500000\n",
      "43 8\n",
      "              train      test\n",
      "accuracy   0.983607  0.714286\n",
      "precision  1.000000  0.500000\n",
      "recall     0.941176  0.500000\n",
      "f1         0.969697  0.500000\n",
      "43 8\n",
      "              train      test\n",
      "accuracy   0.983607  0.714286\n",
      "precision  1.000000  0.500000\n",
      "recall     0.941176  0.500000\n",
      "f1         0.969697  0.500000\n"
     ]
    }
   ],
   "source": [
    "depth_to_check = [4,5,6,7,8,9,10,15,20,30,50,100]\n",
    "\n",
    "for i in depth_to_check:\n",
    "    dt, node_count, max_depth, train_test_full_error  = dec_tree_df(X_train,y_train, X_test, y_test, i, 42)\n",
    "    \n",
    "    name_file = f\"{PATH_MODELS}\\\\reverse_model1\\\\{SIZE}\\\\decision_tree_size{SIZE}_reverse_df_model_{str(i)}.pkl\"\n",
    "    with open(name_file, 'wb') as file:\n",
    "        pickle.dump(dt, file)\n",
    "    \n",
    "    print(node_count, max_depth)\n",
    "    print(train_test_full_error)"
   ]
  },
  {
   "cell_type": "code",
   "execution_count": null,
   "metadata": {},
   "outputs": [
    {
     "name": "stdout",
     "output_type": "stream",
     "text": [
      "0\n",
      "49 7\n",
      "              train      test\n",
      "accuracy   0.983607  0.714286\n",
      "precision  1.000000  0.000000\n",
      "recall     0.947368  0.000000\n",
      "f1         0.972973  0.000000\n",
      "1\n",
      "45 9\n",
      "              train      test\n",
      "accuracy   0.983607  0.714286\n",
      "precision  1.000000  1.000000\n",
      "recall     0.950000  0.500000\n",
      "f1         0.974359  0.666667\n",
      "2\n",
      "47 8\n",
      "           train      test\n",
      "accuracy     1.0  0.714286\n",
      "precision    1.0  0.000000\n",
      "recall       1.0  0.000000\n",
      "f1           1.0  0.000000\n",
      "3\n",
      "35 8\n",
      "           train      test\n",
      "accuracy     1.0  0.571429\n",
      "precision    1.0  0.000000\n",
      "recall       1.0  0.000000\n",
      "f1           1.0  0.000000\n",
      "4\n",
      "39 9\n",
      "           train      test\n",
      "accuracy     1.0  0.714286\n",
      "precision    1.0  0.000000\n",
      "recall       1.0  0.000000\n",
      "f1           1.0  0.000000\n",
      "5\n",
      "41 8\n",
      "           train      test\n",
      "accuracy     1.0  0.428571\n",
      "precision    1.0  0.000000\n",
      "recall       1.0  0.000000\n",
      "f1           1.0  0.000000\n",
      "6\n",
      "51 10\n",
      "           train      test\n",
      "accuracy     1.0  0.714286\n",
      "precision    1.0  0.000000\n",
      "recall       1.0  0.000000\n",
      "f1           1.0  0.000000\n",
      "7\n",
      "47 7\n",
      "           train      test\n",
      "accuracy     1.0  0.571429\n",
      "precision    1.0  0.500000\n",
      "recall       1.0  0.333333\n",
      "f1           1.0  0.400000\n",
      "8\n",
      "47 10\n",
      "              train      test\n",
      "accuracy   0.967213  0.428571\n",
      "precision  1.000000  0.000000\n",
      "recall     0.857143  0.000000\n",
      "f1         0.923077  0.000000\n",
      "9\n",
      "33 8\n",
      "           train      test\n",
      "accuracy     1.0  0.285714\n",
      "precision    1.0  0.000000\n",
      "recall       1.0  0.000000\n",
      "f1           1.0  0.000000\n",
      "10\n",
      "45 10\n",
      "           train      test\n",
      "accuracy     1.0  0.428571\n",
      "precision    1.0  0.333333\n",
      "recall       1.0  0.333333\n",
      "f1           1.0  0.333333\n"
     ]
    },
    {
     "name": "stderr",
     "output_type": "stream",
     "text": [
      "c:\\Users\\דרור\\AppData\\Local\\Programs\\Python\\Python310\\lib\\site-packages\\sklearn\\metrics\\_classification.py:1565: UndefinedMetricWarning: Recall is ill-defined and being set to 0.0 due to no true samples. Use `zero_division` parameter to control this behavior.\n",
      "  _warn_prf(average, modifier, f\"{metric.capitalize()} is\", len(result))\n",
      "c:\\Users\\דרור\\AppData\\Local\\Programs\\Python\\Python310\\lib\\site-packages\\sklearn\\metrics\\_classification.py:1565: UndefinedMetricWarning: Recall is ill-defined and being set to 0.0 due to no true samples. Use `zero_division` parameter to control this behavior.\n",
      "  _warn_prf(average, modifier, f\"{metric.capitalize()} is\", len(result))\n",
      "c:\\Users\\דרור\\AppData\\Local\\Programs\\Python\\Python310\\lib\\site-packages\\sklearn\\metrics\\_classification.py:1565: UndefinedMetricWarning: Precision is ill-defined and being set to 0.0 due to no predicted samples. Use `zero_division` parameter to control this behavior.\n",
      "  _warn_prf(average, modifier, f\"{metric.capitalize()} is\", len(result))\n"
     ]
    },
    {
     "name": "stdout",
     "output_type": "stream",
     "text": [
      "11\n",
      "35 8\n",
      "           train      test\n",
      "accuracy     1.0  0.285714\n",
      "precision    1.0  0.000000\n",
      "recall       1.0  0.000000\n",
      "f1           1.0  0.000000\n",
      "12\n",
      "41 9\n",
      "           train      test\n",
      "accuracy     1.0  0.571429\n",
      "precision    1.0  1.000000\n",
      "recall       1.0  0.250000\n",
      "f1           1.0  0.400000\n",
      "13\n",
      "51 8\n",
      "              train      test\n",
      "accuracy   0.983607  0.714286\n",
      "precision  1.000000  0.600000\n",
      "recall     0.954545  1.000000\n",
      "f1         0.976744  0.750000\n",
      "14\n",
      "55 10\n",
      "              train      test\n",
      "accuracy   0.983607  0.714286\n",
      "precision  1.000000  0.000000\n",
      "recall     0.947368  0.000000\n",
      "f1         0.972973  0.000000\n",
      "15\n",
      "51 10\n",
      "              train      test\n",
      "accuracy   0.983607  0.571429\n",
      "precision  1.000000  0.500000\n",
      "recall     0.952381  0.333333\n",
      "f1         0.975610  0.400000\n"
     ]
    },
    {
     "name": "stderr",
     "output_type": "stream",
     "text": [
      "c:\\Users\\דרור\\AppData\\Local\\Programs\\Python\\Python310\\lib\\site-packages\\sklearn\\metrics\\_classification.py:1565: UndefinedMetricWarning: Precision is ill-defined and being set to 0.0 due to no predicted samples. Use `zero_division` parameter to control this behavior.\n",
      "  _warn_prf(average, modifier, f\"{metric.capitalize()} is\", len(result))\n"
     ]
    }
   ],
   "source": [
    "amount_features = len(reverse_df_sort.columns) - SIZE*SIZE #the previous boards\n",
    "features = reverse_df_sort.iloc[:, :amount_features]\n",
    "for i in range(SIZE*SIZE): # to any pixel in the expected board\n",
    "    name_col = 'Col_' + str(i+amount_features + 1)\n",
    "    target = reverse_df_sort[name_col]\n",
    "    X_train, X_test, y_train, y_test = train_test_split(features, target, test_size=0.1, random_state=613)\n",
    "    dt, node_count, max_depth, train_test_full_error  = dec_tree_df(X_train,y_train, X_test, y_test, 10, 42)\n",
    "    name_file = f\"{PATH_MODELS}\\\\reverse1\\\\{SIZE}\\\\dt_size{SIZE}_r1_pixel_{str(i+1)}.pkl\"\n",
    "    with open(name_file, 'wb') as file:\n",
    "        pickle.dump(dt, file)\n",
    "    print(i)\n",
    "    print(node_count, max_depth)\n",
    "    print(train_test_full_error)"
   ]
  },
  {
   "cell_type": "code",
   "execution_count": null,
   "metadata": {},
   "outputs": [
    {
     "data": {
      "text/html": [
       "<div>\n",
       "<style scoped>\n",
       "    .dataframe tbody tr th:only-of-type {\n",
       "        vertical-align: middle;\n",
       "    }\n",
       "\n",
       "    .dataframe tbody tr th {\n",
       "        vertical-align: top;\n",
       "    }\n",
       "\n",
       "    .dataframe thead th {\n",
       "        text-align: right;\n",
       "    }\n",
       "</style>\n",
       "<table border=\"1\" class=\"dataframe\">\n",
       "  <thead>\n",
       "    <tr style=\"text-align: right;\">\n",
       "      <th></th>\n",
       "      <th>Col_1</th>\n",
       "      <th>Col_2</th>\n",
       "      <th>Col_3</th>\n",
       "      <th>Col_4</th>\n",
       "      <th>Col_5</th>\n",
       "      <th>Col_6</th>\n",
       "      <th>Col_7</th>\n",
       "      <th>Col_8</th>\n",
       "      <th>Col_9</th>\n",
       "      <th>Col_10</th>\n",
       "      <th>Col_11</th>\n",
       "      <th>Col_12</th>\n",
       "      <th>Col_13</th>\n",
       "      <th>Col_14</th>\n",
       "      <th>Col_15</th>\n",
       "      <th>Col_16</th>\n",
       "    </tr>\n",
       "  </thead>\n",
       "  <tbody>\n",
       "    <tr>\n",
       "      <th>45</th>\n",
       "      <td>0</td>\n",
       "      <td>1</td>\n",
       "      <td>1</td>\n",
       "      <td>0</td>\n",
       "      <td>0</td>\n",
       "      <td>0</td>\n",
       "      <td>0</td>\n",
       "      <td>0</td>\n",
       "      <td>0</td>\n",
       "      <td>1</td>\n",
       "      <td>1</td>\n",
       "      <td>0</td>\n",
       "      <td>0</td>\n",
       "      <td>1</td>\n",
       "      <td>0</td>\n",
       "      <td>0</td>\n",
       "    </tr>\n",
       "    <tr>\n",
       "      <th>15</th>\n",
       "      <td>0</td>\n",
       "      <td>0</td>\n",
       "      <td>0</td>\n",
       "      <td>0</td>\n",
       "      <td>1</td>\n",
       "      <td>0</td>\n",
       "      <td>0</td>\n",
       "      <td>0</td>\n",
       "      <td>0</td>\n",
       "      <td>1</td>\n",
       "      <td>0</td>\n",
       "      <td>1</td>\n",
       "      <td>1</td>\n",
       "      <td>0</td>\n",
       "      <td>0</td>\n",
       "      <td>0</td>\n",
       "    </tr>\n",
       "    <tr>\n",
       "      <th>9</th>\n",
       "      <td>0</td>\n",
       "      <td>0</td>\n",
       "      <td>0</td>\n",
       "      <td>0</td>\n",
       "      <td>0</td>\n",
       "      <td>0</td>\n",
       "      <td>0</td>\n",
       "      <td>0</td>\n",
       "      <td>1</td>\n",
       "      <td>0</td>\n",
       "      <td>1</td>\n",
       "      <td>1</td>\n",
       "      <td>1</td>\n",
       "      <td>0</td>\n",
       "      <td>1</td>\n",
       "      <td>0</td>\n",
       "    </tr>\n",
       "    <tr>\n",
       "      <th>18</th>\n",
       "      <td>0</td>\n",
       "      <td>0</td>\n",
       "      <td>0</td>\n",
       "      <td>0</td>\n",
       "      <td>1</td>\n",
       "      <td>0</td>\n",
       "      <td>1</td>\n",
       "      <td>1</td>\n",
       "      <td>0</td>\n",
       "      <td>0</td>\n",
       "      <td>0</td>\n",
       "      <td>1</td>\n",
       "      <td>0</td>\n",
       "      <td>0</td>\n",
       "      <td>0</td>\n",
       "      <td>1</td>\n",
       "    </tr>\n",
       "    <tr>\n",
       "      <th>8</th>\n",
       "      <td>0</td>\n",
       "      <td>0</td>\n",
       "      <td>0</td>\n",
       "      <td>0</td>\n",
       "      <td>0</td>\n",
       "      <td>0</td>\n",
       "      <td>0</td>\n",
       "      <td>0</td>\n",
       "      <td>1</td>\n",
       "      <td>0</td>\n",
       "      <td>1</td>\n",
       "      <td>0</td>\n",
       "      <td>1</td>\n",
       "      <td>1</td>\n",
       "      <td>1</td>\n",
       "      <td>0</td>\n",
       "    </tr>\n",
       "    <tr>\n",
       "      <th>3</th>\n",
       "      <td>0</td>\n",
       "      <td>0</td>\n",
       "      <td>0</td>\n",
       "      <td>0</td>\n",
       "      <td>0</td>\n",
       "      <td>0</td>\n",
       "      <td>0</td>\n",
       "      <td>0</td>\n",
       "      <td>0</td>\n",
       "      <td>0</td>\n",
       "      <td>0</td>\n",
       "      <td>0</td>\n",
       "      <td>0</td>\n",
       "      <td>0</td>\n",
       "      <td>0</td>\n",
       "      <td>0</td>\n",
       "    </tr>\n",
       "    <tr>\n",
       "      <th>53</th>\n",
       "      <td>1</td>\n",
       "      <td>0</td>\n",
       "      <td>0</td>\n",
       "      <td>0</td>\n",
       "      <td>0</td>\n",
       "      <td>0</td>\n",
       "      <td>0</td>\n",
       "      <td>0</td>\n",
       "      <td>1</td>\n",
       "      <td>0</td>\n",
       "      <td>0</td>\n",
       "      <td>0</td>\n",
       "      <td>1</td>\n",
       "      <td>1</td>\n",
       "      <td>1</td>\n",
       "      <td>0</td>\n",
       "    </tr>\n",
       "  </tbody>\n",
       "</table>\n",
       "</div>"
      ],
      "text/plain": [
       "    Col_1  Col_2  Col_3  Col_4  Col_5  Col_6  Col_7  Col_8  Col_9  Col_10  \\\n",
       "45      0      1      1      0      0      0      0      0      0       1   \n",
       "15      0      0      0      0      1      0      0      0      0       1   \n",
       "9       0      0      0      0      0      0      0      0      1       0   \n",
       "18      0      0      0      0      1      0      1      1      0       0   \n",
       "8       0      0      0      0      0      0      0      0      1       0   \n",
       "3       0      0      0      0      0      0      0      0      0       0   \n",
       "53      1      0      0      0      0      0      0      0      1       0   \n",
       "\n",
       "    Col_11  Col_12  Col_13  Col_14  Col_15  Col_16  \n",
       "45       1       0       0       1       0       0  \n",
       "15       0       1       1       0       0       0  \n",
       "9        1       1       1       0       1       0  \n",
       "18       0       1       0       0       0       1  \n",
       "8        1       0       1       1       1       0  \n",
       "3        0       0       0       0       0       0  \n",
       "53       0       0       1       1       1       0  "
      ]
     },
     "execution_count": 40,
     "metadata": {},
     "output_type": "execute_result"
    }
   ],
   "source": [
    "X_test"
   ]
  },
  {
   "cell_type": "code",
   "execution_count": null,
   "metadata": {},
   "outputs": [],
   "source": [
    "PATH_DATA_TEST = 'C:\\\\GameOfLifeFiles\\\\dataTest\\\\'"
   ]
  },
  {
   "cell_type": "code",
   "execution_count": null,
   "metadata": {},
   "outputs": [],
   "source": [
    "name_file = f\"{PATH_DATA_TEST}\\\\data_test_size_{SIZE}.pkl\"\n",
    "with open(name_file, 'wb') as file:\n",
    "    pickle.dump(X_test, file)"
   ]
  }
 ],
 "metadata": {
  "kernelspec": {
   "display_name": "Python 3",
   "language": "python",
   "name": "python3"
  },
  "language_info": {
   "codemirror_mode": {
    "name": "ipython",
    "version": 3
   },
   "file_extension": ".py",
   "mimetype": "text/x-python",
   "name": "python",
   "nbconvert_exporter": "python",
   "pygments_lexer": "ipython3",
   "version": "3.10.11"
  }
 },
 "nbformat": 4,
 "nbformat_minor": 2
}
