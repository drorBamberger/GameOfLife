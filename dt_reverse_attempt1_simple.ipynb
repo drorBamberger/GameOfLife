{
 "cells": [
  {
   "cell_type": "markdown",
   "metadata": {},
   "source": [
    "# first attempt - simple reverse prediction"
   ]
  },
  {
   "cell_type": "code",
   "execution_count": 1,
   "metadata": {},
   "outputs": [],
   "source": [
    "import numpy as np\n",
    "import pandas as pd\n",
    "from functions import *\n",
    "from read_from_file_df import *\n",
    "import pickle\n",
    "from sklearn.model_selection import train_test_split\n",
    "from sklearn.tree import DecisionTreeClassifier\n",
    "from sklearn.metrics import accuracy_score"
   ]
  },
  {
   "cell_type": "code",
   "execution_count": 2,
   "metadata": {},
   "outputs": [],
   "source": [
    "gen = 2\n",
    "name_df = f'{SIZE}size_{AMOUNT_BOARDS}boards_{gen}gen_reverse'\n",
    "reverse_df = pd.read_pickle(f'{name_df}.pkl')"
   ]
  },
  {
   "cell_type": "code",
   "execution_count": 3,
   "metadata": {},
   "outputs": [],
   "source": [
    "new_columns = [f'Col_{i}' for i in range(1, gen*SIZE*SIZE + 1)]\n",
    "reverse_df_sort = reverse_df.sort_values(by = new_columns).reset_index(drop=True)\n",
    "for i in reverse_df_sort.columns:\n",
    "    reverse_df_sort[i] = reverse_df_sort[i].astype(int)"
   ]
  },
  {
   "cell_type": "code",
   "execution_count": 4,
   "metadata": {},
   "outputs": [
    {
     "name": "stdout",
     "output_type": "stream",
     "text": [
      "reverse df: 29760\n",
      "reverse df sort: 29760\n"
     ]
    }
   ],
   "source": [
    "print(\"reverse df:\", len(reverse_df))\n",
    "print(\"reverse df sort:\",len(reverse_df_sort))"
   ]
  },
  {
   "cell_type": "code",
   "execution_count": 5,
   "metadata": {},
   "outputs": [
    {
     "name": "stdout",
     "output_type": "stream",
     "text": [
      "len x train:  26784\n",
      "len x test:  2976\n",
      "len y train:  26784\n",
      "len y test:  2976\n",
      "18129 25\n"
     ]
    },
    {
     "data": {
      "text/html": [
       "<div>\n",
       "<style scoped>\n",
       "    .dataframe tbody tr th:only-of-type {\n",
       "        vertical-align: middle;\n",
       "    }\n",
       "\n",
       "    .dataframe tbody tr th {\n",
       "        vertical-align: top;\n",
       "    }\n",
       "\n",
       "    .dataframe thead th {\n",
       "        text-align: right;\n",
       "    }\n",
       "</style>\n",
       "<table border=\"1\" class=\"dataframe\">\n",
       "  <thead>\n",
       "    <tr style=\"text-align: right;\">\n",
       "      <th></th>\n",
       "      <th>train</th>\n",
       "      <th>test</th>\n",
       "    </tr>\n",
       "  </thead>\n",
       "  <tbody>\n",
       "    <tr>\n",
       "      <th>accuracy</th>\n",
       "      <td>0.969945</td>\n",
       "      <td>0.629704</td>\n",
       "    </tr>\n",
       "    <tr>\n",
       "      <th>precision</th>\n",
       "      <td>0.989717</td>\n",
       "      <td>0.460565</td>\n",
       "    </tr>\n",
       "    <tr>\n",
       "      <th>recall</th>\n",
       "      <td>0.922861</td>\n",
       "      <td>0.463271</td>\n",
       "    </tr>\n",
       "    <tr>\n",
       "      <th>f1</th>\n",
       "      <td>0.955121</td>\n",
       "      <td>0.461914</td>\n",
       "    </tr>\n",
       "  </tbody>\n",
       "</table>\n",
       "</div>"
      ],
      "text/plain": [
       "              train      test\n",
       "accuracy   0.969945  0.629704\n",
       "precision  0.989717  0.460565\n",
       "recall     0.922861  0.463271\n",
       "f1         0.955121  0.461914"
      ]
     },
     "execution_count": 5,
     "metadata": {},
     "output_type": "execute_result"
    }
   ],
   "source": [
    "# Step 1: Prepare Data\n",
    "amount_features = len(reverse_df_sort.columns) - SIZE*SIZE #the previous boards\n",
    "features = reverse_df_sort.iloc[:, :amount_features]\n",
    "name_col = 'Col_' + str(amount_features + 1)  # Target: the first pixel in the board\n",
    "target = reverse_df_sort[name_col]\n",
    "\n",
    "# Step 2: Split Data\n",
    "X_train, X_test, y_train, y_test = train_test_split(features, target, test_size=0.1, random_state=365)\n",
    "\n",
    "print(\"len x train: \", len(X_train))\n",
    "print(\"len x test: \",len(X_test))\n",
    "print(\"len y train: \",len(y_train))\n",
    "print(\"len y test: \",len(y_test))\n",
    "\n",
    "dt = tree.DecisionTreeClassifier(random_state=42)\n",
    "dt = dt.fit(X_train, y_train)\n",
    "\n",
    "y_train_pred = dt.predict(X_train)\n",
    "y_test_pred = dt.predict(X_test)\n",
    "\n",
    "train_test_full_error = pd.concat([measure_error(y_train, y_train_pred, 'train'),\n",
    "                                measure_error(y_test, y_test_pred, 'test')],\n",
    "                                axis=1)\n",
    "\n",
    "print(dt.tree_.node_count, dt.tree_.max_depth)\n",
    "train_test_full_error"
   ]
  },
  {
   "cell_type": "code",
   "execution_count": 6,
   "metadata": {},
   "outputs": [
    {
     "data": {
      "text/plain": [
       "array([1, 0, 0, 0, 0, 1, 1, 1, 1, 1, 1, 0, 0, 0, 0, 0, 1, 1, 1, 1, 0, 0,\n",
       "       1, 1, 0, 0, 0, 0, 0, 0, 1, 1, 1, 1, 1, 1, 0, 0, 0, 0, 0, 0, 1, 1,\n",
       "       0, 0, 0, 1, 1, 0])"
      ]
     },
     "execution_count": 6,
     "metadata": {},
     "output_type": "execute_result"
    }
   ],
   "source": [
    "reverse_df_sort.iloc[21540].values"
   ]
  },
  {
   "cell_type": "code",
   "execution_count": 7,
   "metadata": {},
   "outputs": [
    {
     "data": {
      "text/plain": [
       "array([1, 0, 0, 0, 0, 1, 1, 1, 1, 1, 1, 0, 0, 0, 0, 0, 1, 1, 1, 1, 0, 0,\n",
       "       1, 1, 0])"
      ]
     },
     "execution_count": 7,
     "metadata": {},
     "output_type": "execute_result"
    }
   ],
   "source": [
    "features.iloc[21540].values"
   ]
  },
  {
   "cell_type": "code",
   "execution_count": 8,
   "metadata": {},
   "outputs": [
    {
     "data": {
      "text/plain": [
       "0"
      ]
     },
     "execution_count": 8,
     "metadata": {},
     "output_type": "execute_result"
    }
   ],
   "source": [
    "target.iloc[21540]"
   ]
  },
  {
   "cell_type": "code",
   "execution_count": 9,
   "metadata": {},
   "outputs": [
    {
     "name": "stdout",
     "output_type": "stream",
     "text": [
      "31 4\n",
      "              train      test\n",
      "accuracy   0.681750  0.665659\n",
      "precision  0.562894  0.519637\n",
      "recall     0.365438  0.336925\n",
      "f1         0.443167  0.408794\n",
      "63 5\n",
      "              train      test\n",
      "accuracy   0.686828  0.668347\n",
      "precision  0.573617  0.525680\n",
      "recall     0.375242  0.340842\n",
      "f1         0.453693  0.413547\n",
      "127 6\n",
      "              train      test\n",
      "accuracy   0.688508  0.665323\n",
      "precision  0.575689  0.518409\n",
      "recall     0.384723  0.344760\n",
      "f1         0.461221  0.414118\n",
      "255 7\n",
      "              train      test\n",
      "accuracy   0.694407  0.677755\n",
      "precision  0.606567  0.556159\n",
      "recall     0.336350  0.300686\n",
      "f1         0.432740  0.390337\n",
      "511 8\n",
      "              train      test\n",
      "accuracy   0.703480  0.671035\n",
      "precision  0.624350  0.534768\n",
      "recall     0.362422  0.316357\n",
      "f1         0.458623  0.397538\n",
      "1003 9\n",
      "              train      test\n",
      "accuracy   0.715912  0.668683\n",
      "precision  0.652562  0.529915\n",
      "recall     0.385477  0.303624\n",
      "f1         0.484660  0.386052\n",
      "1927 10\n",
      "              train      test\n",
      "accuracy   0.737418  0.661290\n",
      "precision  0.689342  0.509774\n",
      "recall     0.441069  0.332027\n",
      "f1         0.537941  0.402135\n",
      "12065 15\n",
      "              train      test\n",
      "accuracy   0.904495  0.634409\n",
      "precision  0.926650  0.464921\n",
      "recall     0.786684  0.434868\n",
      "f1         0.850950  0.449393\n",
      "17175 20\n",
      "              train      test\n",
      "accuracy   0.963971  0.624328\n",
      "precision  0.986659  0.451933\n",
      "recall     0.908317  0.446621\n",
      "f1         0.945869  0.449261\n",
      "18129 25\n",
      "              train      test\n",
      "accuracy   0.969945  0.629704\n",
      "precision  0.989717  0.460565\n",
      "recall     0.922861  0.463271\n",
      "f1         0.955121  0.461914\n",
      "18129 25\n",
      "              train      test\n",
      "accuracy   0.969945  0.629704\n",
      "precision  0.989717  0.460565\n",
      "recall     0.922861  0.463271\n",
      "f1         0.955121  0.461914\n",
      "18129 25\n",
      "              train      test\n",
      "accuracy   0.969945  0.629704\n",
      "precision  0.989717  0.460565\n",
      "recall     0.922861  0.463271\n",
      "f1         0.955121  0.461914\n"
     ]
    }
   ],
   "source": [
    "depth_to_check = [4,5,6,7,8,9,10,15,20,30,50,100]\n",
    "\n",
    "for i in depth_to_check:\n",
    "    dt, node_count, max_depth, train_test_full_error  = dec_tree_df(X_train,y_train, X_test, y_test, i, 42)\n",
    "    \n",
    "    name_file = f\"decision_tree_reverse_df_model_{str(i)}.pkl\"\n",
    "    with open(name_file, 'wb') as file:\n",
    "        pickle.dump(dt, file)\n",
    "    \n",
    "    print(node_count, max_depth)\n",
    "    print(train_test_full_error)"
   ]
  },
  {
   "cell_type": "code",
   "execution_count": 10,
   "metadata": {},
   "outputs": [
    {
     "name": "stdout",
     "output_type": "stream",
     "text": [
      "0\n",
      "17277 20\n",
      "              train      test\n",
      "accuracy   0.963187  0.626344\n",
      "precision  0.988709  0.447130\n",
      "recall     0.904260  0.440914\n",
      "f1         0.944601  0.444000\n",
      "1\n",
      "16933 20\n",
      "              train      test\n",
      "accuracy   0.962403  0.630376\n",
      "precision  0.983972  0.438247\n",
      "recall     0.905531  0.450820\n",
      "f1         0.943123  0.444444\n",
      "2\n",
      "17063 20\n",
      "              train      test\n",
      "accuracy   0.963112  0.626680\n",
      "precision  0.983786  0.455897\n",
      "recall     0.908542  0.450098\n",
      "f1         0.944668  0.452979\n",
      "3\n",
      "16913 20\n",
      "              train      test\n",
      "accuracy   0.963747  0.617608\n",
      "precision  0.986342  0.432049\n",
      "recall     0.905721  0.424303\n",
      "f1         0.944314  0.428141\n",
      "4\n",
      "17091 20\n",
      "              train      test\n",
      "accuracy   0.964307  0.632392\n",
      "precision  0.986440  0.449438\n",
      "recall     0.908656  0.442211\n",
      "f1         0.945952  0.445795\n",
      "5\n",
      "17037 20\n",
      "              train      test\n",
      "accuracy   0.962478  0.645497\n",
      "precision  0.983993  0.477551\n",
      "recall     0.906566  0.462908\n",
      "f1         0.943694  0.470116\n",
      "6\n",
      "17095 20\n",
      "              train      test\n",
      "accuracy   0.962963  0.618952\n",
      "precision  0.984724  0.440440\n",
      "recall     0.908208  0.433498\n",
      "f1         0.944919  0.436941\n",
      "7\n",
      "17187 20\n",
      "              train      test\n",
      "accuracy   0.963523  0.632392\n",
      "precision  0.985787  0.465932\n",
      "recall     0.909004  0.453216\n",
      "f1         0.945840  0.459486\n",
      "8\n",
      "17355 20\n",
      "              train      test\n",
      "accuracy   0.963672  0.622984\n",
      "precision  0.984804  0.454171\n",
      "recall     0.909042  0.426912\n",
      "f1         0.945408  0.440120\n",
      "9\n",
      "17095 20\n",
      "              train      test\n",
      "accuracy   0.962590  0.626008\n",
      "precision  0.988091  0.459404\n",
      "recall     0.903877  0.432302\n",
      "f1         0.944110  0.445441\n",
      "10\n",
      "17069 20\n",
      "              train      test\n",
      "accuracy   0.961731  0.622648\n",
      "precision  0.985171  0.457282\n",
      "recall     0.903020  0.455072\n",
      "f1         0.942309  0.456174\n",
      "11\n",
      "17005 20\n",
      "              train      test\n",
      "accuracy   0.963224  0.624664\n",
      "precision  0.985895  0.459034\n",
      "recall     0.904882  0.420597\n",
      "f1         0.943653  0.438975\n",
      "12\n",
      "17153 20\n",
      "              train      test\n",
      "accuracy   0.961806  0.643145\n",
      "precision  0.984980  0.467692\n",
      "recall     0.903649  0.456456\n",
      "f1         0.942564  0.462006\n",
      "13\n",
      "17059 20\n",
      "              train      test\n",
      "accuracy   0.963299  0.633737\n",
      "precision  0.987520  0.444086\n",
      "recall     0.903491  0.418864\n",
      "f1         0.943639  0.431106\n",
      "14\n",
      "16899 20\n",
      "              train      test\n",
      "accuracy   0.961918  0.621976\n",
      "precision  0.983942  0.437870\n",
      "recall     0.902605  0.444444\n",
      "f1         0.941520  0.441133\n",
      "15\n",
      "17075 20\n",
      "              train      test\n",
      "accuracy   0.962963  0.618280\n",
      "precision  0.986346  0.465235\n",
      "recall     0.907001  0.426030\n",
      "f1         0.945011  0.444770\n",
      "16\n",
      "17137 20\n",
      "              train      test\n",
      "accuracy   0.963747  0.617608\n",
      "precision  0.983369  0.434399\n",
      "recall     0.909458  0.386654\n",
      "f1         0.944970  0.409138\n",
      "17\n",
      "17053 20\n",
      "              train      test\n",
      "accuracy   0.963560  0.628360\n",
      "precision  0.984294  0.467060\n",
      "recall     0.908874  0.457170\n",
      "f1         0.945082  0.462062\n",
      "18\n",
      "17245 20\n",
      "              train      test\n",
      "accuracy   0.964120  0.627688\n",
      "precision  0.985799  0.449597\n",
      "recall     0.908298  0.442460\n",
      "f1         0.945463  0.446000\n",
      "19\n",
      "16885 20\n",
      "              train      test\n",
      "accuracy   0.963299  0.629032\n",
      "precision  0.987738  0.459350\n",
      "recall     0.904108  0.441406\n",
      "f1         0.944075  0.450199\n",
      "20\n",
      "17041 20\n",
      "              train      test\n",
      "accuracy   0.962179  0.619288\n",
      "precision  0.984666  0.463391\n",
      "recall     0.905100  0.455061\n",
      "f1         0.943208  0.459189\n",
      "21\n",
      "17135 20\n",
      "              train      test\n",
      "accuracy   0.964456  0.620632\n",
      "precision  0.982948  0.455357\n",
      "recall     0.912600  0.441771\n",
      "f1         0.946469  0.448461\n",
      "22\n",
      "17231 20\n",
      "              train      test\n",
      "accuracy   0.963374  0.626008\n",
      "precision  0.986273  0.424699\n",
      "recall     0.907612  0.439252\n",
      "f1         0.945309  0.431853\n",
      "23\n",
      "17011 20\n",
      "              train      test\n",
      "accuracy   0.962926  0.638777\n",
      "precision  0.986966  0.452452\n",
      "recall     0.902350  0.461224\n",
      "f1         0.942763  0.456796\n",
      "24\n",
      "16999 20\n",
      "              train      test\n",
      "accuracy   0.964344  0.650538\n",
      "precision  0.984220  0.481366\n",
      "recall     0.911255  0.463147\n",
      "f1         0.946333  0.472081\n"
     ]
    }
   ],
   "source": [
    "amount_features = len(reverse_df_sort.columns) - SIZE*SIZE #the previous boards\n",
    "features = reverse_df_sort.iloc[:, :amount_features]\n",
    "for i in range(SIZE*SIZE): # to any pixel in the expected board\n",
    "    name_col = 'Col_' + str(i+amount_features + 1)\n",
    "    target = reverse_df_sort[name_col]\n",
    "    X_train, X_test, y_train, y_test = train_test_split(features, target, test_size=0.1, random_state=613)\n",
    "    dt, node_count, max_depth, train_test_full_error  = dec_tree_df(X_train,y_train, X_test, y_test, 20, 42)\n",
    "    name_file = f\"decision_tree_reverse_df_model_pixel_{str(i+1)}.pkl\"\n",
    "    with open(name_file, 'wb') as file:\n",
    "        pickle.dump(dt, file)\n",
    "    print(i)\n",
    "    print(node_count, max_depth)\n",
    "    print(train_test_full_error)"
   ]
  }
 ],
 "metadata": {
  "kernelspec": {
   "display_name": "Python 3",
   "language": "python",
   "name": "python3"
  },
  "language_info": {
   "codemirror_mode": {
    "name": "ipython",
    "version": 3
   },
   "file_extension": ".py",
   "mimetype": "text/x-python",
   "name": "python",
   "nbconvert_exporter": "python",
   "pygments_lexer": "ipython3",
   "version": "3.11.9"
  }
 },
 "nbformat": 4,
 "nbformat_minor": 2
}
