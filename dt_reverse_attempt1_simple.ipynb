{
 "cells": [
  {
   "cell_type": "markdown",
   "metadata": {},
   "source": [
    "# first attempt - simple reverse prediction"
   ]
  },
  {
   "cell_type": "code",
   "execution_count": 15,
   "metadata": {},
   "outputs": [],
   "source": [
    "import numpy as np\n",
    "import pandas as pd\n",
    "from functions import *\n",
    "from read_from_file_df import *\n",
    "import pickle\n",
    "from sklearn.model_selection import train_test_split\n",
    "from sklearn.tree import DecisionTreeClassifier\n",
    "from sklearn.metrics import accuracy_score"
   ]
  },
  {
   "cell_type": "code",
   "execution_count": 16,
   "metadata": {},
   "outputs": [],
   "source": [
    "gen = 2\n",
    "name_df = f'{PATH_DF}\\\\{SIZE}size_{AMOUNT_BOARDS}boards_{gen}gen_reverse'\n",
    "reverse_df = pd.read_pickle(f'{name_df}.pkl')"
   ]
  },
  {
   "cell_type": "code",
   "execution_count": 17,
   "metadata": {},
   "outputs": [],
   "source": [
    "new_columns = [f'Col_{i}' for i in range(1, gen*SIZE*SIZE + 1)]\n",
    "reverse_df_sort = reverse_df.sort_values(by = new_columns).reset_index(drop=True)\n",
    "for i in reverse_df_sort.columns:\n",
    "    reverse_df_sort[i] = reverse_df_sort[i].astype(int)"
   ]
  },
  {
   "cell_type": "code",
   "execution_count": 18,
   "metadata": {},
   "outputs": [
    {
     "name": "stdout",
     "output_type": "stream",
     "text": [
      "reverse df: 29760\n",
      "reverse df sort: 29760\n"
     ]
    }
   ],
   "source": [
    "print(\"reverse df:\", len(reverse_df))\n",
    "print(\"reverse df sort:\",len(reverse_df_sort))"
   ]
  },
  {
   "cell_type": "code",
   "execution_count": 19,
   "metadata": {},
   "outputs": [
    {
     "name": "stdout",
     "output_type": "stream",
     "text": [
      "len x train:  26784\n",
      "len x test:  2976\n",
      "len y train:  26784\n",
      "len y test:  2976\n",
      "639 12\n"
     ]
    },
    {
     "data": {
      "text/html": [
       "<div>\n",
       "<style scoped>\n",
       "    .dataframe tbody tr th:only-of-type {\n",
       "        vertical-align: middle;\n",
       "    }\n",
       "\n",
       "    .dataframe tbody tr th {\n",
       "        vertical-align: top;\n",
       "    }\n",
       "\n",
       "    .dataframe thead th {\n",
       "        text-align: right;\n",
       "    }\n",
       "</style>\n",
       "<table border=\"1\" class=\"dataframe\">\n",
       "  <thead>\n",
       "    <tr style=\"text-align: right;\">\n",
       "      <th></th>\n",
       "      <th>train</th>\n",
       "      <th>test</th>\n",
       "    </tr>\n",
       "  </thead>\n",
       "  <tbody>\n",
       "    <tr>\n",
       "      <th>accuracy</th>\n",
       "      <td>1.0</td>\n",
       "      <td>1.0</td>\n",
       "    </tr>\n",
       "    <tr>\n",
       "      <th>precision</th>\n",
       "      <td>1.0</td>\n",
       "      <td>1.0</td>\n",
       "    </tr>\n",
       "    <tr>\n",
       "      <th>recall</th>\n",
       "      <td>1.0</td>\n",
       "      <td>1.0</td>\n",
       "    </tr>\n",
       "    <tr>\n",
       "      <th>f1</th>\n",
       "      <td>1.0</td>\n",
       "      <td>1.0</td>\n",
       "    </tr>\n",
       "  </tbody>\n",
       "</table>\n",
       "</div>"
      ],
      "text/plain": [
       "           train  test\n",
       "accuracy     1.0   1.0\n",
       "precision    1.0   1.0\n",
       "recall       1.0   1.0\n",
       "f1           1.0   1.0"
      ]
     },
     "execution_count": 19,
     "metadata": {},
     "output_type": "execute_result"
    }
   ],
   "source": [
    "# Step 1: Prepare Data\n",
    "amount_features = len(reverse_df_sort.columns) - SIZE*SIZE #the previous boards\n",
    "features = reverse_df_sort.iloc[:, :amount_features]\n",
    "name_col = 'Col_' + str(amount_features + 1)  # Target: the first pixel in the board\n",
    "target = reverse_df_sort[name_col]\n",
    "\n",
    "# Step 2: Split Data\n",
    "X_train, X_test, y_train, y_test = train_test_split(features, target, test_size=0.1, random_state=365)\n",
    "\n",
    "print(\"len x train: \", len(X_train))\n",
    "print(\"len x test: \",len(X_test))\n",
    "print(\"len y train: \",len(y_train))\n",
    "print(\"len y test: \",len(y_test))\n",
    "\n",
    "dt = tree.DecisionTreeClassifier(random_state=42)\n",
    "dt = dt.fit(X_train, y_train)\n",
    "\n",
    "y_train_pred = dt.predict(X_train)\n",
    "y_test_pred = dt.predict(X_test)\n",
    "\n",
    "train_test_full_error = pd.concat([measure_error(y_train, y_train_pred, 'train'),\n",
    "                                measure_error(y_test, y_test_pred, 'test')],\n",
    "                                axis=1)\n",
    "\n",
    "print(dt.tree_.node_count, dt.tree_.max_depth)\n",
    "train_test_full_error"
   ]
  },
  {
   "cell_type": "code",
   "execution_count": 20,
   "metadata": {},
   "outputs": [
    {
     "data": {
      "text/plain": [
       "array([1, 0, 0, 0, 1, 1, 0, 0, 0, 0, 0, 0, 0, 0, 1, 0, 0, 0, 0, 0, 1, 0,\n",
       "       0, 0, 1, 0, 1, 0, 0, 0, 1, 0, 0, 0, 0, 0, 0, 0, 0, 0, 1, 0, 0, 0,\n",
       "       1, 1, 0, 0, 0, 1])"
      ]
     },
     "execution_count": 20,
     "metadata": {},
     "output_type": "execute_result"
    }
   ],
   "source": [
    "reverse_df_sort.iloc[21540].values"
   ]
  },
  {
   "cell_type": "code",
   "execution_count": 21,
   "metadata": {},
   "outputs": [
    {
     "data": {
      "text/plain": [
       "array([1, 0, 0, 0, 1, 1, 0, 0, 0, 0, 0, 0, 0, 0, 1, 0, 0, 0, 0, 0, 1, 0,\n",
       "       0, 0, 1])"
      ]
     },
     "execution_count": 21,
     "metadata": {},
     "output_type": "execute_result"
    }
   ],
   "source": [
    "features.iloc[21540].values"
   ]
  },
  {
   "cell_type": "code",
   "execution_count": 22,
   "metadata": {},
   "outputs": [
    {
     "data": {
      "text/plain": [
       "0"
      ]
     },
     "execution_count": 22,
     "metadata": {},
     "output_type": "execute_result"
    }
   ],
   "source": [
    "target.iloc[21540]"
   ]
  },
  {
   "cell_type": "code",
   "execution_count": 23,
   "metadata": {},
   "outputs": [
    {
     "name": "stdout",
     "output_type": "stream",
     "text": [
      "31 4\n",
      "              train      test\n",
      "accuracy   0.725956  0.737567\n",
      "precision  0.601863  0.612551\n",
      "recall     0.447989  0.474630\n",
      "f1         0.513650  0.534842\n",
      "63 5\n",
      "              train      test\n",
      "accuracy   0.734058  0.746976\n",
      "precision  0.670305  0.694165\n",
      "recall     0.347781  0.364693\n",
      "f1         0.457956  0.478170\n",
      "123 6\n",
      "              train      test\n",
      "accuracy   0.763217  0.775874\n",
      "precision  0.679851  0.690834\n",
      "recall     0.504623  0.533827\n",
      "f1         0.579276  0.602266\n",
      "227 7\n",
      "              train      test\n",
      "accuracy   0.794093  0.805780\n",
      "precision  0.692430  0.699134\n",
      "recall     0.652335  0.682875\n",
      "f1         0.671785  0.690909\n",
      "393 8\n",
      "              train      test\n",
      "accuracy   0.872760  0.861223\n",
      "precision  0.803753  0.777894\n",
      "recall     0.801896  0.788584\n",
      "f1         0.802823  0.783202\n",
      "597 9\n",
      "              train      test\n",
      "accuracy   0.992981  0.993280\n",
      "precision  0.983215  0.987368\n",
      "recall     0.995261  0.991543\n",
      "f1         0.989202  0.989451\n",
      "621 10\n",
      "              train      test\n",
      "accuracy   0.996154  0.997312\n",
      "precision  0.993306  0.995772\n",
      "recall     0.994799  0.995772\n",
      "f1         0.994052  0.995772\n",
      "639 12\n",
      "           train  test\n",
      "accuracy     1.0   1.0\n",
      "precision    1.0   1.0\n",
      "recall       1.0   1.0\n",
      "f1           1.0   1.0\n",
      "639 12\n",
      "           train  test\n",
      "accuracy     1.0   1.0\n",
      "precision    1.0   1.0\n",
      "recall       1.0   1.0\n",
      "f1           1.0   1.0\n",
      "639 12\n",
      "           train  test\n",
      "accuracy     1.0   1.0\n",
      "precision    1.0   1.0\n",
      "recall       1.0   1.0\n",
      "f1           1.0   1.0\n",
      "639 12\n",
      "           train  test\n",
      "accuracy     1.0   1.0\n",
      "precision    1.0   1.0\n",
      "recall       1.0   1.0\n",
      "f1           1.0   1.0\n",
      "639 12\n",
      "           train  test\n",
      "accuracy     1.0   1.0\n",
      "precision    1.0   1.0\n",
      "recall       1.0   1.0\n",
      "f1           1.0   1.0\n"
     ]
    }
   ],
   "source": [
    "depth_to_check = [4,5,6,7,8,9,10,15,20,30,50,100]\n",
    "\n",
    "for i in depth_to_check:\n",
    "    dt, node_count, max_depth, train_test_full_error  = dec_tree_df(X_train,y_train, X_test, y_test, i, 42)\n",
    "    \n",
    "    name_file = f\"{PATH_MODELS}\\\\reverse_model1\\\\decision_tree_reverse_df_model_{str(i)}.pkl\"\n",
    "    with open(name_file, 'wb') as file:\n",
    "        pickle.dump(dt, file)\n",
    "    \n",
    "    print(node_count, max_depth)\n",
    "    print(train_test_full_error)"
   ]
  },
  {
   "cell_type": "code",
   "execution_count": 24,
   "metadata": {},
   "outputs": [
    {
     "name": "stdout",
     "output_type": "stream",
     "text": [
      "0\n",
      "631 10\n",
      "              train      test\n",
      "accuracy   0.986410  0.983535\n",
      "precision  0.984105  0.973712\n",
      "recall     0.973636  0.974737\n",
      "f1         0.978842  0.974224\n",
      "1\n",
      "701 10\n",
      "              train      test\n",
      "accuracy   0.976366  0.969758\n",
      "precision  0.951059  0.945361\n",
      "recall     0.975089  0.961216\n",
      "f1         0.962924  0.953222\n",
      "2\n",
      "647 10\n",
      "              train      test\n",
      "accuracy   0.986634  0.982863\n",
      "precision  0.980711  0.974542\n",
      "recall     0.977511  0.973550\n",
      "f1         0.979108  0.974046\n",
      "3\n",
      "637 10\n",
      "              train      test\n",
      "accuracy   0.992047  0.988575\n",
      "precision  0.982903  0.979058\n",
      "recall     0.991909  0.985248\n",
      "f1         0.987385  0.982143\n",
      "4\n",
      "625 10\n",
      "              train      test\n",
      "accuracy   0.996789  0.995632\n",
      "precision  0.995615  0.993651\n",
      "recall     0.994200  0.992600\n",
      "f1         0.994907  0.993125\n",
      "5\n",
      "605 10\n",
      "              train      test\n",
      "accuracy   0.998880  0.998656\n",
      "precision  0.998023  0.996875\n",
      "recall     0.998487  0.998956\n",
      "f1         0.998255  0.997914\n",
      "6\n",
      "615 10\n",
      "              train      test\n",
      "accuracy   0.990741  0.988239\n",
      "precision  0.987950  0.981033\n",
      "recall     0.983393  0.982068\n",
      "f1         0.985666  0.981550\n",
      "7\n",
      "607 10\n",
      "              train      test\n",
      "accuracy   0.995221  0.994624\n",
      "precision  0.993089  0.991649\n",
      "recall     0.992175  0.991649\n",
      "f1         0.992632  0.991649\n",
      "8\n",
      "667 10\n",
      "              train      test\n",
      "accuracy   0.987903  0.983535\n",
      "precision  0.986277  0.983607\n",
      "recall     0.975975  0.963597\n",
      "f1         0.981099  0.973499\n",
      "9\n",
      "657 10\n",
      "              train      test\n",
      "accuracy   0.987455  0.982527\n",
      "precision  0.985832  0.978495\n",
      "recall     0.975411  0.966030\n",
      "f1         0.980594  0.972222\n",
      "10\n",
      "643 10\n",
      "              train      test\n",
      "accuracy   0.992944  0.991263\n",
      "precision  0.986961  0.987952\n",
      "recall     0.991192  0.983642\n",
      "f1         0.989072  0.985792\n",
      "11\n",
      "689 10\n",
      "              train      test\n",
      "accuracy   0.986260  0.978159\n",
      "precision  0.977182  0.957513\n",
      "recall     0.979486  0.974684\n",
      "f1         0.978333  0.966022\n",
      "12\n",
      "633 10\n",
      "              train      test\n",
      "accuracy   0.995221  0.992608\n",
      "precision  0.992778  0.990476\n",
      "recall     0.992316  0.986301\n",
      "f1         0.992547  0.988384\n",
      "13\n",
      "781 10\n",
      "              train      test\n",
      "accuracy   0.974276  0.975134\n",
      "precision  0.945283  0.950370\n",
      "recall     0.974584  0.970874\n",
      "f1         0.959710  0.960512\n",
      "14\n",
      "699 10\n",
      "              train      test\n",
      "accuracy   0.979951  0.977823\n",
      "precision  0.966190  0.968017\n",
      "recall     0.970204  0.961864\n",
      "f1         0.968193  0.964931\n",
      "15\n",
      "651 10\n",
      "              train      test\n",
      "accuracy   0.990517  0.987231\n",
      "precision  0.974980  0.967942\n",
      "recall     0.996575  0.992577\n",
      "f1         0.985659  0.980105\n",
      "16\n",
      "637 10\n",
      "              train      test\n",
      "accuracy   0.995370  0.994960\n",
      "precision  0.992146  0.996618\n",
      "recall     0.993311  0.986607\n",
      "f1         0.992728  0.991587\n",
      "17\n",
      "677 10\n",
      "              train      test\n",
      "accuracy   0.979540  0.974126\n",
      "precision  0.960064  0.947585\n",
      "recall     0.976831  0.972574\n",
      "f1         0.968375  0.959917\n",
      "18\n",
      "671 10\n",
      "              train      test\n",
      "accuracy   0.981967  0.980511\n",
      "precision  0.975959  0.974468\n",
      "recall     0.967140  0.964211\n",
      "f1         0.971530  0.969312\n",
      "19\n",
      "721 10\n",
      "              train      test\n",
      "accuracy   0.977785  0.965054\n",
      "precision  0.968027  0.944276\n",
      "recall     0.961261  0.950051\n",
      "f1         0.964632  0.947154\n",
      "20\n",
      "659 10\n",
      "              train      test\n",
      "accuracy   0.988575  0.986559\n",
      "precision  0.985699  0.985447\n",
      "recall     0.978587  0.973306\n",
      "f1         0.982130  0.979339\n",
      "21\n",
      "659 10\n",
      "              train      test\n",
      "accuracy   0.994362  0.990591\n",
      "precision  0.990209  0.980666\n",
      "recall     0.992175  0.989166\n",
      "f1         0.991191  0.984898\n",
      "22\n",
      "627 10\n",
      "              train      test\n",
      "accuracy   0.992906  0.988575\n",
      "precision  0.988619  0.985700\n",
      "recall     0.989309  0.979695\n",
      "f1         0.988964  0.982688\n",
      "23\n",
      "657 10\n",
      "              train      test\n",
      "accuracy   0.990255  0.989583\n",
      "precision  0.985781  0.981972\n",
      "recall     0.983079  0.985106\n",
      "f1         0.984428  0.983537\n",
      "24\n",
      "677 10\n",
      "              train      test\n",
      "accuracy   0.990815  0.985887\n",
      "precision  0.984142  0.980352\n",
      "recall     0.987135  0.976313\n",
      "f1         0.985636  0.978328\n"
     ]
    }
   ],
   "source": [
    "amount_features = len(reverse_df_sort.columns) - SIZE*SIZE #the previous boards\n",
    "features = reverse_df_sort.iloc[:, :amount_features]\n",
    "for i in range(SIZE*SIZE): # to any pixel in the expected board\n",
    "    name_col = 'Col_' + str(i+amount_features + 1)\n",
    "    target = reverse_df_sort[name_col]\n",
    "    X_train, X_test, y_train, y_test = train_test_split(features, target, test_size=0.1, random_state=613)\n",
    "    dt, node_count, max_depth, train_test_full_error  = dec_tree_df(X_train,y_train, X_test, y_test, 10, 42)\n",
    "    name_file = f\"{PATH_MODELS}\\\\reverse1\\\\dt_r1_pixel_{str(i+1)}.pkl\"\n",
    "    with open(name_file, 'wb') as file:\n",
    "        pickle.dump(dt, file)\n",
    "    print(i)\n",
    "    print(node_count, max_depth)\n",
    "    print(train_test_full_error)"
   ]
  }
 ],
 "metadata": {
  "kernelspec": {
   "display_name": "Python 3",
   "language": "python",
   "name": "python3"
  },
  "language_info": {
   "codemirror_mode": {
    "name": "ipython",
    "version": 3
   },
   "file_extension": ".py",
   "mimetype": "text/x-python",
   "name": "python",
   "nbconvert_exporter": "python",
   "pygments_lexer": "ipython3",
   "version": "3.11.9"
  }
 },
 "nbformat": 4,
 "nbformat_minor": 2
}
