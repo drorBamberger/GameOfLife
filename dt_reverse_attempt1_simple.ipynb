{
 "cells": [
  {
   "cell_type": "markdown",
   "metadata": {},
   "source": [
    "# first attempt - simple reverse prediction"
   ]
  },
  {
   "cell_type": "code",
   "execution_count": 63,
   "metadata": {},
   "outputs": [],
   "source": [
    "import numpy as np\n",
    "import pandas as pd\n",
    "from functions import *\n",
    "from read_from_file_df import *\n",
    "import pickle\n",
    "from sklearn.model_selection import train_test_split\n",
    "from sklearn.tree import DecisionTreeClassifier\n",
    "from sklearn.metrics import accuracy_score"
   ]
  },
  {
   "cell_type": "code",
   "execution_count": 64,
   "metadata": {},
   "outputs": [],
   "source": [
    "gen = 2\n",
    "name_df = f'df\\\\{SIZE}size_{AMOUNT_BOARDS}boards_{gen}gen_reverse'\n",
    "reverse_df = pd.read_pickle(f'{name_df}.pkl')"
   ]
  },
  {
   "cell_type": "code",
   "execution_count": 65,
   "metadata": {},
   "outputs": [],
   "source": [
    "new_columns = [f'Col_{i}' for i in range(1, gen*SIZE*SIZE + 1)]\n",
    "reverse_df_sort = reverse_df.sort_values(by = new_columns).reset_index(drop=True)\n",
    "for i in reverse_df_sort.columns:\n",
    "    reverse_df_sort[i] = reverse_df_sort[i].astype(int)"
   ]
  },
  {
   "cell_type": "code",
   "execution_count": 66,
   "metadata": {},
   "outputs": [
    {
     "name": "stdout",
     "output_type": "stream",
     "text": [
      "reverse df: 29760\n",
      "reverse df sort: 29760\n"
     ]
    }
   ],
   "source": [
    "print(\"reverse df:\", len(reverse_df))\n",
    "print(\"reverse df sort:\",len(reverse_df_sort))"
   ]
  },
  {
   "cell_type": "code",
   "execution_count": 67,
   "metadata": {},
   "outputs": [
    {
     "name": "stdout",
     "output_type": "stream",
     "text": [
      "len x train:  26784\n",
      "len x test:  2976\n",
      "len y train:  26784\n",
      "len y test:  2976\n",
      "18129 25\n"
     ]
    },
    {
     "data": {
      "text/html": [
       "<div>\n",
       "<style scoped>\n",
       "    .dataframe tbody tr th:only-of-type {\n",
       "        vertical-align: middle;\n",
       "    }\n",
       "\n",
       "    .dataframe tbody tr th {\n",
       "        vertical-align: top;\n",
       "    }\n",
       "\n",
       "    .dataframe thead th {\n",
       "        text-align: right;\n",
       "    }\n",
       "</style>\n",
       "<table border=\"1\" class=\"dataframe\">\n",
       "  <thead>\n",
       "    <tr style=\"text-align: right;\">\n",
       "      <th></th>\n",
       "      <th>train</th>\n",
       "      <th>test</th>\n",
       "    </tr>\n",
       "  </thead>\n",
       "  <tbody>\n",
       "    <tr>\n",
       "      <th>accuracy</th>\n",
       "      <td>0.969945</td>\n",
       "      <td>0.629704</td>\n",
       "    </tr>\n",
       "    <tr>\n",
       "      <th>precision</th>\n",
       "      <td>0.989717</td>\n",
       "      <td>0.460565</td>\n",
       "    </tr>\n",
       "    <tr>\n",
       "      <th>recall</th>\n",
       "      <td>0.922861</td>\n",
       "      <td>0.463271</td>\n",
       "    </tr>\n",
       "    <tr>\n",
       "      <th>f1</th>\n",
       "      <td>0.955121</td>\n",
       "      <td>0.461914</td>\n",
       "    </tr>\n",
       "  </tbody>\n",
       "</table>\n",
       "</div>"
      ],
      "text/plain": [
       "              train      test\n",
       "accuracy   0.969945  0.629704\n",
       "precision  0.989717  0.460565\n",
       "recall     0.922861  0.463271\n",
       "f1         0.955121  0.461914"
      ]
     },
     "execution_count": 67,
     "metadata": {},
     "output_type": "execute_result"
    }
   ],
   "source": [
    "# Step 1: Prepare Data\n",
    "amount_features = len(reverse_df_sort.columns) - SIZE*SIZE #the previous boards\n",
    "features = reverse_df_sort.iloc[:, :amount_features]\n",
    "name_col = 'Col_' + str(amount_features + 1)  # Target: the first pixel in the board\n",
    "target = reverse_df_sort[name_col]\n",
    "\n",
    "# Step 2: Split Data\n",
    "X_train, X_test, y_train, y_test = train_test_split(features, target, test_size=0.1, random_state=365)\n",
    "\n",
    "print(\"len x train: \", len(X_train))\n",
    "print(\"len x test: \",len(X_test))\n",
    "print(\"len y train: \",len(y_train))\n",
    "print(\"len y test: \",len(y_test))\n",
    "\n",
    "dt = tree.DecisionTreeClassifier(random_state=42)\n",
    "dt = dt.fit(X_train, y_train)\n",
    "\n",
    "y_train_pred = dt.predict(X_train)\n",
    "y_test_pred = dt.predict(X_test)\n",
    "\n",
    "train_test_full_error = pd.concat([measure_error(y_train, y_train_pred, 'train'),\n",
    "                                measure_error(y_test, y_test_pred, 'test')],\n",
    "                                axis=1)\n",
    "\n",
    "print(dt.tree_.node_count, dt.tree_.max_depth)\n",
    "train_test_full_error"
   ]
  },
  {
   "cell_type": "code",
   "execution_count": 68,
   "metadata": {},
   "outputs": [
    {
     "data": {
      "text/plain": [
       "array([1, 0, 0, 0, 0, 1, 1, 1, 1, 1, 1, 0, 0, 0, 0, 0, 1, 1, 1, 1, 0, 0,\n",
       "       1, 1, 0, 0, 0, 0, 0, 0, 1, 1, 1, 1, 1, 1, 0, 0, 0, 0, 0, 0, 1, 1,\n",
       "       0, 0, 0, 1, 1, 0])"
      ]
     },
     "execution_count": 68,
     "metadata": {},
     "output_type": "execute_result"
    }
   ],
   "source": [
    "reverse_df_sort.iloc[21540].values"
   ]
  },
  {
   "cell_type": "code",
   "execution_count": 69,
   "metadata": {},
   "outputs": [
    {
     "data": {
      "text/plain": [
       "array([1, 0, 0, 0, 0, 1, 1, 1, 1, 1, 1, 0, 0, 0, 0, 0, 1, 1, 1, 1, 0, 0,\n",
       "       1, 1, 0])"
      ]
     },
     "execution_count": 69,
     "metadata": {},
     "output_type": "execute_result"
    }
   ],
   "source": [
    "features.iloc[21540].values"
   ]
  },
  {
   "cell_type": "code",
   "execution_count": 70,
   "metadata": {},
   "outputs": [
    {
     "data": {
      "text/plain": [
       "0"
      ]
     },
     "execution_count": 70,
     "metadata": {},
     "output_type": "execute_result"
    }
   ],
   "source": [
    "target.iloc[21540]"
   ]
  },
  {
   "cell_type": "code",
   "execution_count": 71,
   "metadata": {},
   "outputs": [
    {
     "name": "stdout",
     "output_type": "stream",
     "text": [
      "31 4\n",
      "              train      test\n",
      "accuracy   0.681750  0.665659\n",
      "precision  0.562894  0.519637\n",
      "recall     0.365438  0.336925\n",
      "f1         0.443167  0.408794\n",
      "63 5\n",
      "              train      test\n",
      "accuracy   0.686828  0.668347\n",
      "precision  0.573617  0.525680\n",
      "recall     0.375242  0.340842\n",
      "f1         0.453693  0.413547\n",
      "127 6\n",
      "              train      test\n",
      "accuracy   0.688508  0.665323\n",
      "precision  0.575689  0.518409\n",
      "recall     0.384723  0.344760\n",
      "f1         0.461221  0.414118\n",
      "255 7\n",
      "              train      test\n",
      "accuracy   0.694407  0.677755\n",
      "precision  0.606567  0.556159\n",
      "recall     0.336350  0.300686\n",
      "f1         0.432740  0.390337\n",
      "511 8\n",
      "              train      test\n",
      "accuracy   0.703480  0.671035\n",
      "precision  0.624350  0.534768\n",
      "recall     0.362422  0.316357\n",
      "f1         0.458623  0.397538\n",
      "1003 9\n",
      "              train      test\n",
      "accuracy   0.715912  0.668683\n",
      "precision  0.652562  0.529915\n",
      "recall     0.385477  0.303624\n",
      "f1         0.484660  0.386052\n",
      "1927 10\n",
      "              train      test\n",
      "accuracy   0.737418  0.661290\n",
      "precision  0.689342  0.509774\n",
      "recall     0.441069  0.332027\n",
      "f1         0.537941  0.402135\n",
      "12065 15\n",
      "              train      test\n",
      "accuracy   0.904495  0.634409\n",
      "precision  0.926650  0.464921\n",
      "recall     0.786684  0.434868\n",
      "f1         0.850950  0.449393\n",
      "17175 20\n",
      "              train      test\n",
      "accuracy   0.963971  0.624328\n",
      "precision  0.986659  0.451933\n",
      "recall     0.908317  0.446621\n",
      "f1         0.945869  0.449261\n",
      "18129 25\n",
      "              train      test\n",
      "accuracy   0.969945  0.629704\n",
      "precision  0.989717  0.460565\n",
      "recall     0.922861  0.463271\n",
      "f1         0.955121  0.461914\n",
      "18129 25\n",
      "              train      test\n",
      "accuracy   0.969945  0.629704\n",
      "precision  0.989717  0.460565\n",
      "recall     0.922861  0.463271\n",
      "f1         0.955121  0.461914\n",
      "18129 25\n",
      "              train      test\n",
      "accuracy   0.969945  0.629704\n",
      "precision  0.989717  0.460565\n",
      "recall     0.922861  0.463271\n",
      "f1         0.955121  0.461914\n"
     ]
    }
   ],
   "source": [
    "depth_to_check = [4,5,6,7,8,9,10,15,20,30,50,100]\n",
    "\n",
    "for i in depth_to_check:\n",
    "    dt, node_count, max_depth, train_test_full_error  = dec_tree_df(X_train,y_train, X_test, y_test, i, 42)\n",
    "    \n",
    "    name_file = f\"reverse_model1\\\\decision_tree_reverse_df_model_{str(i)}.pkl\"\n",
    "    with open(name_file, 'wb') as file:\n",
    "        pickle.dump(dt, file)\n",
    "    \n",
    "    print(node_count, max_depth)\n",
    "    print(train_test_full_error)"
   ]
  },
  {
   "cell_type": "code",
   "execution_count": 72,
   "metadata": {},
   "outputs": [
    {
     "name": "stdout",
     "output_type": "stream",
     "text": [
      "0\n",
      "12277 15\n",
      "              train      test\n",
      "accuracy   0.905466  0.636425\n",
      "precision  0.920438  0.460149\n",
      "recall     0.796472  0.429990\n",
      "f1         0.853979  0.444559\n",
      "1\n",
      "11849 15\n",
      "              train      test\n",
      "accuracy   0.901322  0.646169\n",
      "precision  0.932527  0.457552\n",
      "recall     0.768980  0.425205\n",
      "f1         0.842894  0.440786\n",
      "2\n",
      "11957 15\n",
      "              train      test\n",
      "accuracy   0.903188  0.659274\n",
      "precision  0.930724  0.504310\n",
      "recall     0.778628  0.457926\n",
      "f1         0.847909  0.480000\n",
      "3\n",
      "11983 15\n",
      "              train      test\n",
      "accuracy   0.906101  0.620632\n",
      "precision  0.927225  0.431991\n",
      "recall     0.784928  0.395418\n",
      "f1         0.850164  0.412897\n",
      "4\n",
      "11981 15\n",
      "              train      test\n",
      "accuracy   0.906399  0.647177\n",
      "precision  0.929818  0.468856\n",
      "recall     0.787118  0.416080\n",
      "f1         0.852538  0.440895\n",
      "5\n",
      "12005 15\n",
      "              train      test\n",
      "accuracy   0.903711  0.667339\n",
      "precision  0.928599  0.512224\n",
      "recall     0.782562  0.435213\n",
      "f1         0.849349  0.470588\n",
      "6\n",
      "12095 15\n",
      "              train      test\n",
      "accuracy   0.904719  0.633065\n",
      "precision  0.926222  0.457646\n",
      "recall     0.790586  0.409852\n",
      "f1         0.853046  0.432432\n",
      "7\n",
      "12109 15\n",
      "              train      test\n",
      "accuracy   0.905578  0.624664\n",
      "precision  0.923419  0.451647\n",
      "recall     0.796590  0.414230\n",
      "f1         0.855329  0.432130\n",
      "8\n",
      "12283 15\n",
      "              train      test\n",
      "accuracy   0.905391  0.633737\n",
      "precision  0.923629  0.467724\n",
      "recall     0.792080  0.399806\n",
      "f1         0.852811  0.431106\n",
      "9\n",
      "12037 15\n",
      "              train      test\n",
      "accuracy   0.901770  0.630376\n",
      "precision  0.929775  0.462921\n",
      "recall     0.777742  0.398453\n",
      "f1         0.846990  0.428274\n",
      "10\n",
      "12017 15\n",
      "              train      test\n",
      "accuracy   0.902815  0.629704\n",
      "precision  0.928305  0.464017\n",
      "recall     0.779396  0.417391\n",
      "f1         0.847358  0.439471\n",
      "11\n",
      "11951 15\n",
      "              train      test\n",
      "accuracy   0.905466  0.632728\n",
      "precision  0.928079  0.468605\n",
      "recall     0.782885  0.387873\n",
      "f1         0.849322  0.424434\n",
      "12\n",
      "12183 15\n",
      "              train      test\n",
      "accuracy   0.904533  0.647513\n",
      "precision  0.932537  0.472527\n",
      "recall     0.781247  0.430430\n",
      "f1         0.850214  0.450498\n",
      "13\n",
      "11949 15\n",
      "              train      test\n",
      "accuracy   0.905093  0.633401\n",
      "precision  0.930953  0.440678\n",
      "recall     0.778656  0.395538\n",
      "f1         0.848021  0.416889\n",
      "14\n",
      "11703 15\n",
      "              train      test\n",
      "accuracy   0.901583  0.638441\n",
      "precision  0.924451  0.458647\n",
      "recall     0.773442  0.427427\n",
      "f1         0.842231  0.442487\n",
      "15\n",
      "12011 15\n",
      "              train      test\n",
      "accuracy   0.905055  0.629368\n",
      "precision  0.922470  0.481323\n",
      "recall     0.796340  0.422285\n",
      "f1         0.854777  0.449875\n",
      "16\n",
      "12129 15\n",
      "              train      test\n",
      "accuracy   0.906063  0.626680\n",
      "precision  0.930151  0.446759\n",
      "recall     0.784444  0.378803\n",
      "f1         0.851107  0.409984\n",
      "17\n",
      "12185 15\n",
      "              train      test\n",
      "accuracy   0.906661  0.636761\n",
      "precision  0.926043  0.477322\n",
      "recall     0.792749  0.425409\n",
      "f1         0.854227  0.449873\n",
      "18\n",
      "12215 15\n",
      "              train      test\n",
      "accuracy   0.905765  0.636761\n",
      "precision  0.926582  0.459757\n",
      "recall     0.787155  0.413690\n",
      "f1         0.851197  0.435509\n",
      "19\n",
      "11925 15\n",
      "              train      test\n",
      "accuracy   0.905391  0.635417\n",
      "precision  0.930972  0.466073\n",
      "recall     0.781846  0.409180\n",
      "f1         0.849917  0.435777\n",
      "20\n",
      "12109 15\n",
      "              train      test\n",
      "accuracy   0.904607  0.628360\n",
      "precision  0.931489  0.473741\n",
      "recall     0.782655  0.418165\n",
      "f1         0.850611  0.444221\n",
      "21\n",
      "12053 15\n",
      "              train      test\n",
      "accuracy   0.904757  0.644153\n",
      "precision  0.930221  0.488713\n",
      "recall     0.782043  0.416747\n",
      "f1         0.849720  0.449870\n",
      "22\n",
      "12077 15\n",
      "              train      test\n",
      "accuracy   0.903973  0.633737\n",
      "precision  0.928906  0.428410\n",
      "recall     0.784713  0.394600\n",
      "f1         0.850743  0.410811\n",
      "23\n",
      "12225 15\n",
      "              train      test\n",
      "accuracy   0.908341  0.654234\n",
      "precision  0.936921  0.471742\n",
      "recall     0.781750  0.417347\n",
      "f1         0.852331  0.442880\n",
      "24\n",
      "11971 15\n",
      "              train      test\n",
      "accuracy   0.903823  0.643817\n",
      "precision  0.930158  0.467742\n",
      "recall     0.779762  0.404382\n",
      "f1         0.848346  0.433761\n"
     ]
    }
   ],
   "source": [
    "amount_features = len(reverse_df_sort.columns) - SIZE*SIZE #the previous boards\n",
    "features = reverse_df_sort.iloc[:, :amount_features]\n",
    "for i in range(SIZE*SIZE): # to any pixel in the expected board\n",
    "    name_col = 'Col_' + str(i+amount_features + 1)\n",
    "    target = reverse_df_sort[name_col]\n",
    "    X_train, X_test, y_train, y_test = train_test_split(features, target, test_size=0.1, random_state=613)\n",
    "    dt, node_count, max_depth, train_test_full_error  = dec_tree_df(X_train,y_train, X_test, y_test, 15, 42)\n",
    "    name_file = f\"reverse1\\\\dt_r1_pixel_{str(i+1)}.pkl\"\n",
    "    with open(name_file, 'wb') as file:\n",
    "        pickle.dump(dt, file)\n",
    "    print(i)\n",
    "    print(node_count, max_depth)\n",
    "    print(train_test_full_error)"
   ]
  }
 ],
 "metadata": {
  "kernelspec": {
   "display_name": "Python 3",
   "language": "python",
   "name": "python3"
  },
  "language_info": {
   "codemirror_mode": {
    "name": "ipython",
    "version": 3
   },
   "file_extension": ".py",
   "mimetype": "text/x-python",
   "name": "python",
   "nbconvert_exporter": "python",
   "pygments_lexer": "ipython3",
   "version": "3.11.9"
  }
 },
 "nbformat": 4,
 "nbformat_minor": 2
}
