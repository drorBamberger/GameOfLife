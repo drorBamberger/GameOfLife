{
 "cells": [
  {
   "cell_type": "markdown",
   "metadata": {},
   "source": [
    "# first attempt - simple reverse prediction"
   ]
  },
  {
   "cell_type": "code",
   "execution_count": 21,
   "metadata": {},
   "outputs": [],
   "source": [
    "import numpy as np\n",
    "import pandas as pd\n",
    "from functions import *\n",
    "from read_from_file_df import *\n",
    "import pickle\n",
    "from sklearn.model_selection import train_test_split\n",
    "from sklearn.tree import DecisionTreeClassifier\n",
    "from sklearn.metrics import accuracy_score"
   ]
  },
  {
   "cell_type": "code",
   "execution_count": 22,
   "metadata": {},
   "outputs": [],
   "source": [
    "gen = 2\n",
    "name_df = f'df\\\\{SIZE}size_{AMOUNT_BOARDS}boards_{gen}gen_reverse'\n",
    "reverse_df = pd.read_pickle(f'{name_df}.pkl')"
   ]
  },
  {
   "cell_type": "code",
   "execution_count": 23,
   "metadata": {},
   "outputs": [],
   "source": [
    "new_columns = [f'Col_{i}' for i in range(1, gen*SIZE*SIZE + 1)]\n",
    "reverse_df_sort = reverse_df.sort_values(by = new_columns).reset_index(drop=True)\n",
    "for i in reverse_df_sort.columns:\n",
    "    reverse_df_sort[i] = reverse_df_sort[i].astype(int)"
   ]
  },
  {
   "cell_type": "code",
   "execution_count": 24,
   "metadata": {},
   "outputs": [
    {
     "name": "stdout",
     "output_type": "stream",
     "text": [
      "reverse df: 29760\n",
      "reverse df sort: 29760\n"
     ]
    }
   ],
   "source": [
    "print(\"reverse df:\", len(reverse_df))\n",
    "print(\"reverse df sort:\",len(reverse_df_sort))"
   ]
  },
  {
   "cell_type": "code",
   "execution_count": 25,
   "metadata": {},
   "outputs": [
    {
     "name": "stdout",
     "output_type": "stream",
     "text": [
      "len x train:  26784\n",
      "len x test:  2976\n",
      "len y train:  26784\n",
      "len y test:  2976\n",
      "18129 25\n"
     ]
    },
    {
     "data": {
      "text/html": [
       "<div>\n",
       "<style scoped>\n",
       "    .dataframe tbody tr th:only-of-type {\n",
       "        vertical-align: middle;\n",
       "    }\n",
       "\n",
       "    .dataframe tbody tr th {\n",
       "        vertical-align: top;\n",
       "    }\n",
       "\n",
       "    .dataframe thead th {\n",
       "        text-align: right;\n",
       "    }\n",
       "</style>\n",
       "<table border=\"1\" class=\"dataframe\">\n",
       "  <thead>\n",
       "    <tr style=\"text-align: right;\">\n",
       "      <th></th>\n",
       "      <th>train</th>\n",
       "      <th>test</th>\n",
       "    </tr>\n",
       "  </thead>\n",
       "  <tbody>\n",
       "    <tr>\n",
       "      <th>accuracy</th>\n",
       "      <td>0.969945</td>\n",
       "      <td>0.629704</td>\n",
       "    </tr>\n",
       "    <tr>\n",
       "      <th>precision</th>\n",
       "      <td>0.989717</td>\n",
       "      <td>0.460565</td>\n",
       "    </tr>\n",
       "    <tr>\n",
       "      <th>recall</th>\n",
       "      <td>0.922861</td>\n",
       "      <td>0.463271</td>\n",
       "    </tr>\n",
       "    <tr>\n",
       "      <th>f1</th>\n",
       "      <td>0.955121</td>\n",
       "      <td>0.461914</td>\n",
       "    </tr>\n",
       "  </tbody>\n",
       "</table>\n",
       "</div>"
      ],
      "text/plain": [
       "              train      test\n",
       "accuracy   0.969945  0.629704\n",
       "precision  0.989717  0.460565\n",
       "recall     0.922861  0.463271\n",
       "f1         0.955121  0.461914"
      ]
     },
     "execution_count": 25,
     "metadata": {},
     "output_type": "execute_result"
    }
   ],
   "source": [
    "# Step 1: Prepare Data\n",
    "amount_features = len(reverse_df_sort.columns) - SIZE*SIZE #the previous boards\n",
    "features = reverse_df_sort.iloc[:, :amount_features]\n",
    "name_col = 'Col_' + str(amount_features + 1)  # Target: the first pixel in the board\n",
    "target = reverse_df_sort[name_col]\n",
    "\n",
    "# Step 2: Split Data\n",
    "X_train, X_test, y_train, y_test = train_test_split(features, target, test_size=0.1, random_state=365)\n",
    "\n",
    "print(\"len x train: \", len(X_train))\n",
    "print(\"len x test: \",len(X_test))\n",
    "print(\"len y train: \",len(y_train))\n",
    "print(\"len y test: \",len(y_test))\n",
    "\n",
    "dt = tree.DecisionTreeClassifier(random_state=42)\n",
    "dt = dt.fit(X_train, y_train)\n",
    "\n",
    "y_train_pred = dt.predict(X_train)\n",
    "y_test_pred = dt.predict(X_test)\n",
    "\n",
    "train_test_full_error = pd.concat([measure_error(y_train, y_train_pred, 'train'),\n",
    "                                measure_error(y_test, y_test_pred, 'test')],\n",
    "                                axis=1)\n",
    "\n",
    "print(dt.tree_.node_count, dt.tree_.max_depth)\n",
    "train_test_full_error"
   ]
  },
  {
   "cell_type": "code",
   "execution_count": 26,
   "metadata": {},
   "outputs": [
    {
     "data": {
      "text/plain": [
       "array([1, 0, 0, 0, 0, 1, 1, 1, 1, 1, 1, 0, 0, 0, 0, 0, 1, 1, 1, 1, 0, 0,\n",
       "       1, 1, 0, 0, 0, 0, 0, 0, 1, 1, 1, 1, 1, 1, 0, 0, 0, 0, 0, 0, 1, 1,\n",
       "       0, 0, 0, 1, 1, 0])"
      ]
     },
     "execution_count": 26,
     "metadata": {},
     "output_type": "execute_result"
    }
   ],
   "source": [
    "reverse_df_sort.iloc[21540].values"
   ]
  },
  {
   "cell_type": "code",
   "execution_count": 27,
   "metadata": {},
   "outputs": [
    {
     "data": {
      "text/plain": [
       "array([1, 0, 0, 0, 0, 1, 1, 1, 1, 1, 1, 0, 0, 0, 0, 0, 1, 1, 1, 1, 0, 0,\n",
       "       1, 1, 0])"
      ]
     },
     "execution_count": 27,
     "metadata": {},
     "output_type": "execute_result"
    }
   ],
   "source": [
    "features.iloc[21540].values"
   ]
  },
  {
   "cell_type": "code",
   "execution_count": 28,
   "metadata": {},
   "outputs": [
    {
     "data": {
      "text/plain": [
       "0"
      ]
     },
     "execution_count": 28,
     "metadata": {},
     "output_type": "execute_result"
    }
   ],
   "source": [
    "target.iloc[21540]"
   ]
  },
  {
   "cell_type": "code",
   "execution_count": 29,
   "metadata": {},
   "outputs": [
    {
     "name": "stdout",
     "output_type": "stream",
     "text": [
      "31 4\n",
      "              train      test\n",
      "accuracy   0.681750  0.665659\n",
      "precision  0.562894  0.519637\n",
      "recall     0.365438  0.336925\n",
      "f1         0.443167  0.408794\n",
      "63 5\n",
      "              train      test\n",
      "accuracy   0.686828  0.668347\n",
      "precision  0.573617  0.525680\n",
      "recall     0.375242  0.340842\n",
      "f1         0.453693  0.413547\n",
      "127 6\n",
      "              train      test\n",
      "accuracy   0.688508  0.665323\n",
      "precision  0.575689  0.518409\n",
      "recall     0.384723  0.344760\n",
      "f1         0.461221  0.414118\n",
      "255 7\n",
      "              train      test\n",
      "accuracy   0.694407  0.677755\n",
      "precision  0.606567  0.556159\n",
      "recall     0.336350  0.300686\n",
      "f1         0.432740  0.390337\n",
      "511 8\n",
      "              train      test\n",
      "accuracy   0.703480  0.671035\n",
      "precision  0.624350  0.534768\n",
      "recall     0.362422  0.316357\n",
      "f1         0.458623  0.397538\n",
      "1003 9\n",
      "              train      test\n",
      "accuracy   0.715912  0.668683\n",
      "precision  0.652562  0.529915\n",
      "recall     0.385477  0.303624\n",
      "f1         0.484660  0.386052\n",
      "1927 10\n",
      "              train      test\n",
      "accuracy   0.737418  0.661290\n",
      "precision  0.689342  0.509774\n",
      "recall     0.441069  0.332027\n",
      "f1         0.537941  0.402135\n",
      "12065 15\n",
      "              train      test\n",
      "accuracy   0.904495  0.634409\n",
      "precision  0.926650  0.464921\n",
      "recall     0.786684  0.434868\n",
      "f1         0.850950  0.449393\n",
      "17175 20\n",
      "              train      test\n",
      "accuracy   0.963971  0.624328\n",
      "precision  0.986659  0.451933\n",
      "recall     0.908317  0.446621\n",
      "f1         0.945869  0.449261\n",
      "18129 25\n",
      "              train      test\n",
      "accuracy   0.969945  0.629704\n",
      "precision  0.989717  0.460565\n",
      "recall     0.922861  0.463271\n",
      "f1         0.955121  0.461914\n",
      "18129 25\n",
      "              train      test\n",
      "accuracy   0.969945  0.629704\n",
      "precision  0.989717  0.460565\n",
      "recall     0.922861  0.463271\n",
      "f1         0.955121  0.461914\n",
      "18129 25\n",
      "              train      test\n",
      "accuracy   0.969945  0.629704\n",
      "precision  0.989717  0.460565\n",
      "recall     0.922861  0.463271\n",
      "f1         0.955121  0.461914\n"
     ]
    }
   ],
   "source": [
    "depth_to_check = [4,5,6,7,8,9,10,15,20,30,50,100]\n",
    "\n",
    "for i in depth_to_check:\n",
    "    dt, node_count, max_depth, train_test_full_error  = dec_tree_df(X_train,y_train, X_test, y_test, i, 42)\n",
    "    \n",
    "    name_file = f\"reverse_model1\\\\decision_tree_reverse_df_model_{str(i)}.pkl\"\n",
    "    with open(name_file, 'wb') as file:\n",
    "        pickle.dump(dt, file)\n",
    "    \n",
    "    print(node_count, max_depth)\n",
    "    print(train_test_full_error)"
   ]
  },
  {
   "cell_type": "code",
   "execution_count": 30,
   "metadata": {},
   "outputs": [
    {
     "name": "stdout",
     "output_type": "stream",
     "text": [
      "0\n",
      "1953 10\n",
      "              train      test\n",
      "accuracy   0.735738  0.685820\n",
      "precision  0.684342  0.553254\n",
      "recall     0.442879  0.371400\n",
      "f1         0.537748  0.444444\n",
      "1\n",
      "1889 10\n",
      "              train      test\n",
      "accuracy   0.738127  0.672715\n",
      "precision  0.696333  0.501563\n",
      "recall     0.424295  0.328893\n",
      "f1         0.527295  0.397277\n",
      "2\n",
      "1921 10\n",
      "              train      test\n",
      "accuracy   0.734954  0.681452\n",
      "precision  0.678606  0.554252\n",
      "recall     0.446946  0.369863\n",
      "f1         0.538936  0.443662\n",
      "3\n",
      "1891 10\n",
      "              train      test\n",
      "accuracy   0.740255  0.673723\n",
      "precision  0.681966  0.525741\n",
      "recall     0.439714  0.335657\n",
      "f1         0.534680  0.409726\n",
      "4\n",
      "1911 10\n",
      "              train      test\n",
      "accuracy   0.737306  0.684812\n",
      "precision  0.689607  0.546341\n",
      "recall     0.428804  0.337688\n",
      "f1         0.528797  0.417391\n",
      "5\n",
      "1901 10\n",
      "              train      test\n",
      "accuracy   0.736074  0.688844\n",
      "precision  0.691433  0.568000\n",
      "recall     0.431755  0.351137\n",
      "f1         0.531575  0.433985\n",
      "6\n",
      "1943 10\n",
      "              train      test\n",
      "accuracy   0.735103  0.670699\n",
      "precision  0.689122  0.526555\n",
      "recall     0.442203  0.341872\n",
      "f1         0.538717  0.414576\n",
      "7\n",
      "1913 10\n",
      "              train      test\n",
      "accuracy   0.738687  0.661626\n",
      "precision  0.696411  0.514729\n",
      "recall     0.450719  0.323587\n",
      "f1         0.547254  0.397367\n",
      "8\n",
      "1925 10\n",
      "              train      test\n",
      "accuracy   0.736708  0.667675\n",
      "precision  0.685532  0.534810\n",
      "recall     0.441735  0.327202\n",
      "f1         0.537270  0.406006\n",
      "9\n",
      "1913 10\n",
      "              train      test\n",
      "accuracy   0.736895  0.666667\n",
      "precision  0.689401  0.532407\n",
      "recall     0.450176  0.333656\n",
      "f1         0.544679  0.410226\n",
      "10\n",
      "1925 10\n",
      "              train      test\n",
      "accuracy   0.731892  0.676411\n",
      "precision  0.674345  0.552174\n",
      "recall     0.435814  0.368116\n",
      "f1         0.529454  0.441739\n",
      "11\n",
      "1933 10\n",
      "              train      test\n",
      "accuracy   0.738538  0.673723\n",
      "precision  0.686704  0.556106\n",
      "recall     0.426111  0.324350\n",
      "f1         0.525895  0.409726\n",
      "12\n",
      "1959 10\n",
      "              train      test\n",
      "accuracy   0.736074  0.681116\n",
      "precision  0.687310  0.536550\n",
      "recall     0.438476  0.367367\n",
      "f1         0.535393  0.436126\n",
      "13\n",
      "1933 10\n",
      "              train      test\n",
      "accuracy   0.739695  0.668683\n",
      "precision  0.691055  0.500000\n",
      "recall     0.424133  0.304260\n",
      "f1         0.525650  0.378310\n",
      "14\n",
      "1907 10\n",
      "              train      test\n",
      "accuracy   0.737605  0.666667\n",
      "precision  0.690130  0.505710\n",
      "recall     0.412773  0.310310\n",
      "f1         0.516577  0.384615\n",
      "15\n",
      "1927 10\n",
      "              train      test\n",
      "accuracy   0.733983  0.653562\n",
      "precision  0.699072  0.529695\n",
      "recall     0.424665  0.308989\n",
      "f1         0.528364  0.390302\n",
      "16\n",
      "1955 10\n",
      "              train      test\n",
      "accuracy   0.740255  0.667003\n",
      "precision  0.697462  0.523490\n",
      "recall     0.425766  0.306183\n",
      "f1         0.528754  0.386378\n",
      "17\n",
      "1931 10\n",
      "              train      test\n",
      "accuracy   0.736708  0.665995\n",
      "precision  0.685047  0.533137\n",
      "recall     0.438312  0.348412\n",
      "f1         0.534583  0.421420\n",
      "18\n",
      "1927 10\n",
      "              train      test\n",
      "accuracy   0.735999  0.668683\n",
      "precision  0.685447  0.516566\n",
      "recall     0.423182  0.340278\n",
      "f1         0.523293  0.410287\n",
      "19\n",
      "1903 10\n",
      "              train      test\n",
      "accuracy   0.740778  0.682460\n",
      "precision  0.704279  0.562998\n",
      "recall     0.419636  0.344727\n",
      "f1         0.525913  0.427620\n",
      "20\n",
      "1943 10\n",
      "              train      test\n",
      "accuracy   0.737530  0.678091\n",
      "precision  0.684185  0.571019\n",
      "recall     0.452442  0.376537\n",
      "f1         0.544689  0.453820\n",
      "21\n",
      "1897 10\n",
      "              train      test\n",
      "accuracy   0.740218  0.679099\n",
      "precision  0.698041  0.564220\n",
      "recall     0.432661  0.355149\n",
      "f1         0.534208  0.435913\n",
      "22\n",
      "1937 10\n",
      "              train      test\n",
      "accuracy   0.736596  0.681788\n",
      "precision  0.687932  0.512158\n",
      "recall     0.447918  0.349948\n",
      "f1         0.542566  0.415793\n",
      "23\n",
      "1949 10\n",
      "              train      test\n",
      "accuracy   0.741450  0.681788\n",
      "precision  0.691029  0.526570\n",
      "recall     0.426680  0.333673\n",
      "f1         0.527594  0.408495\n",
      "24\n",
      "1917 10\n",
      "              train      test\n",
      "accuracy   0.735626  0.664315\n",
      "precision  0.689552  0.504259\n",
      "recall     0.425000  0.294821\n",
      "f1         0.525879  0.372093\n"
     ]
    }
   ],
   "source": [
    "amount_features = len(reverse_df_sort.columns) - SIZE*SIZE #the previous boards\n",
    "features = reverse_df_sort.iloc[:, :amount_features]\n",
    "for i in range(SIZE*SIZE): # to any pixel in the expected board\n",
    "    name_col = 'Col_' + str(i+amount_features + 1)\n",
    "    target = reverse_df_sort[name_col]\n",
    "    X_train, X_test, y_train, y_test = train_test_split(features, target, test_size=0.1, random_state=613)\n",
    "    dt, node_count, max_depth, train_test_full_error  = dec_tree_df(X_train,y_train, X_test, y_test, 10, 42)\n",
    "    name_file = f\"reverse1\\\\dt_r1_pixel_{str(i+1)}.pkl\"\n",
    "    with open(name_file, 'wb') as file:\n",
    "        pickle.dump(dt, file)\n",
    "    print(i)\n",
    "    print(node_count, max_depth)\n",
    "    print(train_test_full_error)"
   ]
  }
 ],
 "metadata": {
  "kernelspec": {
   "display_name": "Python 3",
   "language": "python",
   "name": "python3"
  },
  "language_info": {
   "codemirror_mode": {
    "name": "ipython",
    "version": 3
   },
   "file_extension": ".py",
   "mimetype": "text/x-python",
   "name": "python",
   "nbconvert_exporter": "python",
   "pygments_lexer": "ipython3",
   "version": "3.11.9"
  }
 },
 "nbformat": 4,
 "nbformat_minor": 2
}
