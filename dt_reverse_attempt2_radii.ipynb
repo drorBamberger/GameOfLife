{
 "cells": [
  {
   "cell_type": "markdown",
   "metadata": {},
   "source": [
    "# second attempt - reverse prediction with radii"
   ]
  },
  {
   "cell_type": "code",
   "execution_count": 1,
   "metadata": {},
   "outputs": [],
   "source": [
    "import numpy as np\n",
    "import pandas as pd\n",
    "from functions import *\n",
    "from read_from_file_df import *\n",
    "import pickle\n",
    "from sklearn.model_selection import train_test_split\n",
    "from sklearn.tree import DecisionTreeClassifier\n",
    "from sklearn.metrics import accuracy_score"
   ]
  },
  {
   "cell_type": "code",
   "execution_count": 2,
   "metadata": {},
   "outputs": [],
   "source": [
    "def find_loc(pixel, size):\n",
    "    pixel = pixel-1\n",
    "    x = pixel // size\n",
    "    y = pixel % size\n",
    "    return (x,y)"
   ]
  },
  {
   "cell_type": "code",
   "execution_count": 3,
   "metadata": {},
   "outputs": [],
   "source": [
    "def calc_neighs(field, i, j,size, radii = 1):\n",
    "    \"\"\" Calculate number of neighbors alive (assuming square field) \"\"\"\n",
    "    neighs = 0\n",
    "    M = generate_twice_tuples(radii)\n",
    "    for m in M:\n",
    "        row_idx = m[0] + i\n",
    "        col_idx = m[1] + j\n",
    "        if row_idx<0: row_idx+=size\n",
    "        if col_idx<0: col_idx+=size\n",
    "        if row_idx>=size: row_idx-=size\n",
    "        if col_idx>=size: col_idx-=size\n",
    "        if field[row_idx*size+col_idx]:\n",
    "            neighs += 1\n",
    "    return neighs"
   ]
  },
  {
   "cell_type": "code",
   "execution_count": 4,
   "metadata": {},
   "outputs": [],
   "source": [
    "def to_show(board,size):\n",
    "    table = np.zeros((size, size, 3))\n",
    "    for index, col in enumerate(board):\n",
    "        color = int(board[col]) * -1 + 1\n",
    "        i = index // size\n",
    "        j = index % size\n",
    "        table[i, j] = [color, color, color]\n",
    "    return table"
   ]
  },
  {
   "cell_type": "code",
   "execution_count": 5,
   "metadata": {},
   "outputs": [],
   "source": [
    "gen = 3\n",
    "size = SIZE\n",
    "name_df = f'{PATH_DF}\\\\{size}size_{AMOUNT_BOARDS}boards_{gen}gen_reverse'\n",
    "reverse_df = pd.read_pickle(f'{name_df}.pkl')"
   ]
  },
  {
   "cell_type": "code",
   "execution_count": 6,
   "metadata": {},
   "outputs": [],
   "source": [
    "new_columns = [f'Col_{i}' for i in range(1, gen*SIZE*SIZE + 1)]\n",
    "reverse_df_sort = reverse_df.sort_values(by = new_columns).reset_index(drop=True)\n",
    "for i in reverse_df_sort.columns:\n",
    "    reverse_df_sort[i] = reverse_df_sort[i].astype(int)"
   ]
  },
  {
   "cell_type": "code",
   "execution_count": 7,
   "metadata": {},
   "outputs": [
    {
     "name": "stdout",
     "output_type": "stream",
     "text": [
      "(3, 1)\n"
     ]
    }
   ],
   "source": [
    "pixel = 17\n",
    "radii = 1\n",
    "loc = find_loc(pixel, size)\n",
    "print(loc)"
   ]
  },
  {
   "cell_type": "code",
   "execution_count": 8,
   "metadata": {},
   "outputs": [
    {
     "name": "stderr",
     "output_type": "stream",
     "text": [
      "C:\\Users\\דרור\\AppData\\Local\\Temp\\ipykernel_4604\\910354134.py:12: FutureWarning: Series.__getitem__ treating keys as positions is deprecated. In a future version, integer keys will always be treated as labels (consistent with DataFrame behavior). To access a value by position, use `ser.iloc[pos]`\n",
      "  if field[row_idx*size+col_idx]:\n",
      "C:\\Users\\דרור\\AppData\\Local\\Temp\\ipykernel_4604\\910354134.py:12: FutureWarning: Series.__getitem__ treating keys as positions is deprecated. In a future version, integer keys will always be treated as labels (consistent with DataFrame behavior). To access a value by position, use `ser.iloc[pos]`\n",
      "  if field[row_idx*size+col_idx]:\n",
      "C:\\Users\\דרור\\AppData\\Local\\Temp\\ipykernel_4604\\910354134.py:12: FutureWarning: Series.__getitem__ treating keys as positions is deprecated. In a future version, integer keys will always be treated as labels (consistent with DataFrame behavior). To access a value by position, use `ser.iloc[pos]`\n",
      "  if field[row_idx*size+col_idx]:\n"
     ]
    }
   ],
   "source": [
    "reverse_df['radius1'] = reverse_df.apply(lambda row: calc_neighs(row[:size*size],loc[0], loc[1],size,radii ), axis=1)\n",
    "reverse_df['radius2'] = reverse_df.apply(lambda row: calc_neighs(row[size*size:size*size*2],loc[0], loc[1],size,radii ), axis=1)\n",
    "reverse_df['radius3'] = reverse_df.apply(lambda row: calc_neighs(row[size*size*2:],loc[0], loc[1],size,radii ), axis=1)"
   ]
  },
  {
   "cell_type": "code",
   "execution_count": 9,
   "metadata": {},
   "outputs": [
    {
     "data": {
      "text/html": [
       "<div>\n",
       "<style scoped>\n",
       "    .dataframe tbody tr th:only-of-type {\n",
       "        vertical-align: middle;\n",
       "    }\n",
       "\n",
       "    .dataframe tbody tr th {\n",
       "        vertical-align: top;\n",
       "    }\n",
       "\n",
       "    .dataframe thead th {\n",
       "        text-align: right;\n",
       "    }\n",
       "</style>\n",
       "<table border=\"1\" class=\"dataframe\">\n",
       "  <thead>\n",
       "    <tr style=\"text-align: right;\">\n",
       "      <th></th>\n",
       "      <th>Col_1</th>\n",
       "      <th>Col_2</th>\n",
       "      <th>Col_3</th>\n",
       "      <th>Col_4</th>\n",
       "      <th>Col_5</th>\n",
       "      <th>Col_6</th>\n",
       "      <th>Col_7</th>\n",
       "      <th>Col_8</th>\n",
       "      <th>Col_9</th>\n",
       "      <th>Col_10</th>\n",
       "      <th>...</th>\n",
       "      <th>Col_69</th>\n",
       "      <th>Col_70</th>\n",
       "      <th>Col_71</th>\n",
       "      <th>Col_72</th>\n",
       "      <th>Col_73</th>\n",
       "      <th>Col_74</th>\n",
       "      <th>Col_75</th>\n",
       "      <th>radius1</th>\n",
       "      <th>radius2</th>\n",
       "      <th>radius3</th>\n",
       "    </tr>\n",
       "  </thead>\n",
       "  <tbody>\n",
       "    <tr>\n",
       "      <th>0</th>\n",
       "      <td>0</td>\n",
       "      <td>0</td>\n",
       "      <td>0</td>\n",
       "      <td>0</td>\n",
       "      <td>1</td>\n",
       "      <td>1</td>\n",
       "      <td>0</td>\n",
       "      <td>0</td>\n",
       "      <td>0</td>\n",
       "      <td>0</td>\n",
       "      <td>...</td>\n",
       "      <td>0</td>\n",
       "      <td>0</td>\n",
       "      <td>0</td>\n",
       "      <td>1</td>\n",
       "      <td>1</td>\n",
       "      <td>1</td>\n",
       "      <td>1</td>\n",
       "      <td>1</td>\n",
       "      <td>1</td>\n",
       "      <td>3</td>\n",
       "    </tr>\n",
       "    <tr>\n",
       "      <th>1</th>\n",
       "      <td>1</td>\n",
       "      <td>0</td>\n",
       "      <td>0</td>\n",
       "      <td>0</td>\n",
       "      <td>1</td>\n",
       "      <td>0</td>\n",
       "      <td>0</td>\n",
       "      <td>0</td>\n",
       "      <td>0</td>\n",
       "      <td>0</td>\n",
       "      <td>...</td>\n",
       "      <td>0</td>\n",
       "      <td>0</td>\n",
       "      <td>0</td>\n",
       "      <td>0</td>\n",
       "      <td>0</td>\n",
       "      <td>0</td>\n",
       "      <td>1</td>\n",
       "      <td>1</td>\n",
       "      <td>1</td>\n",
       "      <td>1</td>\n",
       "    </tr>\n",
       "    <tr>\n",
       "      <th>2</th>\n",
       "      <td>0</td>\n",
       "      <td>0</td>\n",
       "      <td>0</td>\n",
       "      <td>1</td>\n",
       "      <td>1</td>\n",
       "      <td>0</td>\n",
       "      <td>0</td>\n",
       "      <td>0</td>\n",
       "      <td>0</td>\n",
       "      <td>0</td>\n",
       "      <td>...</td>\n",
       "      <td>1</td>\n",
       "      <td>0</td>\n",
       "      <td>1</td>\n",
       "      <td>0</td>\n",
       "      <td>1</td>\n",
       "      <td>1</td>\n",
       "      <td>1</td>\n",
       "      <td>2</td>\n",
       "      <td>4</td>\n",
       "      <td>4</td>\n",
       "    </tr>\n",
       "    <tr>\n",
       "      <th>3</th>\n",
       "      <td>0</td>\n",
       "      <td>0</td>\n",
       "      <td>0</td>\n",
       "      <td>1</td>\n",
       "      <td>1</td>\n",
       "      <td>0</td>\n",
       "      <td>0</td>\n",
       "      <td>0</td>\n",
       "      <td>0</td>\n",
       "      <td>0</td>\n",
       "      <td>...</td>\n",
       "      <td>0</td>\n",
       "      <td>0</td>\n",
       "      <td>1</td>\n",
       "      <td>0</td>\n",
       "      <td>1</td>\n",
       "      <td>0</td>\n",
       "      <td>0</td>\n",
       "      <td>0</td>\n",
       "      <td>2</td>\n",
       "      <td>4</td>\n",
       "    </tr>\n",
       "    <tr>\n",
       "      <th>4</th>\n",
       "      <td>1</td>\n",
       "      <td>0</td>\n",
       "      <td>1</td>\n",
       "      <td>0</td>\n",
       "      <td>0</td>\n",
       "      <td>1</td>\n",
       "      <td>0</td>\n",
       "      <td>1</td>\n",
       "      <td>0</td>\n",
       "      <td>0</td>\n",
       "      <td>...</td>\n",
       "      <td>0</td>\n",
       "      <td>0</td>\n",
       "      <td>0</td>\n",
       "      <td>0</td>\n",
       "      <td>0</td>\n",
       "      <td>0</td>\n",
       "      <td>0</td>\n",
       "      <td>0</td>\n",
       "      <td>0</td>\n",
       "      <td>1</td>\n",
       "    </tr>\n",
       "    <tr>\n",
       "      <th>...</th>\n",
       "      <td>...</td>\n",
       "      <td>...</td>\n",
       "      <td>...</td>\n",
       "      <td>...</td>\n",
       "      <td>...</td>\n",
       "      <td>...</td>\n",
       "      <td>...</td>\n",
       "      <td>...</td>\n",
       "      <td>...</td>\n",
       "      <td>...</td>\n",
       "      <td>...</td>\n",
       "      <td>...</td>\n",
       "      <td>...</td>\n",
       "      <td>...</td>\n",
       "      <td>...</td>\n",
       "      <td>...</td>\n",
       "      <td>...</td>\n",
       "      <td>...</td>\n",
       "      <td>...</td>\n",
       "      <td>...</td>\n",
       "      <td>...</td>\n",
       "    </tr>\n",
       "    <tr>\n",
       "      <th>28491</th>\n",
       "      <td>1</td>\n",
       "      <td>1</td>\n",
       "      <td>0</td>\n",
       "      <td>0</td>\n",
       "      <td>0</td>\n",
       "      <td>0</td>\n",
       "      <td>0</td>\n",
       "      <td>1</td>\n",
       "      <td>0</td>\n",
       "      <td>0</td>\n",
       "      <td>...</td>\n",
       "      <td>0</td>\n",
       "      <td>0</td>\n",
       "      <td>1</td>\n",
       "      <td>0</td>\n",
       "      <td>0</td>\n",
       "      <td>0</td>\n",
       "      <td>0</td>\n",
       "      <td>4</td>\n",
       "      <td>2</td>\n",
       "      <td>2</td>\n",
       "    </tr>\n",
       "    <tr>\n",
       "      <th>28492</th>\n",
       "      <td>1</td>\n",
       "      <td>0</td>\n",
       "      <td>1</td>\n",
       "      <td>0</td>\n",
       "      <td>0</td>\n",
       "      <td>1</td>\n",
       "      <td>0</td>\n",
       "      <td>1</td>\n",
       "      <td>0</td>\n",
       "      <td>0</td>\n",
       "      <td>...</td>\n",
       "      <td>0</td>\n",
       "      <td>0</td>\n",
       "      <td>0</td>\n",
       "      <td>0</td>\n",
       "      <td>0</td>\n",
       "      <td>0</td>\n",
       "      <td>0</td>\n",
       "      <td>3</td>\n",
       "      <td>4</td>\n",
       "      <td>2</td>\n",
       "    </tr>\n",
       "    <tr>\n",
       "      <th>28493</th>\n",
       "      <td>0</td>\n",
       "      <td>0</td>\n",
       "      <td>1</td>\n",
       "      <td>1</td>\n",
       "      <td>0</td>\n",
       "      <td>0</td>\n",
       "      <td>0</td>\n",
       "      <td>1</td>\n",
       "      <td>1</td>\n",
       "      <td>0</td>\n",
       "      <td>...</td>\n",
       "      <td>0</td>\n",
       "      <td>0</td>\n",
       "      <td>1</td>\n",
       "      <td>1</td>\n",
       "      <td>0</td>\n",
       "      <td>0</td>\n",
       "      <td>0</td>\n",
       "      <td>3</td>\n",
       "      <td>3</td>\n",
       "      <td>4</td>\n",
       "    </tr>\n",
       "    <tr>\n",
       "      <th>28494</th>\n",
       "      <td>0</td>\n",
       "      <td>0</td>\n",
       "      <td>0</td>\n",
       "      <td>0</td>\n",
       "      <td>0</td>\n",
       "      <td>0</td>\n",
       "      <td>0</td>\n",
       "      <td>0</td>\n",
       "      <td>0</td>\n",
       "      <td>0</td>\n",
       "      <td>...</td>\n",
       "      <td>0</td>\n",
       "      <td>1</td>\n",
       "      <td>1</td>\n",
       "      <td>0</td>\n",
       "      <td>1</td>\n",
       "      <td>0</td>\n",
       "      <td>0</td>\n",
       "      <td>2</td>\n",
       "      <td>6</td>\n",
       "      <td>4</td>\n",
       "    </tr>\n",
       "    <tr>\n",
       "      <th>28495</th>\n",
       "      <td>0</td>\n",
       "      <td>0</td>\n",
       "      <td>0</td>\n",
       "      <td>0</td>\n",
       "      <td>0</td>\n",
       "      <td>0</td>\n",
       "      <td>0</td>\n",
       "      <td>0</td>\n",
       "      <td>0</td>\n",
       "      <td>0</td>\n",
       "      <td>...</td>\n",
       "      <td>0</td>\n",
       "      <td>1</td>\n",
       "      <td>1</td>\n",
       "      <td>1</td>\n",
       "      <td>0</td>\n",
       "      <td>0</td>\n",
       "      <td>1</td>\n",
       "      <td>0</td>\n",
       "      <td>2</td>\n",
       "      <td>6</td>\n",
       "    </tr>\n",
       "  </tbody>\n",
       "</table>\n",
       "<p>28496 rows × 78 columns</p>\n",
       "</div>"
      ],
      "text/plain": [
       "      Col_1 Col_2 Col_3 Col_4 Col_5 Col_6 Col_7 Col_8 Col_9 Col_10  ...  \\\n",
       "0         0     0     0     0     1     1     0     0     0      0  ...   \n",
       "1         1     0     0     0     1     0     0     0     0      0  ...   \n",
       "2         0     0     0     1     1     0     0     0     0      0  ...   \n",
       "3         0     0     0     1     1     0     0     0     0      0  ...   \n",
       "4         1     0     1     0     0     1     0     1     0      0  ...   \n",
       "...     ...   ...   ...   ...   ...   ...   ...   ...   ...    ...  ...   \n",
       "28491     1     1     0     0     0     0     0     1     0      0  ...   \n",
       "28492     1     0     1     0     0     1     0     1     0      0  ...   \n",
       "28493     0     0     1     1     0     0     0     1     1      0  ...   \n",
       "28494     0     0     0     0     0     0     0     0     0      0  ...   \n",
       "28495     0     0     0     0     0     0     0     0     0      0  ...   \n",
       "\n",
       "      Col_69 Col_70 Col_71 Col_72 Col_73 Col_74 Col_75 radius1 radius2 radius3  \n",
       "0          0      0      0      1      1      1      1       1       1       3  \n",
       "1          0      0      0      0      0      0      1       1       1       1  \n",
       "2          1      0      1      0      1      1      1       2       4       4  \n",
       "3          0      0      1      0      1      0      0       0       2       4  \n",
       "4          0      0      0      0      0      0      0       0       0       1  \n",
       "...      ...    ...    ...    ...    ...    ...    ...     ...     ...     ...  \n",
       "28491      0      0      1      0      0      0      0       4       2       2  \n",
       "28492      0      0      0      0      0      0      0       3       4       2  \n",
       "28493      0      0      1      1      0      0      0       3       3       4  \n",
       "28494      0      1      1      0      1      0      0       2       6       4  \n",
       "28495      0      1      1      1      0      0      1       0       2       6  \n",
       "\n",
       "[28496 rows x 78 columns]"
      ]
     },
     "execution_count": 9,
     "metadata": {},
     "output_type": "execute_result"
    }
   ],
   "source": [
    "reverse_df"
   ]
  },
  {
   "cell_type": "code",
   "execution_count": 10,
   "metadata": {},
   "outputs": [
    {
     "name": "stderr",
     "output_type": "stream",
     "text": [
      "C:\\Users\\דרור\\AppData\\Local\\Temp\\ipykernel_4604\\3009459553.py:4: FutureWarning: Calling int on a single element Series is deprecated and will raise a TypeError in the future. Use int(ser.iloc[0]) instead\n",
      "  color = int(board[col]) * -1 + 1\n"
     ]
    },
    {
     "data": {
      "image/png": "[encoded data removed]",
      "text/plain": [
       "<Figure size 640x480 with 2 Axes>"
      ]
     },
     "metadata": {},
     "output_type": "display_data"
    }
   ],
   "source": [
    "num_board = 28493\n",
    "\n",
    "board1 = reverse_df.iloc[[num_board],0:size*size]\n",
    "board2 = reverse_df.iloc[[num_board],size*size:size*size*2]\n",
    "\n",
    "board1_to_show = to_show(board1,size)\n",
    "board2_to_show = to_show(board2,size)\n",
    "fig, axes = plt.subplots(1, 2)\n",
    "\n",
    "# Plot the first image\n",
    "axes[0].imshow(board1_to_show)\n",
    "axes[0].set_title('board1')\n",
    "\n",
    "# Plot the second image\n",
    "axes[1].imshow(board2_to_show)\n",
    "axes[1].set_title('board2')\n",
    "\n",
    "# Show the images\n",
    "plt.show()"
   ]
  },
  {
   "cell_type": "code",
   "execution_count": 11,
   "metadata": {},
   "outputs": [
    {
     "data": {
      "text/html": [
       "<div>\n",
       "<style scoped>\n",
       "    .dataframe tbody tr th:only-of-type {\n",
       "        vertical-align: middle;\n",
       "    }\n",
       "\n",
       "    .dataframe tbody tr th {\n",
       "        vertical-align: top;\n",
       "    }\n",
       "\n",
       "    .dataframe thead th {\n",
       "        text-align: right;\n",
       "    }\n",
       "</style>\n",
       "<table border=\"1\" class=\"dataframe\">\n",
       "  <thead>\n",
       "    <tr style=\"text-align: right;\">\n",
       "      <th></th>\n",
       "      <th>Col_1</th>\n",
       "      <th>Col_2</th>\n",
       "      <th>Col_3</th>\n",
       "      <th>Col_4</th>\n",
       "      <th>Col_5</th>\n",
       "      <th>Col_6</th>\n",
       "      <th>Col_7</th>\n",
       "      <th>Col_8</th>\n",
       "      <th>Col_9</th>\n",
       "      <th>Col_10</th>\n",
       "      <th>...</th>\n",
       "      <th>Col_69</th>\n",
       "      <th>Col_70</th>\n",
       "      <th>Col_71</th>\n",
       "      <th>Col_72</th>\n",
       "      <th>Col_73</th>\n",
       "      <th>Col_74</th>\n",
       "      <th>Col_75</th>\n",
       "      <th>radius1</th>\n",
       "      <th>radius2</th>\n",
       "      <th>radius3</th>\n",
       "    </tr>\n",
       "  </thead>\n",
       "  <tbody>\n",
       "    <tr>\n",
       "      <th>0</th>\n",
       "      <td>0</td>\n",
       "      <td>0</td>\n",
       "      <td>0</td>\n",
       "      <td>0</td>\n",
       "      <td>1</td>\n",
       "      <td>1</td>\n",
       "      <td>0</td>\n",
       "      <td>0</td>\n",
       "      <td>0</td>\n",
       "      <td>0</td>\n",
       "      <td>...</td>\n",
       "      <td>0</td>\n",
       "      <td>0</td>\n",
       "      <td>0</td>\n",
       "      <td>1</td>\n",
       "      <td>1</td>\n",
       "      <td>1</td>\n",
       "      <td>1</td>\n",
       "      <td>1</td>\n",
       "      <td>1</td>\n",
       "      <td>3</td>\n",
       "    </tr>\n",
       "    <tr>\n",
       "      <th>1</th>\n",
       "      <td>1</td>\n",
       "      <td>0</td>\n",
       "      <td>0</td>\n",
       "      <td>0</td>\n",
       "      <td>1</td>\n",
       "      <td>0</td>\n",
       "      <td>0</td>\n",
       "      <td>0</td>\n",
       "      <td>0</td>\n",
       "      <td>0</td>\n",
       "      <td>...</td>\n",
       "      <td>0</td>\n",
       "      <td>0</td>\n",
       "      <td>0</td>\n",
       "      <td>0</td>\n",
       "      <td>0</td>\n",
       "      <td>0</td>\n",
       "      <td>1</td>\n",
       "      <td>1</td>\n",
       "      <td>1</td>\n",
       "      <td>1</td>\n",
       "    </tr>\n",
       "    <tr>\n",
       "      <th>2</th>\n",
       "      <td>0</td>\n",
       "      <td>0</td>\n",
       "      <td>0</td>\n",
       "      <td>1</td>\n",
       "      <td>1</td>\n",
       "      <td>0</td>\n",
       "      <td>0</td>\n",
       "      <td>0</td>\n",
       "      <td>0</td>\n",
       "      <td>0</td>\n",
       "      <td>...</td>\n",
       "      <td>1</td>\n",
       "      <td>0</td>\n",
       "      <td>1</td>\n",
       "      <td>0</td>\n",
       "      <td>1</td>\n",
       "      <td>1</td>\n",
       "      <td>1</td>\n",
       "      <td>2</td>\n",
       "      <td>4</td>\n",
       "      <td>4</td>\n",
       "    </tr>\n",
       "    <tr>\n",
       "      <th>3</th>\n",
       "      <td>0</td>\n",
       "      <td>0</td>\n",
       "      <td>0</td>\n",
       "      <td>1</td>\n",
       "      <td>1</td>\n",
       "      <td>0</td>\n",
       "      <td>0</td>\n",
       "      <td>0</td>\n",
       "      <td>0</td>\n",
       "      <td>0</td>\n",
       "      <td>...</td>\n",
       "      <td>0</td>\n",
       "      <td>0</td>\n",
       "      <td>1</td>\n",
       "      <td>0</td>\n",
       "      <td>1</td>\n",
       "      <td>0</td>\n",
       "      <td>0</td>\n",
       "      <td>0</td>\n",
       "      <td>2</td>\n",
       "      <td>4</td>\n",
       "    </tr>\n",
       "    <tr>\n",
       "      <th>4</th>\n",
       "      <td>1</td>\n",
       "      <td>0</td>\n",
       "      <td>1</td>\n",
       "      <td>0</td>\n",
       "      <td>0</td>\n",
       "      <td>1</td>\n",
       "      <td>0</td>\n",
       "      <td>1</td>\n",
       "      <td>0</td>\n",
       "      <td>0</td>\n",
       "      <td>...</td>\n",
       "      <td>0</td>\n",
       "      <td>0</td>\n",
       "      <td>0</td>\n",
       "      <td>0</td>\n",
       "      <td>0</td>\n",
       "      <td>0</td>\n",
       "      <td>0</td>\n",
       "      <td>0</td>\n",
       "      <td>0</td>\n",
       "      <td>1</td>\n",
       "    </tr>\n",
       "    <tr>\n",
       "      <th>...</th>\n",
       "      <td>...</td>\n",
       "      <td>...</td>\n",
       "      <td>...</td>\n",
       "      <td>...</td>\n",
       "      <td>...</td>\n",
       "      <td>...</td>\n",
       "      <td>...</td>\n",
       "      <td>...</td>\n",
       "      <td>...</td>\n",
       "      <td>...</td>\n",
       "      <td>...</td>\n",
       "      <td>...</td>\n",
       "      <td>...</td>\n",
       "      <td>...</td>\n",
       "      <td>...</td>\n",
       "      <td>...</td>\n",
       "      <td>...</td>\n",
       "      <td>...</td>\n",
       "      <td>...</td>\n",
       "      <td>...</td>\n",
       "      <td>...</td>\n",
       "    </tr>\n",
       "    <tr>\n",
       "      <th>28491</th>\n",
       "      <td>1</td>\n",
       "      <td>1</td>\n",
       "      <td>0</td>\n",
       "      <td>0</td>\n",
       "      <td>0</td>\n",
       "      <td>0</td>\n",
       "      <td>0</td>\n",
       "      <td>1</td>\n",
       "      <td>0</td>\n",
       "      <td>0</td>\n",
       "      <td>...</td>\n",
       "      <td>0</td>\n",
       "      <td>0</td>\n",
       "      <td>1</td>\n",
       "      <td>0</td>\n",
       "      <td>0</td>\n",
       "      <td>0</td>\n",
       "      <td>0</td>\n",
       "      <td>4</td>\n",
       "      <td>2</td>\n",
       "      <td>2</td>\n",
       "    </tr>\n",
       "    <tr>\n",
       "      <th>28492</th>\n",
       "      <td>1</td>\n",
       "      <td>0</td>\n",
       "      <td>1</td>\n",
       "      <td>0</td>\n",
       "      <td>0</td>\n",
       "      <td>1</td>\n",
       "      <td>0</td>\n",
       "      <td>1</td>\n",
       "      <td>0</td>\n",
       "      <td>0</td>\n",
       "      <td>...</td>\n",
       "      <td>0</td>\n",
       "      <td>0</td>\n",
       "      <td>0</td>\n",
       "      <td>0</td>\n",
       "      <td>0</td>\n",
       "      <td>0</td>\n",
       "      <td>0</td>\n",
       "      <td>3</td>\n",
       "      <td>4</td>\n",
       "      <td>2</td>\n",
       "    </tr>\n",
       "    <tr>\n",
       "      <th>28493</th>\n",
       "      <td>0</td>\n",
       "      <td>0</td>\n",
       "      <td>1</td>\n",
       "      <td>1</td>\n",
       "      <td>0</td>\n",
       "      <td>0</td>\n",
       "      <td>0</td>\n",
       "      <td>1</td>\n",
       "      <td>1</td>\n",
       "      <td>0</td>\n",
       "      <td>...</td>\n",
       "      <td>0</td>\n",
       "      <td>0</td>\n",
       "      <td>1</td>\n",
       "      <td>1</td>\n",
       "      <td>0</td>\n",
       "      <td>0</td>\n",
       "      <td>0</td>\n",
       "      <td>3</td>\n",
       "      <td>3</td>\n",
       "      <td>4</td>\n",
       "    </tr>\n",
       "    <tr>\n",
       "      <th>28494</th>\n",
       "      <td>0</td>\n",
       "      <td>0</td>\n",
       "      <td>0</td>\n",
       "      <td>0</td>\n",
       "      <td>0</td>\n",
       "      <td>0</td>\n",
       "      <td>0</td>\n",
       "      <td>0</td>\n",
       "      <td>0</td>\n",
       "      <td>0</td>\n",
       "      <td>...</td>\n",
       "      <td>0</td>\n",
       "      <td>1</td>\n",
       "      <td>1</td>\n",
       "      <td>0</td>\n",
       "      <td>1</td>\n",
       "      <td>0</td>\n",
       "      <td>0</td>\n",
       "      <td>2</td>\n",
       "      <td>6</td>\n",
       "      <td>4</td>\n",
       "    </tr>\n",
       "    <tr>\n",
       "      <th>28495</th>\n",
       "      <td>0</td>\n",
       "      <td>0</td>\n",
       "      <td>0</td>\n",
       "      <td>0</td>\n",
       "      <td>0</td>\n",
       "      <td>0</td>\n",
       "      <td>0</td>\n",
       "      <td>0</td>\n",
       "      <td>0</td>\n",
       "      <td>0</td>\n",
       "      <td>...</td>\n",
       "      <td>0</td>\n",
       "      <td>1</td>\n",
       "      <td>1</td>\n",
       "      <td>1</td>\n",
       "      <td>0</td>\n",
       "      <td>0</td>\n",
       "      <td>1</td>\n",
       "      <td>0</td>\n",
       "      <td>2</td>\n",
       "      <td>6</td>\n",
       "    </tr>\n",
       "  </tbody>\n",
       "</table>\n",
       "<p>28496 rows × 78 columns</p>\n",
       "</div>"
      ],
      "text/plain": [
       "      Col_1 Col_2 Col_3 Col_4 Col_5 Col_6 Col_7 Col_8 Col_9 Col_10  ...  \\\n",
       "0         0     0     0     0     1     1     0     0     0      0  ...   \n",
       "1         1     0     0     0     1     0     0     0     0      0  ...   \n",
       "2         0     0     0     1     1     0     0     0     0      0  ...   \n",
       "3         0     0     0     1     1     0     0     0     0      0  ...   \n",
       "4         1     0     1     0     0     1     0     1     0      0  ...   \n",
       "...     ...   ...   ...   ...   ...   ...   ...   ...   ...    ...  ...   \n",
       "28491     1     1     0     0     0     0     0     1     0      0  ...   \n",
       "28492     1     0     1     0     0     1     0     1     0      0  ...   \n",
       "28493     0     0     1     1     0     0     0     1     1      0  ...   \n",
       "28494     0     0     0     0     0     0     0     0     0      0  ...   \n",
       "28495     0     0     0     0     0     0     0     0     0      0  ...   \n",
       "\n",
       "      Col_69 Col_70 Col_71 Col_72 Col_73 Col_74 Col_75 radius1 radius2 radius3  \n",
       "0          0      0      0      1      1      1      1       1       1       3  \n",
       "1          0      0      0      0      0      0      1       1       1       1  \n",
       "2          1      0      1      0      1      1      1       2       4       4  \n",
       "3          0      0      1      0      1      0      0       0       2       4  \n",
       "4          0      0      0      0      0      0      0       0       0       1  \n",
       "...      ...    ...    ...    ...    ...    ...    ...     ...     ...     ...  \n",
       "28491      0      0      1      0      0      0      0       4       2       2  \n",
       "28492      0      0      0      0      0      0      0       3       4       2  \n",
       "28493      0      0      1      1      0      0      0       3       3       4  \n",
       "28494      0      1      1      0      1      0      0       2       6       4  \n",
       "28495      0      1      1      1      0      0      1       0       2       6  \n",
       "\n",
       "[28496 rows x 78 columns]"
      ]
     },
     "execution_count": 11,
     "metadata": {},
     "output_type": "execute_result"
    }
   ],
   "source": [
    "reverse_df"
   ]
  },
  {
   "cell_type": "code",
   "execution_count": 12,
   "metadata": {},
   "outputs": [
    {
     "name": "stderr",
     "output_type": "stream",
     "text": [
      "C:\\Users\\דרור\\AppData\\Local\\Temp\\ipykernel_4604\\910354134.py:12: FutureWarning: Series.__getitem__ treating keys as positions is deprecated. In a future version, integer keys will always be treated as labels (consistent with DataFrame behavior). To access a value by position, use `ser.iloc[pos]`\n",
      "  if field[row_idx*size+col_idx]:\n",
      "C:\\Users\\דרור\\AppData\\Local\\Temp\\ipykernel_4604\\910354134.py:12: FutureWarning: Series.__getitem__ treating keys as positions is deprecated. In a future version, integer keys will always be treated as labels (consistent with DataFrame behavior). To access a value by position, use `ser.iloc[pos]`\n",
      "  if field[row_idx*size+col_idx]:\n"
     ]
    },
    {
     "name": "stdout",
     "output_type": "stream",
     "text": [
      "len x train:  25646\n",
      "len x test:  2850\n",
      "len y train:  25646\n",
      "len y test:  2850\n",
      "13201 37\n"
     ]
    },
    {
     "data": {
      "text/html": [
       "<div>\n",
       "<style scoped>\n",
       "    .dataframe tbody tr th:only-of-type {\n",
       "        vertical-align: middle;\n",
       "    }\n",
       "\n",
       "    .dataframe tbody tr th {\n",
       "        vertical-align: top;\n",
       "    }\n",
       "\n",
       "    .dataframe thead th {\n",
       "        text-align: right;\n",
       "    }\n",
       "</style>\n",
       "<table border=\"1\" class=\"dataframe\">\n",
       "  <thead>\n",
       "    <tr style=\"text-align: right;\">\n",
       "      <th></th>\n",
       "      <th>train</th>\n",
       "      <th>test</th>\n",
       "    </tr>\n",
       "  </thead>\n",
       "  <tbody>\n",
       "    <tr>\n",
       "      <th>accuracy</th>\n",
       "      <td>0.975942</td>\n",
       "      <td>0.610175</td>\n",
       "    </tr>\n",
       "    <tr>\n",
       "      <th>precision</th>\n",
       "      <td>0.990227</td>\n",
       "      <td>0.416244</td>\n",
       "    </tr>\n",
       "    <tr>\n",
       "      <th>recall</th>\n",
       "      <td>0.941066</td>\n",
       "      <td>0.433404</td>\n",
       "    </tr>\n",
       "    <tr>\n",
       "      <th>f1</th>\n",
       "      <td>0.965021</td>\n",
       "      <td>0.424650</td>\n",
       "    </tr>\n",
       "  </tbody>\n",
       "</table>\n",
       "</div>"
      ],
      "text/plain": [
       "              train      test\n",
       "accuracy   0.975942  0.610175\n",
       "precision  0.990227  0.416244\n",
       "recall     0.941066  0.433404\n",
       "f1         0.965021  0.424650"
      ]
     },
     "execution_count": 12,
     "metadata": {},
     "output_type": "execute_result"
    }
   ],
   "source": [
    "# Step 1: Prepare Data\n",
    "amount_features = (gen-1)*size*size #the previous boards\n",
    "features = reverse_df_sort.iloc[:, :amount_features]\n",
    "\n",
    "name_col = 'Col_' + str(amount_features + 1)  # Target: the first pixel in the board\n",
    "target = reverse_df_sort[name_col]\n",
    "\n",
    "#TODO: add general code for any amount of gen\n",
    "features['radius1'] = features.apply(lambda row: calc_neighs(row[:size*size],loc[0], loc[1],size,radii ), axis=1)\n",
    "features['radius2'] = features.apply(lambda row: calc_neighs(row[size*size:],loc[0], loc[1],size,radii ), axis=1)\n",
    "\n",
    "# Step 2: Split Data\n",
    "X_train, X_test, y_train, y_test = train_test_split(features, target, test_size=0.1, random_state=365)\n",
    "\n",
    "print(\"len x train: \", len(X_train))\n",
    "print(\"len x test: \",len(X_test))\n",
    "print(\"len y train: \",len(y_train))\n",
    "print(\"len y test: \",len(y_test))\n",
    "\n",
    "dt = tree.DecisionTreeClassifier(random_state=42)\n",
    "dt = dt.fit(X_train, y_train)\n",
    "\n",
    "y_train_pred = dt.predict(X_train)\n",
    "y_test_pred = dt.predict(X_test)\n",
    "\n",
    "train_test_full_error = pd.concat([measure_error(y_train, y_train_pred, 'train'),\n",
    "                                measure_error(y_test, y_test_pred, 'test')],\n",
    "                                axis=1)\n",
    "\n",
    "print(dt.tree_.node_count, dt.tree_.max_depth)\n",
    "train_test_full_error"
   ]
  },
  {
   "cell_type": "code",
   "execution_count": 13,
   "metadata": {},
   "outputs": [
    {
     "name": "stdout",
     "output_type": "stream",
     "text": [
      "31 4\n",
      "              train      test\n",
      "accuracy   0.676246  0.677193\n",
      "precision  0.551523  0.516250\n",
      "recall     0.438523  0.436575\n",
      "f1         0.488574  0.473081\n",
      "63 5\n",
      "              train      test\n",
      "accuracy   0.680808  0.681053\n",
      "precision  0.563839  0.524503\n",
      "recall     0.418952  0.418605\n",
      "f1         0.480716  0.465608\n",
      "127 6\n",
      "              train      test\n",
      "accuracy   0.686618  0.683860\n",
      "precision  0.586438  0.534039\n",
      "recall     0.377709  0.373150\n",
      "f1         0.459479  0.439328\n",
      "255 7\n",
      "              train      test\n",
      "accuracy   0.692857  0.678947\n",
      "precision  0.596018  0.522694\n",
      "recall     0.400487  0.377378\n",
      "f1         0.479069  0.438306\n",
      "503 8\n",
      "              train      test\n",
      "accuracy   0.703541  0.676140\n",
      "precision  0.621235  0.517293\n",
      "recall     0.408226  0.363636\n",
      "f1         0.492694  0.427064\n",
      "949 9\n",
      "              train      test\n",
      "accuracy   0.719878  0.668070\n",
      "precision  0.657574  0.500000\n",
      "recall     0.429124  0.355180\n",
      "f1         0.519336  0.415328\n",
      "1695 10\n",
      "              train      test\n",
      "accuracy   0.743469  0.669474\n",
      "precision  0.706969  0.503003\n",
      "recall     0.465502  0.354123\n",
      "f1         0.561371  0.415633\n",
      "8931 15\n",
      "              train      test\n",
      "accuracy   0.913164  0.622456\n",
      "precision  0.933155  0.427130\n",
      "recall     0.811920  0.402748\n",
      "f1         0.868326  0.414581\n",
      "12161 20\n",
      "              train      test\n",
      "accuracy   0.966778  0.616491\n",
      "precision  0.981769  0.426720\n",
      "recall     0.922932  0.452431\n",
      "f1         0.951442  0.439200\n",
      "13055 30\n",
      "              train      test\n",
      "accuracy   0.975552  0.605965\n",
      "precision  0.990330  0.411055\n",
      "recall     0.939850  0.432347\n",
      "f1         0.964430  0.421432\n",
      "13201 37\n",
      "              train      test\n",
      "accuracy   0.975942  0.610175\n",
      "precision  0.990227  0.416244\n",
      "recall     0.941066  0.433404\n",
      "f1         0.965021  0.424650\n",
      "13201 37\n",
      "              train      test\n",
      "accuracy   0.975942  0.610175\n",
      "precision  0.990227  0.416244\n",
      "recall     0.941066  0.433404\n",
      "f1         0.965021  0.424650\n"
     ]
    }
   ],
   "source": [
    "depth_to_check = [4,5,6,7,8,9,10,15,20,30,50,100]\n",
    "\n",
    "for i in depth_to_check:\n",
    "    dt, node_count, max_depth, train_test_full_error  = dec_tree_df(X_train,y_train, X_test, y_test, i, 42)\n",
    "    \n",
    "    name_file = f\"{PATH_MODELS}\\\\reverse_model2\\\\{SIZE}\\\\decision_tree_size{SIZE}_reverse_df_model2_{str(i)}.pkl\"\n",
    "    with open(name_file, 'wb') as file:\n",
    "        pickle.dump(dt, file)\n",
    "    \n",
    "    print(node_count, max_depth)\n",
    "    print(train_test_full_error)"
   ]
  },
  {
   "cell_type": "code",
   "execution_count": 14,
   "metadata": {},
   "outputs": [
    {
     "name": "stderr",
     "output_type": "stream",
     "text": [
      "C:\\Users\\דרור\\AppData\\Local\\Temp\\ipykernel_4604\\910354134.py:12: FutureWarning: Series.__getitem__ treating keys as positions is deprecated. In a future version, integer keys will always be treated as labels (consistent with DataFrame behavior). To access a value by position, use `ser.iloc[pos]`\n",
      "  if field[row_idx*size+col_idx]:\n",
      "C:\\Users\\דרור\\AppData\\Local\\Temp\\ipykernel_4604\\910354134.py:12: FutureWarning: Series.__getitem__ treating keys as positions is deprecated. In a future version, integer keys will always be treated as labels (consistent with DataFrame behavior). To access a value by position, use `ser.iloc[pos]`\n",
      "  if field[row_idx*size+col_idx]:\n"
     ]
    },
    {
     "name": "stdout",
     "output_type": "stream",
     "text": [
      "0\n",
      "1611 10\n",
      "              train      test\n",
      "accuracy   0.740856  0.649474\n",
      "precision  0.698903  0.518302\n",
      "recall     0.454606  0.345703\n",
      "f1         0.550885  0.414763\n"
     ]
    },
    {
     "name": "stderr",
     "output_type": "stream",
     "text": [
      "C:\\Users\\דרור\\AppData\\Local\\Temp\\ipykernel_4604\\910354134.py:12: FutureWarning: Series.__getitem__ treating keys as positions is deprecated. In a future version, integer keys will always be treated as labels (consistent with DataFrame behavior). To access a value by position, use `ser.iloc[pos]`\n",
      "  if field[row_idx*size+col_idx]:\n"
     ]
    },
    {
     "name": "stdout",
     "output_type": "stream",
     "text": [
      "1\n",
      "1663 10\n",
      "              train      test\n",
      "accuracy   0.742338  0.663158\n",
      "precision  0.692040  0.503794\n",
      "recall     0.468362  0.344041\n",
      "f1         0.558643  0.408867\n"
     ]
    },
    {
     "name": "stderr",
     "output_type": "stream",
     "text": [
      "C:\\Users\\דרור\\AppData\\Local\\Temp\\ipykernel_4604\\910354134.py:12: FutureWarning: Series.__getitem__ treating keys as positions is deprecated. In a future version, integer keys will always be treated as labels (consistent with DataFrame behavior). To access a value by position, use `ser.iloc[pos]`\n",
      "  if field[row_idx*size+col_idx]:\n"
     ]
    },
    {
     "name": "stdout",
     "output_type": "stream",
     "text": [
      "2\n",
      "1661 10\n",
      "              train      test\n",
      "accuracy   0.745418  0.673333\n",
      "precision  0.721188  0.548246\n",
      "recall     0.447728  0.376128\n",
      "f1         0.552471  0.446163\n"
     ]
    },
    {
     "name": "stderr",
     "output_type": "stream",
     "text": [
      "C:\\Users\\דרור\\AppData\\Local\\Temp\\ipykernel_4604\\910354134.py:12: FutureWarning: Series.__getitem__ treating keys as positions is deprecated. In a future version, integer keys will always be treated as labels (consistent with DataFrame behavior). To access a value by position, use `ser.iloc[pos]`\n",
      "  if field[row_idx*size+col_idx]:\n"
     ]
    },
    {
     "name": "stdout",
     "output_type": "stream",
     "text": [
      "3\n",
      "1653 10\n",
      "              train      test\n",
      "accuracy   0.745847  0.667018\n",
      "precision  0.692554  0.527457\n",
      "recall     0.466189  0.369807\n",
      "f1         0.557261  0.434783\n"
     ]
    },
    {
     "name": "stderr",
     "output_type": "stream",
     "text": [
      "C:\\Users\\דרור\\AppData\\Local\\Temp\\ipykernel_4604\\910354134.py:12: FutureWarning: Series.__getitem__ treating keys as positions is deprecated. In a future version, integer keys will always be treated as labels (consistent with DataFrame behavior). To access a value by position, use `ser.iloc[pos]`\n",
      "  if field[row_idx*size+col_idx]:\n"
     ]
    },
    {
     "name": "stdout",
     "output_type": "stream",
     "text": [
      "4\n",
      "1637 10\n",
      "              train      test\n",
      "accuracy   0.739881  0.671930\n",
      "precision  0.691139  0.535871\n",
      "recall     0.454321  0.371951\n",
      "f1         0.548249  0.439112\n"
     ]
    },
    {
     "name": "stderr",
     "output_type": "stream",
     "text": [
      "C:\\Users\\דרור\\AppData\\Local\\Temp\\ipykernel_4604\\910354134.py:12: FutureWarning: Series.__getitem__ treating keys as positions is deprecated. In a future version, integer keys will always be treated as labels (consistent with DataFrame behavior). To access a value by position, use `ser.iloc[pos]`\n",
      "  if field[row_idx*size+col_idx]:\n"
     ]
    },
    {
     "name": "stdout",
     "output_type": "stream",
     "text": [
      "5\n",
      "1711 10\n",
      "              train      test\n",
      "accuracy   0.747836  0.660351\n",
      "precision  0.711077  0.540029\n",
      "recall     0.469611  0.362659\n",
      "f1         0.565652  0.433918\n"
     ]
    },
    {
     "name": "stderr",
     "output_type": "stream",
     "text": [
      "C:\\Users\\דרור\\AppData\\Local\\Temp\\ipykernel_4604\\910354134.py:12: FutureWarning: Series.__getitem__ treating keys as positions is deprecated. In a future version, integer keys will always be treated as labels (consistent with DataFrame behavior). To access a value by position, use `ser.iloc[pos]`\n",
      "  if field[row_idx*size+col_idx]:\n"
     ]
    },
    {
     "name": "stdout",
     "output_type": "stream",
     "text": [
      "6\n",
      "1719 10\n",
      "              train      test\n",
      "accuracy   0.745301  0.644561\n",
      "precision  0.710379  0.491597\n",
      "recall     0.474576  0.350649\n",
      "f1         0.569016  0.409329\n"
     ]
    },
    {
     "name": "stderr",
     "output_type": "stream",
     "text": [
      "C:\\Users\\דרור\\AppData\\Local\\Temp\\ipykernel_4604\\910354134.py:12: FutureWarning: Series.__getitem__ treating keys as positions is deprecated. In a future version, integer keys will always be treated as labels (consistent with DataFrame behavior). To access a value by position, use `ser.iloc[pos]`\n",
      "  if field[row_idx*size+col_idx]:\n"
     ]
    },
    {
     "name": "stdout",
     "output_type": "stream",
     "text": [
      "7\n",
      "1525 10\n",
      "              train      test\n",
      "accuracy   0.737113  0.682456\n",
      "precision  0.689947  0.563235\n",
      "recall     0.473407  0.386478\n",
      "f1         0.561524  0.458408\n"
     ]
    },
    {
     "name": "stderr",
     "output_type": "stream",
     "text": [
      "C:\\Users\\דרור\\AppData\\Local\\Temp\\ipykernel_4604\\910354134.py:12: FutureWarning: Series.__getitem__ treating keys as positions is deprecated. In a future version, integer keys will always be treated as labels (consistent with DataFrame behavior). To access a value by position, use `ser.iloc[pos]`\n",
      "  if field[row_idx*size+col_idx]:\n"
     ]
    },
    {
     "name": "stdout",
     "output_type": "stream",
     "text": [
      "8\n",
      "1697 10\n",
      "              train      test\n",
      "accuracy   0.747056  0.654035\n",
      "precision  0.708202  0.508221\n",
      "recall     0.473526  0.341023\n",
      "f1         0.567562  0.408163\n"
     ]
    },
    {
     "name": "stderr",
     "output_type": "stream",
     "text": [
      "C:\\Users\\דרור\\AppData\\Local\\Temp\\ipykernel_4604\\910354134.py:12: FutureWarning: Series.__getitem__ treating keys as positions is deprecated. In a future version, integer keys will always be treated as labels (consistent with DataFrame behavior). To access a value by position, use `ser.iloc[pos]`\n",
      "  if field[row_idx*size+col_idx]:\n"
     ]
    },
    {
     "name": "stdout",
     "output_type": "stream",
     "text": [
      "9\n",
      "1559 10\n",
      "              train      test\n",
      "accuracy   0.737542  0.658947\n",
      "precision  0.685034  0.516824\n",
      "recall     0.481143  0.385155\n",
      "f1         0.565265  0.441379\n"
     ]
    },
    {
     "name": "stderr",
     "output_type": "stream",
     "text": [
      "C:\\Users\\דרור\\AppData\\Local\\Temp\\ipykernel_4604\\910354134.py:12: FutureWarning: Series.__getitem__ treating keys as positions is deprecated. In a future version, integer keys will always be treated as labels (consistent with DataFrame behavior). To access a value by position, use `ser.iloc[pos]`\n",
      "  if field[row_idx*size+col_idx]:\n"
     ]
    },
    {
     "name": "stdout",
     "output_type": "stream",
     "text": [
      "10\n",
      "1767 10\n",
      "              train      test\n",
      "accuracy   0.745340  0.638246\n",
      "precision  0.704549  0.487324\n",
      "recall     0.473012  0.341560\n",
      "f1         0.566018  0.401625\n"
     ]
    },
    {
     "name": "stderr",
     "output_type": "stream",
     "text": [
      "C:\\Users\\דרור\\AppData\\Local\\Temp\\ipykernel_4604\\910354134.py:12: FutureWarning: Series.__getitem__ treating keys as positions is deprecated. In a future version, integer keys will always be treated as labels (consistent with DataFrame behavior). To access a value by position, use `ser.iloc[pos]`\n",
      "  if field[row_idx*size+col_idx]:\n"
     ]
    },
    {
     "name": "stdout",
     "output_type": "stream",
     "text": [
      "11\n",
      "1729 10\n",
      "              train      test\n",
      "accuracy   0.748928  0.672281\n",
      "precision  0.695960  0.537666\n",
      "recall     0.487266  0.369543\n",
      "f1         0.573209  0.438026\n"
     ]
    },
    {
     "name": "stderr",
     "output_type": "stream",
     "text": [
      "C:\\Users\\דרור\\AppData\\Local\\Temp\\ipykernel_4604\\910354134.py:12: FutureWarning: Series.__getitem__ treating keys as positions is deprecated. In a future version, integer keys will always be treated as labels (consistent with DataFrame behavior). To access a value by position, use `ser.iloc[pos]`\n",
      "  if field[row_idx*size+col_idx]:\n"
     ]
    },
    {
     "name": "stdout",
     "output_type": "stream",
     "text": [
      "12\n",
      "1343 10\n",
      "              train      test\n",
      "accuracy   0.732434  0.670175\n",
      "precision  0.695084  0.557789\n",
      "recall     0.420332  0.330030\n",
      "f1         0.523869  0.414695\n"
     ]
    },
    {
     "name": "stderr",
     "output_type": "stream",
     "text": [
      "C:\\Users\\דרור\\AppData\\Local\\Temp\\ipykernel_4604\\910354134.py:12: FutureWarning: Series.__getitem__ treating keys as positions is deprecated. In a future version, integer keys will always be treated as labels (consistent with DataFrame behavior). To access a value by position, use `ser.iloc[pos]`\n",
      "  if field[row_idx*size+col_idx]:\n"
     ]
    },
    {
     "name": "stdout",
     "output_type": "stream",
     "text": [
      "13\n",
      "1711 10\n",
      "              train      test\n",
      "accuracy   0.750877  0.654737\n",
      "precision  0.696895  0.519369\n",
      "recall     0.482814  0.358061\n",
      "f1         0.570430  0.423888\n"
     ]
    },
    {
     "name": "stderr",
     "output_type": "stream",
     "text": [
      "C:\\Users\\דרור\\AppData\\Local\\Temp\\ipykernel_4604\\910354134.py:12: FutureWarning: Series.__getitem__ treating keys as positions is deprecated. In a future version, integer keys will always be treated as labels (consistent with DataFrame behavior). To access a value by position, use `ser.iloc[pos]`\n",
      "  if field[row_idx*size+col_idx]:\n"
     ]
    },
    {
     "name": "stdout",
     "output_type": "stream",
     "text": [
      "14\n",
      "1617 10\n",
      "              train      test\n",
      "accuracy   0.744950  0.676491\n",
      "precision  0.685668  0.521084\n",
      "recall     0.481293  0.364211\n",
      "f1         0.565584  0.428748\n"
     ]
    },
    {
     "name": "stderr",
     "output_type": "stream",
     "text": [
      "C:\\Users\\דרור\\AppData\\Local\\Temp\\ipykernel_4604\\910354134.py:12: FutureWarning: Series.__getitem__ treating keys as positions is deprecated. In a future version, integer keys will always be treated as labels (consistent with DataFrame behavior). To access a value by position, use `ser.iloc[pos]`\n",
      "  if field[row_idx*size+col_idx]:\n"
     ]
    },
    {
     "name": "stdout",
     "output_type": "stream",
     "text": [
      "15\n",
      "1533 10\n",
      "              train      test\n",
      "accuracy   0.733565  0.652632\n",
      "precision  0.687932  0.538012\n",
      "recall     0.458822  0.353167\n",
      "f1         0.550490  0.426419\n"
     ]
    },
    {
     "name": "stderr",
     "output_type": "stream",
     "text": [
      "C:\\Users\\דרור\\AppData\\Local\\Temp\\ipykernel_4604\\910354134.py:12: FutureWarning: Series.__getitem__ treating keys as positions is deprecated. In a future version, integer keys will always be treated as labels (consistent with DataFrame behavior). To access a value by position, use `ser.iloc[pos]`\n",
      "  if field[row_idx*size+col_idx]:\n"
     ]
    },
    {
     "name": "stdout",
     "output_type": "stream",
     "text": [
      "16\n",
      "1687 10\n",
      "              train      test\n",
      "accuracy   0.747251  0.660702\n",
      "precision  0.700688  0.533237\n",
      "recall     0.470416  0.364265\n",
      "f1         0.562913  0.432845\n"
     ]
    },
    {
     "name": "stderr",
     "output_type": "stream",
     "text": [
      "C:\\Users\\דרור\\AppData\\Local\\Temp\\ipykernel_4604\\910354134.py:12: FutureWarning: Series.__getitem__ treating keys as positions is deprecated. In a future version, integer keys will always be treated as labels (consistent with DataFrame behavior). To access a value by position, use `ser.iloc[pos]`\n",
      "  if field[row_idx*size+col_idx]:\n"
     ]
    },
    {
     "name": "stdout",
     "output_type": "stream",
     "text": [
      "17\n",
      "1381 10\n",
      "              train      test\n",
      "accuracy   0.731888  0.670526\n",
      "precision  0.678941  0.537879\n",
      "recall     0.445298  0.358948\n",
      "f1         0.537841  0.430564\n"
     ]
    },
    {
     "name": "stderr",
     "output_type": "stream",
     "text": [
      "C:\\Users\\דרור\\AppData\\Local\\Temp\\ipykernel_4604\\910354134.py:12: FutureWarning: Series.__getitem__ treating keys as positions is deprecated. In a future version, integer keys will always be treated as labels (consistent with DataFrame behavior). To access a value by position, use `ser.iloc[pos]`\n",
      "  if field[row_idx*size+col_idx]:\n"
     ]
    },
    {
     "name": "stdout",
     "output_type": "stream",
     "text": [
      "18\n",
      "1553 10\n",
      "              train      test\n",
      "accuracy   0.738556  0.660351\n",
      "precision  0.682955  0.506747\n",
      "recall     0.460164  0.345957\n",
      "f1         0.549849  0.411192\n"
     ]
    },
    {
     "name": "stderr",
     "output_type": "stream",
     "text": [
      "C:\\Users\\דרור\\AppData\\Local\\Temp\\ipykernel_4604\\910354134.py:12: FutureWarning: Series.__getitem__ treating keys as positions is deprecated. In a future version, integer keys will always be treated as labels (consistent with DataFrame behavior). To access a value by position, use `ser.iloc[pos]`\n",
      "  if field[row_idx*size+col_idx]:\n"
     ]
    },
    {
     "name": "stdout",
     "output_type": "stream",
     "text": [
      "19\n",
      "1631 10\n",
      "              train      test\n",
      "accuracy   0.745613  0.658246\n",
      "precision  0.691942  0.488604\n",
      "recall     0.487701  0.358038\n",
      "f1         0.572141  0.413253\n"
     ]
    },
    {
     "name": "stderr",
     "output_type": "stream",
     "text": [
      "C:\\Users\\דרור\\AppData\\Local\\Temp\\ipykernel_4604\\910354134.py:12: FutureWarning: Series.__getitem__ treating keys as positions is deprecated. In a future version, integer keys will always be treated as labels (consistent with DataFrame behavior). To access a value by position, use `ser.iloc[pos]`\n",
      "  if field[row_idx*size+col_idx]:\n"
     ]
    },
    {
     "name": "stdout",
     "output_type": "stream",
     "text": [
      "20\n",
      "1737 10\n",
      "              train      test\n",
      "accuracy   0.742923  0.656842\n",
      "precision  0.701502  0.517293\n",
      "recall     0.474120  0.343656\n",
      "f1         0.565822  0.412965\n"
     ]
    },
    {
     "name": "stderr",
     "output_type": "stream",
     "text": [
      "C:\\Users\\דרור\\AppData\\Local\\Temp\\ipykernel_4604\\910354134.py:12: FutureWarning: Series.__getitem__ treating keys as positions is deprecated. In a future version, integer keys will always be treated as labels (consistent with DataFrame behavior). To access a value by position, use `ser.iloc[pos]`\n",
      "  if field[row_idx*size+col_idx]:\n"
     ]
    },
    {
     "name": "stdout",
     "output_type": "stream",
     "text": [
      "21\n",
      "1517 10\n",
      "              train      test\n",
      "accuracy   0.744327  0.656140\n",
      "precision  0.686393  0.520223\n",
      "recall     0.493357  0.369673\n",
      "f1         0.574082  0.432213\n"
     ]
    },
    {
     "name": "stderr",
     "output_type": "stream",
     "text": [
      "C:\\Users\\דרור\\AppData\\Local\\Temp\\ipykernel_4604\\910354134.py:12: FutureWarning: Series.__getitem__ treating keys as positions is deprecated. In a future version, integer keys will always be treated as labels (consistent with DataFrame behavior). To access a value by position, use `ser.iloc[pos]`\n",
      "  if field[row_idx*size+col_idx]:\n"
     ]
    },
    {
     "name": "stdout",
     "output_type": "stream",
     "text": [
      "22\n",
      "1573 10\n",
      "              train      test\n",
      "accuracy   0.742416  0.671930\n",
      "precision  0.701053  0.551302\n",
      "recall     0.465320  0.359281\n",
      "f1         0.559365  0.435045\n"
     ]
    },
    {
     "name": "stderr",
     "output_type": "stream",
     "text": [
      "C:\\Users\\דרור\\AppData\\Local\\Temp\\ipykernel_4604\\910354134.py:12: FutureWarning: Series.__getitem__ treating keys as positions is deprecated. In a future version, integer keys will always be treated as labels (consistent with DataFrame behavior). To access a value by position, use `ser.iloc[pos]`\n",
      "  if field[row_idx*size+col_idx]:\n"
     ]
    },
    {
     "name": "stdout",
     "output_type": "stream",
     "text": [
      "23\n",
      "1391 10\n",
      "              train      test\n",
      "accuracy   0.739258  0.659298\n",
      "precision  0.684843  0.518293\n",
      "recall     0.436443  0.341709\n",
      "f1         0.533129  0.411872\n"
     ]
    },
    {
     "name": "stderr",
     "output_type": "stream",
     "text": [
      "C:\\Users\\דרור\\AppData\\Local\\Temp\\ipykernel_4604\\910354134.py:12: FutureWarning: Series.__getitem__ treating keys as positions is deprecated. In a future version, integer keys will always be treated as labels (consistent with DataFrame behavior). To access a value by position, use `ser.iloc[pos]`\n",
      "  if field[row_idx*size+col_idx]:\n"
     ]
    },
    {
     "name": "stdout",
     "output_type": "stream",
     "text": [
      "24\n",
      "1713 10\n",
      "              train      test\n",
      "accuracy   0.747329  0.662456\n",
      "precision  0.701507  0.540029\n",
      "recall     0.478971  0.364798\n",
      "f1         0.569263  0.435446\n"
     ]
    }
   ],
   "source": [
    "amount_features = (gen-1)* SIZE*SIZE #the previous boards\n",
    "features = reverse_df_sort.iloc[:, :amount_features]\n",
    "for i in range(SIZE*SIZE): # to any pixel in the expected board\n",
    "    name_col = 'Col_' + str(i+amount_features + 1)\n",
    "    target = reverse_df_sort[name_col]\n",
    "    \n",
    "    #TODO: add general code for any amount of gen\n",
    "    loc = find_loc(pixel+1, size)\n",
    "    features['radius1'] = features.apply(lambda row: calc_neighs(row[:size*size],loc[0], loc[1],size,radii ), axis=1)\n",
    "    features['radius2'] = features.apply(lambda row: calc_neighs(row[size*size:],loc[0], loc[1],size,radii ), axis=1)\n",
    "    \n",
    "    X_train, X_test, y_train, y_test = train_test_split(features, target, test_size=0.1, random_state=613)\n",
    "    dt, node_count, max_depth, train_test_full_error  = dec_tree_df(X_train,y_train, X_test, y_test, 10, 42)\n",
    "    name_file = f\"{PATH_MODELS}\\\\reverse2\\\\{SIZE}\\\\dt_size{SIZE}_r2_pixel_{str(i+1)}.pkl\"\n",
    "    with open(name_file, 'wb') as file:\n",
    "        pickle.dump(dt, file)\n",
    "    print(i)\n",
    "    print(node_count, max_depth)\n",
    "    print(train_test_full_error)"
   ]
  }
 ],
 "metadata": {
  "kernelspec": {
   "display_name": "Python 3",
   "language": "python",
   "name": "python3"
  },
  "language_info": {
   "codemirror_mode": {
    "name": "ipython",
    "version": 3
   },
   "file_extension": ".py",
   "mimetype": "text/x-python",
   "name": "python",
   "nbconvert_exporter": "python",
   "pygments_lexer": "ipython3",
   "version": "3.10.11"
  }
 },
 "nbformat": 4,
 "nbformat_minor": 2
}
