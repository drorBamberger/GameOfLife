{
 "cells": [
  {
   "cell_type": "code",
   "execution_count": null,
   "metadata": {},
   "outputs": [],
   "source": []
  },
  {
   "cell_type": "code",
   "execution_count": null,
   "metadata": {},
   "outputs": [
    {
     "data": {
      "text/plain": [
       "\"def read_file_to_df(pathFile, size):\\n    # Define the file path\\n    path_file = 'C:\\\\GameOfLife\\\\boards\\\\' + pathFile\\n\\n    # Read binary data into a numpy array of 8-bit integers\\n    binary_data = np.fromfile(path_file, dtype=np.uint8)\\n\\n    # Convert each integer to its binary representation\\n    binary_data_binary_repr = np.array([list(np.binary_repr(x, width=8)) for x in binary_data], dtype=np.uint8).flatten()\\n\\n    # Calculate the total number of elements in each game board\\n    board_elements = size*size\\n\\n    # Calculate the number of boards in the file\\n    num_boards = len(binary_data_binary_repr) // board_elements\\n\\n    # Reshape the binary data to create a 3D array with dimensions (num_boards, board_size[0], board_size[1])\\n    boards_data = binary_data_binary_repr[:num_boards * board_elements].reshape((num_boards, size, size))\\n    \\n    # Create a list of column names based on the board size\\n    column_names = [f'({i},{j})' for i in range(size) for j in range(size)]\\n\\n    return pd.DataFrame(boards_data.reshape((num_boards, board_elements)), columns=column_names)\""
      ]
     },
     "metadata": {},
     "output_type": "display_data"
    }
   ],
   "source": [
    "\"\"\"def read_file_to_df(pathFile, size):\n",
    "    # Define the file path\n",
    "    path_file = 'C:\\\\GameOfLife\\\\boards\\\\' + pathFile\n",
    "\n",
    "    # Read binary data into a numpy array of 8-bit integers\n",
    "    binary_data = np.fromfile(path_file, dtype=np.uint8)\n",
    "\n",
    "    # Convert each integer to its binary representation\n",
    "    binary_data_binary_repr = np.array([list(np.binary_repr(x, width=8)) for x in binary_data], dtype=np.uint8).flatten()\n",
    "\n",
    "    # Calculate the total number of elements in each game board\n",
    "    board_elements = size*size\n",
    "\n",
    "    # Calculate the number of boards in the file\n",
    "    num_boards = len(binary_data_binary_repr) // board_elements\n",
    "\n",
    "    # Reshape the binary data to create a 3D array with dimensions (num_boards, board_size[0], board_size[1])\n",
    "    boards_data = binary_data_binary_repr[:num_boards * board_elements].reshape((num_boards, size, size))\n",
    "    \n",
    "    # Create a list of column names based on the board size\n",
    "    column_names = [f'({i},{j})' for i in range(size) for j in range(size)]\n",
    "\n",
    "    return pd.DataFrame(boards_data.reshape((num_boards, board_elements)), columns=column_names)\"\"\""
   ]
  },
  {
   "cell_type": "code",
   "execution_count": null,
   "metadata": {},
   "outputs": [
    {
     "data": {
      "text/plain": [
       "\"def split_board_to_series_df(size, amount_boards, amount_moves, num_dict, amount_board_in_series, ignore_range):\\n    new_columns = [f'Col_{i}' for i in range(1, amount_board_in_series * size*size + 1)]\\n    res_df = pd.DataFrame(columns=new_columns)\\n\\n    for i in range(amount_boards):\\n        print_numbers(i)\\n        # path to read\\n        path_file = path(size, i, amount_moves, num_dict)\\n        # read the file\\n        df = read_file_to_df(path_file, size)\\n        #after we delete the repeat boards, we split the board to series\\n        if(len(df)>ignore_range):\\n            #df = df[ignore_range:].drop_duplicates()\\n            #for i in range(len(df) - amount_board_in_series + 1):\\n            #    new_row = df.iloc[i:i + amount_board_in_series].values.flatten()\\n            #    new_df.loc[len(new_df)] = new_row     \\n            df = df[ignore_range:].drop_duplicates().reset_index(drop=True)\\n            df1 = df.iloc[:-1].reset_index(drop=True)\\n            df2 = df[1:].reset_index(drop=True)\\n            new_df = pd.concat([df1, df2], axis=1, ignore_index=True)\\n            new_df.columns = new_columns\\n            \\n            res_df = pd.concat([res_df,new_df])\\n    return res_df\\n\""
      ]
     },
     "metadata": {},
     "output_type": "display_data"
    }
   ],
   "source": [
    "\"\"\"def split_board_to_series_df(size, amount_boards, amount_moves, num_dict, amount_board_in_series, ignore_range):\n",
    "    new_columns = [f'Col_{i}' for i in range(1, amount_board_in_series * size*size + 1)]\n",
    "    res_df = pd.DataFrame(columns=new_columns)\n",
    "\n",
    "    for i in range(amount_boards):\n",
    "        print_numbers(i)\n",
    "        # path to read\n",
    "        path_file = path(size, i, amount_moves, num_dict)\n",
    "        # read the file\n",
    "        df = read_file_to_df(path_file, size)\n",
    "        #after we delete the repeat boards, we split the board to series\n",
    "        if(len(df)>ignore_range):\n",
    "            #df = df[ignore_range:].drop_duplicates()\n",
    "            #for i in range(len(df) - amount_board_in_series + 1):\n",
    "            #    new_row = df.iloc[i:i + amount_board_in_series].values.flatten()\n",
    "            #    new_df.loc[len(new_df)] = new_row     \n",
    "            df = df[ignore_range:].drop_duplicates().reset_index(drop=True)\n",
    "            df1 = df.iloc[:-1].reset_index(drop=True)\n",
    "            df2 = df[1:].reset_index(drop=True)\n",
    "            new_df = pd.concat([df1, df2], axis=1, ignore_index=True)\n",
    "            new_df.columns = new_columns\n",
    "            \n",
    "            res_df = pd.concat([res_df,new_df])\n",
    "    return res_df\n",
    "\"\"\""
   ]
  },
  {
   "cell_type": "code",
   "execution_count": null,
   "metadata": {},
   "outputs": [
    {
     "data": {
      "text/plain": [
       "\"def split_one_board_to_series_df(size, amount_moves, num_dict, amount_board_in_series, i, ignore_range):\\n    print_numbers(i)\\n    # path to read\\n    path_file = path(size, i, amount_moves, num_dict)\\n    # read the file\\n    df = read_file_to_df(path_file, size)\\n    #after we delete the repeat boards, we split the board to series\\n    if(len(df)>ignore_range):\\n        df = df[ignore_range:]\\n        df = df.drop_duplicates().reset_index(drop=True)\\n        df1 = df.iloc[:-1].reset_index(drop=True)\\n        df2 = df[1:].reset_index(drop=True)\\n        new_df = pd.concat([df1, df2], axis=1, ignore_index=True)\\n        new_columns = [f'Col_{i}' for i in range(1, amount_board_in_series * size*size + 1)]\\n        new_df.columns = new_columns\\n    return new_df\""
      ]
     },
     "metadata": {},
     "output_type": "display_data"
    }
   ],
   "source": [
    "\"\"\"def split_one_board_to_series_df(size, amount_moves, num_dict, amount_board_in_series, i, ignore_range):\n",
    "    print_numbers(i)\n",
    "    # path to read\n",
    "    path_file = path(size, i, amount_moves, num_dict)\n",
    "    # read the file\n",
    "    df = read_file_to_df(path_file, size)\n",
    "    #after we delete the repeat boards, we split the board to series\n",
    "    if(len(df)>ignore_range):\n",
    "        df = df[ignore_range:]\n",
    "        df = df.drop_duplicates().reset_index(drop=True)\n",
    "        df1 = df.iloc[:-1].reset_index(drop=True)\n",
    "        df2 = df[1:].reset_index(drop=True)\n",
    "        new_df = pd.concat([df1, df2], axis=1, ignore_index=True)\n",
    "        new_columns = [f'Col_{i}' for i in range(1, amount_board_in_series * size*size + 1)]\n",
    "        new_df.columns = new_columns\n",
    "    return new_df\"\"\""
   ]
  },
  {
   "cell_type": "code",
   "execution_count": null,
   "metadata": {},
   "outputs": [],
   "source": [
    "#small_df = split_one_board_to_series_df(5, AMOUNT_MOVES, NUM_DICT,2, 73, 0)"
   ]
  },
  {
   "cell_type": "code",
   "execution_count": null,
   "metadata": {},
   "outputs": [],
   "source": [
    "#small_df.values\n"
   ]
  }
 ],
 "metadata": {
  "language_info": {
   "name": "python"
  }
 },
 "nbformat": 4,
 "nbformat_minor": 2
}
